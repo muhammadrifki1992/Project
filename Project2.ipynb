{
 "metadata": {
  "language_info": {
   "codemirror_mode": {
    "name": "ipython",
    "version": 3
   },
   "file_extension": ".py",
   "mimetype": "text/x-python",
   "name": "python",
   "nbconvert_exporter": "python",
   "pygments_lexer": "ipython3",
   "version": "3.8.5"
  },
  "orig_nbformat": 2,
  "kernelspec": {
   "name": "python385jvsc74a57bd0ecf5722fdaf1897a315d257d89d94520bfcaa453217d5becf09b39e73618b0de",
   "display_name": "Python 3.8.5 64-bit ('base': conda)"
  }
 },
 "nbformat": 4,
 "nbformat_minor": 2,
 "cells": [
  {
   "source": [
    "# Telco Customer Churn\n",
    "## Focused customer retention programs\n",
    "<br>\n",
    "<br>\n",
    "\n",
    "Telco Customer Churn Prediction is to measure why customers are leaving Telco Business."
   ],
   "cell_type": "markdown",
   "metadata": {}
  },
  {
   "cell_type": "code",
   "execution_count": 2,
   "metadata": {},
   "outputs": [],
   "source": [
    "import numpy as np # linear algebra\n",
    "import pandas as pd # data processing, CSV file I/O (e.g. pd.read_csv)\n",
    "import seaborn as sns # For creating plots\n",
    "import matplotlib.pyplot as plt\n",
    "from matplotlib.patches import Rectangle\n",
    "import plotly.express as px\n",
    "from scipy import stats\n",
    "from typing import List\n",
    "import os"
   ]
  },
  {
   "cell_type": "code",
   "execution_count": 3,
   "metadata": {},
   "outputs": [
    {
     "output_type": "stream",
     "name": "stdout",
     "text": [
      "['WA_Fn-UseC_-Telco-Customer-Churn.csv']\n"
     ]
    }
   ],
   "source": [
    "print(os.listdir('../project/Telco Customer Churn'))"
   ]
  },
  {
   "cell_type": "code",
   "execution_count": 4,
   "metadata": {},
   "outputs": [],
   "source": [
    "df = pd.read_csv('../project/Telco Customer Churn/WA_Fn-UseC_-Telco-Customer-Churn.csv')"
   ]
  },
  {
   "cell_type": "code",
   "execution_count": 5,
   "metadata": {},
   "outputs": [
    {
     "output_type": "execute_result",
     "data": {
      "text/plain": [
       "      customerID  gender  SeniorCitizen Partner Dependents  tenure  \\\n",
       "5609  4818-DRBQT    Male              0     Yes         No      29   \n",
       "4620  8513-OLYGY    Male              0     Yes         No      72   \n",
       "1101  4712-UYOOI  Female              0     Yes        Yes      20   \n",
       "7002  9586-JGQKH  Female              0     Yes         No      64   \n",
       "6873  6369-MCAKO  Female              0     Yes        Yes      68   \n",
       "\n",
       "     PhoneService MultipleLines InternetService       OnlineSecurity  ...  \\\n",
       "5609          Yes           Yes     Fiber optic                   No  ...   \n",
       "4620          Yes           Yes     Fiber optic                  Yes  ...   \n",
       "1101          Yes            No              No  No internet service  ...   \n",
       "7002          Yes           Yes     Fiber optic                   No  ...   \n",
       "6873          Yes           Yes             DSL                  Yes  ...   \n",
       "\n",
       "         DeviceProtection          TechSupport          StreamingTV  \\\n",
       "5609                   No                   No                   No   \n",
       "4620                  Yes                  Yes                  Yes   \n",
       "1101  No internet service  No internet service  No internet service   \n",
       "7002                   No                  Yes                  Yes   \n",
       "6873                  Yes                  Yes                  Yes   \n",
       "\n",
       "          StreamingMovies        Contract PaperlessBilling  \\\n",
       "5609                   No  Month-to-month              Yes   \n",
       "4620                  Yes        Two year               No   \n",
       "1101  No internet service  Month-to-month               No   \n",
       "7002                  Yes        Two year              Yes   \n",
       "6873                  Yes        Two year              Yes   \n",
       "\n",
       "                  PaymentMethod MonthlyCharges  TotalCharges Churn  \n",
       "5609  Bank transfer (automatic)          80.15       2265.25   Yes  \n",
       "4620    Credit card (automatic)         115.80       8332.15    No  \n",
       "1101           Electronic check          20.00        417.65    No  \n",
       "7002  Bank transfer (automatic)         105.40       6794.75    No  \n",
       "6873  Bank transfer (automatic)          89.05        6185.8    No  \n",
       "\n",
       "[5 rows x 21 columns]"
      ],
      "text/html": "<div>\n<style scoped>\n    .dataframe tbody tr th:only-of-type {\n        vertical-align: middle;\n    }\n\n    .dataframe tbody tr th {\n        vertical-align: top;\n    }\n\n    .dataframe thead th {\n        text-align: right;\n    }\n</style>\n<table border=\"1\" class=\"dataframe\">\n  <thead>\n    <tr style=\"text-align: right;\">\n      <th></th>\n      <th>customerID</th>\n      <th>gender</th>\n      <th>SeniorCitizen</th>\n      <th>Partner</th>\n      <th>Dependents</th>\n      <th>tenure</th>\n      <th>PhoneService</th>\n      <th>MultipleLines</th>\n      <th>InternetService</th>\n      <th>OnlineSecurity</th>\n      <th>...</th>\n      <th>DeviceProtection</th>\n      <th>TechSupport</th>\n      <th>StreamingTV</th>\n      <th>StreamingMovies</th>\n      <th>Contract</th>\n      <th>PaperlessBilling</th>\n      <th>PaymentMethod</th>\n      <th>MonthlyCharges</th>\n      <th>TotalCharges</th>\n      <th>Churn</th>\n    </tr>\n  </thead>\n  <tbody>\n    <tr>\n      <th>5609</th>\n      <td>4818-DRBQT</td>\n      <td>Male</td>\n      <td>0</td>\n      <td>Yes</td>\n      <td>No</td>\n      <td>29</td>\n      <td>Yes</td>\n      <td>Yes</td>\n      <td>Fiber optic</td>\n      <td>No</td>\n      <td>...</td>\n      <td>No</td>\n      <td>No</td>\n      <td>No</td>\n      <td>No</td>\n      <td>Month-to-month</td>\n      <td>Yes</td>\n      <td>Bank transfer (automatic)</td>\n      <td>80.15</td>\n      <td>2265.25</td>\n      <td>Yes</td>\n    </tr>\n    <tr>\n      <th>4620</th>\n      <td>8513-OLYGY</td>\n      <td>Male</td>\n      <td>0</td>\n      <td>Yes</td>\n      <td>No</td>\n      <td>72</td>\n      <td>Yes</td>\n      <td>Yes</td>\n      <td>Fiber optic</td>\n      <td>Yes</td>\n      <td>...</td>\n      <td>Yes</td>\n      <td>Yes</td>\n      <td>Yes</td>\n      <td>Yes</td>\n      <td>Two year</td>\n      <td>No</td>\n      <td>Credit card (automatic)</td>\n      <td>115.80</td>\n      <td>8332.15</td>\n      <td>No</td>\n    </tr>\n    <tr>\n      <th>1101</th>\n      <td>4712-UYOOI</td>\n      <td>Female</td>\n      <td>0</td>\n      <td>Yes</td>\n      <td>Yes</td>\n      <td>20</td>\n      <td>Yes</td>\n      <td>No</td>\n      <td>No</td>\n      <td>No internet service</td>\n      <td>...</td>\n      <td>No internet service</td>\n      <td>No internet service</td>\n      <td>No internet service</td>\n      <td>No internet service</td>\n      <td>Month-to-month</td>\n      <td>No</td>\n      <td>Electronic check</td>\n      <td>20.00</td>\n      <td>417.65</td>\n      <td>No</td>\n    </tr>\n    <tr>\n      <th>7002</th>\n      <td>9586-JGQKH</td>\n      <td>Female</td>\n      <td>0</td>\n      <td>Yes</td>\n      <td>No</td>\n      <td>64</td>\n      <td>Yes</td>\n      <td>Yes</td>\n      <td>Fiber optic</td>\n      <td>No</td>\n      <td>...</td>\n      <td>No</td>\n      <td>Yes</td>\n      <td>Yes</td>\n      <td>Yes</td>\n      <td>Two year</td>\n      <td>Yes</td>\n      <td>Bank transfer (automatic)</td>\n      <td>105.40</td>\n      <td>6794.75</td>\n      <td>No</td>\n    </tr>\n    <tr>\n      <th>6873</th>\n      <td>6369-MCAKO</td>\n      <td>Female</td>\n      <td>0</td>\n      <td>Yes</td>\n      <td>Yes</td>\n      <td>68</td>\n      <td>Yes</td>\n      <td>Yes</td>\n      <td>DSL</td>\n      <td>Yes</td>\n      <td>...</td>\n      <td>Yes</td>\n      <td>Yes</td>\n      <td>Yes</td>\n      <td>Yes</td>\n      <td>Two year</td>\n      <td>Yes</td>\n      <td>Bank transfer (automatic)</td>\n      <td>89.05</td>\n      <td>6185.8</td>\n      <td>No</td>\n    </tr>\n  </tbody>\n</table>\n<p>5 rows × 21 columns</p>\n</div>"
     },
     "metadata": {},
     "execution_count": 5
    }
   ],
   "source": [
    "df.sample(5)"
   ]
  },
  {
   "cell_type": "code",
   "execution_count": 6,
   "metadata": {},
   "outputs": [
    {
     "output_type": "execute_result",
     "data": {
      "text/plain": [
       "array(['customerID', 'gender', 'SeniorCitizen', 'Partner', 'Dependents',\n",
       "       'tenure', 'PhoneService', 'MultipleLines', 'InternetService',\n",
       "       'OnlineSecurity', 'OnlineBackup', 'DeviceProtection',\n",
       "       'TechSupport', 'StreamingTV', 'StreamingMovies', 'Contract',\n",
       "       'PaperlessBilling', 'PaymentMethod', 'MonthlyCharges',\n",
       "       'TotalCharges', 'Churn'], dtype=object)"
      ]
     },
     "metadata": {},
     "execution_count": 6
    }
   ],
   "source": [
    "df.columns.values"
   ]
  },
  {
   "source": [
    "## **1. Exploratory Data Analysis**"
   ],
   "cell_type": "markdown",
   "metadata": {}
  },
  {
   "source": [
    "### 1.1 Overview\n",
    "* `customerID` is the unique id of the row and it doesn't have any effect on target\n",
    "* `gender` Whether the customer is a male or a female\n",
    "* `SeniorCitizen` Whether the customer is a senior citizen or not (1, 0)\n",
    "* `Partner` Whether the customer has a partner or not (Yes, No)\n",
    "* `Dependents` Whether the customer has dependents or not (Yes, No)\n",
    "* `Tenure` Number of months the customer has stayed with the company\n",
    "* `PhoneService` Whether the customer has a phone service or not (Yes, No)\n",
    "* `MultipleLines` Whether the customer has multiple lines or not (Yes, No, No phone service)\n",
    "* `InternetService` Customer’s internet service provider (DSL, Fiber optic, No)\n",
    "* `OnlineSecurity` Whether the customer has online security or not (Yes, No, No internet service)\n",
    "* `OnlineBackup` Whether the customer has online backup or not (Yes, No, No internet service)\n",
    "* `DeviceProtection` Whether the customer has device protection or not (Yes, No, No internet service)\n",
    "* `TechSupport` Whether the customer has tech support or not (Yes, No, No internet service)\n",
    "* `StreamingTV` Whether the customer has streaming TV or not (Yes, No, No internet service)\n",
    "* `StreamingMovies` Whether the customer has streaming movies or not (Yes, No, No internet service)\n",
    "* `Contract` The contract term of the customer (Month-to-month, One year, Two year)\n",
    "* `PaperlessBilling` Whether the customer has paperless billing or not (Yes, No)\n",
    "* `PaymentMethod` The customer’s payment method (Electronic check, Mailed check, Bank transfer (automatic), Credit card (automatic))\n",
    "* `MonthlyCharges` The amount charged to the customer monthly\n",
    "* `TotalCharges` The total amount charged to the customer\n",
    "* `Churn` Whether the customer churned or not (Yes or No)"
   ],
   "cell_type": "markdown",
   "metadata": {}
  },
  {
   "cell_type": "code",
   "execution_count": 7,
   "metadata": {},
   "outputs": [
    {
     "output_type": "stream",
     "name": "stdout",
     "text": [
      "<class 'pandas.core.frame.DataFrame'>\nRangeIndex: 7043 entries, 0 to 7042\nData columns (total 21 columns):\n #   Column            Non-Null Count  Dtype  \n---  ------            --------------  -----  \n 0   customerID        7043 non-null   object \n 1   gender            7043 non-null   object \n 2   SeniorCitizen     7043 non-null   int64  \n 3   Partner           7043 non-null   object \n 4   Dependents        7043 non-null   object \n 5   tenure            7043 non-null   int64  \n 6   PhoneService      7043 non-null   object \n 7   MultipleLines     7043 non-null   object \n 8   InternetService   7043 non-null   object \n 9   OnlineSecurity    7043 non-null   object \n 10  OnlineBackup      7043 non-null   object \n 11  DeviceProtection  7043 non-null   object \n 12  TechSupport       7043 non-null   object \n 13  StreamingTV       7043 non-null   object \n 14  StreamingMovies   7043 non-null   object \n 15  Contract          7043 non-null   object \n 16  PaperlessBilling  7043 non-null   object \n 17  PaymentMethod     7043 non-null   object \n 18  MonthlyCharges    7043 non-null   float64\n 19  TotalCharges      7043 non-null   object \n 20  Churn             7043 non-null   object \ndtypes: float64(1), int64(2), object(18)\nmemory usage: 1.1+ MB\n"
     ]
    }
   ],
   "source": [
    "df.info()"
   ]
  },
  {
   "cell_type": "code",
   "execution_count": 8,
   "metadata": {},
   "outputs": [],
   "source": [
    "#Show all columns on dataframe\n",
    "pd.set_option('display.max_columns', None)\n",
    "\n",
    "#Assign new dataframe\n",
    "df1 = df.copy()\n",
    "\n",
    "#Drop customerID\n",
    "df1.drop('customerID', axis='columns', inplace=True)"
   ]
  },
  {
   "source": [
    "### 1.2 Memory Optimization"
   ],
   "cell_type": "markdown",
   "metadata": {}
  },
  {
   "cell_type": "code",
   "execution_count": 9,
   "metadata": {},
   "outputs": [
    {
     "output_type": "stream",
     "name": "stdout",
     "text": [
      "<class 'pandas.core.frame.DataFrame'>\nRangeIndex: 7043 entries, 0 to 7042\nData columns (total 20 columns):\n #   Column            Non-Null Count  Dtype   \n---  ------            --------------  -----   \n 0   gender            7043 non-null   category\n 1   SeniorCitizen     7043 non-null   category\n 2   Partner           7043 non-null   category\n 3   Dependents        7043 non-null   category\n 4   tenure            7043 non-null   int8    \n 5   PhoneService      7043 non-null   category\n 6   MultipleLines     7043 non-null   category\n 7   InternetService   7043 non-null   category\n 8   OnlineSecurity    7043 non-null   category\n 9   OnlineBackup      7043 non-null   category\n 10  DeviceProtection  7043 non-null   category\n 11  TechSupport       7043 non-null   category\n 12  StreamingTV       7043 non-null   category\n 13  StreamingMovies   7043 non-null   category\n 14  Contract          7043 non-null   category\n 15  PaperlessBilling  7043 non-null   category\n 16  PaymentMethod     7043 non-null   category\n 17  MonthlyCharges    7043 non-null   float32 \n 18  TotalCharges      7032 non-null   float64 \n 19  Churn             7043 non-null   category\ndtypes: category(17), float32(1), float64(1), int8(1)\nmemory usage: 208.7 KB\n"
     ]
    }
   ],
   "source": [
    "def optimize_floats(df1: pd.DataFrame) -> pd.DataFrame:\n",
    "    floats = df1.select_dtypes(include=['float64']).columns.tolist()\n",
    "    df1[floats] = df1[floats].apply(pd.to_numeric, downcast='float')\n",
    "    return df1\n",
    "\n",
    "def optimize_ints(df1: pd.DataFrame) -> pd.DataFrame:\n",
    "    ints = df1.select_dtypes(include=['int64']).columns.tolist()\n",
    "    df1[ints] = df1[ints].apply(pd.to_numeric, downcast='integer')\n",
    "    return df1\n",
    "\n",
    "def optimize_objects(df1: pd.DataFrame, datetime_features: List[str]) -> pd.DataFrame:\n",
    "    for col in df1.select_dtypes(include=['object']):\n",
    "        if col not in datetime_features:\n",
    "            num_unique_values = len(df1[col].unique())\n",
    "            num_total_values = len(df1[col])\n",
    "            if float(num_unique_values) / num_total_values < 0.5:\n",
    "                df1[col] = df1[col].astype('category')\n",
    "        else:\n",
    "            df1[col] = pd.to_datetime(df1[col])\n",
    "    return df1\n",
    "\n",
    "def optimize(df1: pd.DataFrame, datetime_features: List[str] = []):\n",
    "    return optimize_floats(optimize_ints(optimize_objects(df1, datetime_features)))\n",
    "\n",
    "df1 = optimize(df1)\n",
    "\n",
    "# Converting Senior Citizen to a categorical data type.\n",
    "df1['SeniorCitizen'] = df1['SeniorCitizen'].astype('category')\n",
    "\n",
    "# Converting Total Charges to a numerical data type.\n",
    "df1.TotalCharges = pd.to_numeric(df1.TotalCharges, errors='coerce')\n",
    "\n",
    "df1.info()"
   ]
  },
  {
   "source": [
    "### 1.3 Data Cleaning"
   ],
   "cell_type": "markdown",
   "metadata": {}
  },
  {
   "cell_type": "code",
   "execution_count": 10,
   "metadata": {},
   "outputs": [
    {
     "output_type": "execute_result",
     "data": {
      "text/plain": [
       "                  Missing  Non-Missing   Percent    Dtypes\n",
       "TotalCharges           11         7032  0.156183   float64\n",
       "gender                  0         7043  0.000000  category\n",
       "SeniorCitizen           0         7043  0.000000  category\n",
       "MonthlyCharges          0         7043  0.000000   float32\n",
       "PaymentMethod           0         7043  0.000000  category\n",
       "PaperlessBilling        0         7043  0.000000  category\n",
       "Contract                0         7043  0.000000  category\n",
       "StreamingMovies         0         7043  0.000000  category\n",
       "StreamingTV             0         7043  0.000000  category\n",
       "TechSupport             0         7043  0.000000  category\n",
       "DeviceProtection        0         7043  0.000000  category\n",
       "OnlineBackup            0         7043  0.000000  category\n",
       "OnlineSecurity          0         7043  0.000000  category\n",
       "InternetService         0         7043  0.000000  category\n",
       "MultipleLines           0         7043  0.000000  category\n",
       "PhoneService            0         7043  0.000000  category\n",
       "tenure                  0         7043  0.000000      int8\n",
       "Dependents              0         7043  0.000000  category\n",
       "Partner                 0         7043  0.000000  category\n",
       "Churn                   0         7043  0.000000  category"
      ],
      "text/html": "<div>\n<style scoped>\n    .dataframe tbody tr th:only-of-type {\n        vertical-align: middle;\n    }\n\n    .dataframe tbody tr th {\n        vertical-align: top;\n    }\n\n    .dataframe thead th {\n        text-align: right;\n    }\n</style>\n<table border=\"1\" class=\"dataframe\">\n  <thead>\n    <tr style=\"text-align: right;\">\n      <th></th>\n      <th>Missing</th>\n      <th>Non-Missing</th>\n      <th>Percent</th>\n      <th>Dtypes</th>\n    </tr>\n  </thead>\n  <tbody>\n    <tr>\n      <th>TotalCharges</th>\n      <td>11</td>\n      <td>7032</td>\n      <td>0.156183</td>\n      <td>float64</td>\n    </tr>\n    <tr>\n      <th>gender</th>\n      <td>0</td>\n      <td>7043</td>\n      <td>0.000000</td>\n      <td>category</td>\n    </tr>\n    <tr>\n      <th>SeniorCitizen</th>\n      <td>0</td>\n      <td>7043</td>\n      <td>0.000000</td>\n      <td>category</td>\n    </tr>\n    <tr>\n      <th>MonthlyCharges</th>\n      <td>0</td>\n      <td>7043</td>\n      <td>0.000000</td>\n      <td>float32</td>\n    </tr>\n    <tr>\n      <th>PaymentMethod</th>\n      <td>0</td>\n      <td>7043</td>\n      <td>0.000000</td>\n      <td>category</td>\n    </tr>\n    <tr>\n      <th>PaperlessBilling</th>\n      <td>0</td>\n      <td>7043</td>\n      <td>0.000000</td>\n      <td>category</td>\n    </tr>\n    <tr>\n      <th>Contract</th>\n      <td>0</td>\n      <td>7043</td>\n      <td>0.000000</td>\n      <td>category</td>\n    </tr>\n    <tr>\n      <th>StreamingMovies</th>\n      <td>0</td>\n      <td>7043</td>\n      <td>0.000000</td>\n      <td>category</td>\n    </tr>\n    <tr>\n      <th>StreamingTV</th>\n      <td>0</td>\n      <td>7043</td>\n      <td>0.000000</td>\n      <td>category</td>\n    </tr>\n    <tr>\n      <th>TechSupport</th>\n      <td>0</td>\n      <td>7043</td>\n      <td>0.000000</td>\n      <td>category</td>\n    </tr>\n    <tr>\n      <th>DeviceProtection</th>\n      <td>0</td>\n      <td>7043</td>\n      <td>0.000000</td>\n      <td>category</td>\n    </tr>\n    <tr>\n      <th>OnlineBackup</th>\n      <td>0</td>\n      <td>7043</td>\n      <td>0.000000</td>\n      <td>category</td>\n    </tr>\n    <tr>\n      <th>OnlineSecurity</th>\n      <td>0</td>\n      <td>7043</td>\n      <td>0.000000</td>\n      <td>category</td>\n    </tr>\n    <tr>\n      <th>InternetService</th>\n      <td>0</td>\n      <td>7043</td>\n      <td>0.000000</td>\n      <td>category</td>\n    </tr>\n    <tr>\n      <th>MultipleLines</th>\n      <td>0</td>\n      <td>7043</td>\n      <td>0.000000</td>\n      <td>category</td>\n    </tr>\n    <tr>\n      <th>PhoneService</th>\n      <td>0</td>\n      <td>7043</td>\n      <td>0.000000</td>\n      <td>category</td>\n    </tr>\n    <tr>\n      <th>tenure</th>\n      <td>0</td>\n      <td>7043</td>\n      <td>0.000000</td>\n      <td>int8</td>\n    </tr>\n    <tr>\n      <th>Dependents</th>\n      <td>0</td>\n      <td>7043</td>\n      <td>0.000000</td>\n      <td>category</td>\n    </tr>\n    <tr>\n      <th>Partner</th>\n      <td>0</td>\n      <td>7043</td>\n      <td>0.000000</td>\n      <td>category</td>\n    </tr>\n    <tr>\n      <th>Churn</th>\n      <td>0</td>\n      <td>7043</td>\n      <td>0.000000</td>\n      <td>category</td>\n    </tr>\n  </tbody>\n</table>\n</div>"
     },
     "metadata": {},
     "execution_count": 10
    }
   ],
   "source": [
    "#Handling missing value\n",
    "missing = df1.isnull().sum().sort_values(ascending = False)\n",
    "non_missing = df1.notnull().sum()\n",
    "percent = (df1.isnull().sum()/df1.isnull().count()*100).sort_values(ascending = False)\n",
    "dtypes = df1.dtypes\n",
    "missing_df = pd.concat([missing, non_missing, percent, dtypes], axis=1, keys=['Missing', 'Non-Missing', 'Percent', 'Dtypes'])\n",
    "missing_df"
   ]
  },
  {
   "cell_type": "code",
   "execution_count": 11,
   "metadata": {},
   "outputs": [
    {
     "output_type": "execute_result",
     "data": {
      "text/plain": [
       "      gender SeniorCitizen Partner Dependents  tenure PhoneService  \\\n",
       "488   Female             0     Yes        Yes       0           No   \n",
       "753     Male             0      No        Yes       0          Yes   \n",
       "936   Female             0     Yes        Yes       0          Yes   \n",
       "1082    Male             0     Yes        Yes       0          Yes   \n",
       "1340  Female             0     Yes        Yes       0           No   \n",
       "3331    Male             0     Yes        Yes       0          Yes   \n",
       "3826    Male             0     Yes        Yes       0          Yes   \n",
       "4380  Female             0     Yes        Yes       0          Yes   \n",
       "5218    Male             0     Yes        Yes       0          Yes   \n",
       "6670  Female             0     Yes        Yes       0          Yes   \n",
       "6754    Male             0      No        Yes       0          Yes   \n",
       "\n",
       "         MultipleLines InternetService       OnlineSecurity  \\\n",
       "488   No phone service             DSL                  Yes   \n",
       "753                 No              No  No internet service   \n",
       "936                 No             DSL                  Yes   \n",
       "1082               Yes              No  No internet service   \n",
       "1340  No phone service             DSL                  Yes   \n",
       "3331                No              No  No internet service   \n",
       "3826               Yes              No  No internet service   \n",
       "4380                No              No  No internet service   \n",
       "5218                No              No  No internet service   \n",
       "6670               Yes             DSL                   No   \n",
       "6754               Yes             DSL                  Yes   \n",
       "\n",
       "             OnlineBackup     DeviceProtection          TechSupport  \\\n",
       "488                    No                  Yes                  Yes   \n",
       "753   No internet service  No internet service  No internet service   \n",
       "936                   Yes                  Yes                   No   \n",
       "1082  No internet service  No internet service  No internet service   \n",
       "1340                  Yes                  Yes                  Yes   \n",
       "3331  No internet service  No internet service  No internet service   \n",
       "3826  No internet service  No internet service  No internet service   \n",
       "4380  No internet service  No internet service  No internet service   \n",
       "5218  No internet service  No internet service  No internet service   \n",
       "6670                  Yes                  Yes                  Yes   \n",
       "6754                  Yes                   No                  Yes   \n",
       "\n",
       "              StreamingTV      StreamingMovies  Contract PaperlessBilling  \\\n",
       "488                   Yes                   No  Two year              Yes   \n",
       "753   No internet service  No internet service  Two year               No   \n",
       "936                   Yes                  Yes  Two year               No   \n",
       "1082  No internet service  No internet service  Two year               No   \n",
       "1340                  Yes                   No  Two year               No   \n",
       "3331  No internet service  No internet service  Two year               No   \n",
       "3826  No internet service  No internet service  Two year               No   \n",
       "4380  No internet service  No internet service  Two year               No   \n",
       "5218  No internet service  No internet service  One year              Yes   \n",
       "6670                  Yes                   No  Two year               No   \n",
       "6754                   No                   No  Two year              Yes   \n",
       "\n",
       "                  PaymentMethod  MonthlyCharges  TotalCharges Churn  \n",
       "488   Bank transfer (automatic)       52.549999           NaN    No  \n",
       "753                Mailed check       20.250000           NaN    No  \n",
       "936                Mailed check       80.849998           NaN    No  \n",
       "1082               Mailed check       25.750000           NaN    No  \n",
       "1340    Credit card (automatic)       56.049999           NaN    No  \n",
       "3331               Mailed check       19.850000           NaN    No  \n",
       "3826               Mailed check       25.350000           NaN    No  \n",
       "4380               Mailed check       20.000000           NaN    No  \n",
       "5218               Mailed check       19.700001           NaN    No  \n",
       "6670               Mailed check       73.349998           NaN    No  \n",
       "6754  Bank transfer (automatic)       61.900002           NaN    No  "
      ],
      "text/html": "<div>\n<style scoped>\n    .dataframe tbody tr th:only-of-type {\n        vertical-align: middle;\n    }\n\n    .dataframe tbody tr th {\n        vertical-align: top;\n    }\n\n    .dataframe thead th {\n        text-align: right;\n    }\n</style>\n<table border=\"1\" class=\"dataframe\">\n  <thead>\n    <tr style=\"text-align: right;\">\n      <th></th>\n      <th>gender</th>\n      <th>SeniorCitizen</th>\n      <th>Partner</th>\n      <th>Dependents</th>\n      <th>tenure</th>\n      <th>PhoneService</th>\n      <th>MultipleLines</th>\n      <th>InternetService</th>\n      <th>OnlineSecurity</th>\n      <th>OnlineBackup</th>\n      <th>DeviceProtection</th>\n      <th>TechSupport</th>\n      <th>StreamingTV</th>\n      <th>StreamingMovies</th>\n      <th>Contract</th>\n      <th>PaperlessBilling</th>\n      <th>PaymentMethod</th>\n      <th>MonthlyCharges</th>\n      <th>TotalCharges</th>\n      <th>Churn</th>\n    </tr>\n  </thead>\n  <tbody>\n    <tr>\n      <th>488</th>\n      <td>Female</td>\n      <td>0</td>\n      <td>Yes</td>\n      <td>Yes</td>\n      <td>0</td>\n      <td>No</td>\n      <td>No phone service</td>\n      <td>DSL</td>\n      <td>Yes</td>\n      <td>No</td>\n      <td>Yes</td>\n      <td>Yes</td>\n      <td>Yes</td>\n      <td>No</td>\n      <td>Two year</td>\n      <td>Yes</td>\n      <td>Bank transfer (automatic)</td>\n      <td>52.549999</td>\n      <td>NaN</td>\n      <td>No</td>\n    </tr>\n    <tr>\n      <th>753</th>\n      <td>Male</td>\n      <td>0</td>\n      <td>No</td>\n      <td>Yes</td>\n      <td>0</td>\n      <td>Yes</td>\n      <td>No</td>\n      <td>No</td>\n      <td>No internet service</td>\n      <td>No internet service</td>\n      <td>No internet service</td>\n      <td>No internet service</td>\n      <td>No internet service</td>\n      <td>No internet service</td>\n      <td>Two year</td>\n      <td>No</td>\n      <td>Mailed check</td>\n      <td>20.250000</td>\n      <td>NaN</td>\n      <td>No</td>\n    </tr>\n    <tr>\n      <th>936</th>\n      <td>Female</td>\n      <td>0</td>\n      <td>Yes</td>\n      <td>Yes</td>\n      <td>0</td>\n      <td>Yes</td>\n      <td>No</td>\n      <td>DSL</td>\n      <td>Yes</td>\n      <td>Yes</td>\n      <td>Yes</td>\n      <td>No</td>\n      <td>Yes</td>\n      <td>Yes</td>\n      <td>Two year</td>\n      <td>No</td>\n      <td>Mailed check</td>\n      <td>80.849998</td>\n      <td>NaN</td>\n      <td>No</td>\n    </tr>\n    <tr>\n      <th>1082</th>\n      <td>Male</td>\n      <td>0</td>\n      <td>Yes</td>\n      <td>Yes</td>\n      <td>0</td>\n      <td>Yes</td>\n      <td>Yes</td>\n      <td>No</td>\n      <td>No internet service</td>\n      <td>No internet service</td>\n      <td>No internet service</td>\n      <td>No internet service</td>\n      <td>No internet service</td>\n      <td>No internet service</td>\n      <td>Two year</td>\n      <td>No</td>\n      <td>Mailed check</td>\n      <td>25.750000</td>\n      <td>NaN</td>\n      <td>No</td>\n    </tr>\n    <tr>\n      <th>1340</th>\n      <td>Female</td>\n      <td>0</td>\n      <td>Yes</td>\n      <td>Yes</td>\n      <td>0</td>\n      <td>No</td>\n      <td>No phone service</td>\n      <td>DSL</td>\n      <td>Yes</td>\n      <td>Yes</td>\n      <td>Yes</td>\n      <td>Yes</td>\n      <td>Yes</td>\n      <td>No</td>\n      <td>Two year</td>\n      <td>No</td>\n      <td>Credit card (automatic)</td>\n      <td>56.049999</td>\n      <td>NaN</td>\n      <td>No</td>\n    </tr>\n    <tr>\n      <th>3331</th>\n      <td>Male</td>\n      <td>0</td>\n      <td>Yes</td>\n      <td>Yes</td>\n      <td>0</td>\n      <td>Yes</td>\n      <td>No</td>\n      <td>No</td>\n      <td>No internet service</td>\n      <td>No internet service</td>\n      <td>No internet service</td>\n      <td>No internet service</td>\n      <td>No internet service</td>\n      <td>No internet service</td>\n      <td>Two year</td>\n      <td>No</td>\n      <td>Mailed check</td>\n      <td>19.850000</td>\n      <td>NaN</td>\n      <td>No</td>\n    </tr>\n    <tr>\n      <th>3826</th>\n      <td>Male</td>\n      <td>0</td>\n      <td>Yes</td>\n      <td>Yes</td>\n      <td>0</td>\n      <td>Yes</td>\n      <td>Yes</td>\n      <td>No</td>\n      <td>No internet service</td>\n      <td>No internet service</td>\n      <td>No internet service</td>\n      <td>No internet service</td>\n      <td>No internet service</td>\n      <td>No internet service</td>\n      <td>Two year</td>\n      <td>No</td>\n      <td>Mailed check</td>\n      <td>25.350000</td>\n      <td>NaN</td>\n      <td>No</td>\n    </tr>\n    <tr>\n      <th>4380</th>\n      <td>Female</td>\n      <td>0</td>\n      <td>Yes</td>\n      <td>Yes</td>\n      <td>0</td>\n      <td>Yes</td>\n      <td>No</td>\n      <td>No</td>\n      <td>No internet service</td>\n      <td>No internet service</td>\n      <td>No internet service</td>\n      <td>No internet service</td>\n      <td>No internet service</td>\n      <td>No internet service</td>\n      <td>Two year</td>\n      <td>No</td>\n      <td>Mailed check</td>\n      <td>20.000000</td>\n      <td>NaN</td>\n      <td>No</td>\n    </tr>\n    <tr>\n      <th>5218</th>\n      <td>Male</td>\n      <td>0</td>\n      <td>Yes</td>\n      <td>Yes</td>\n      <td>0</td>\n      <td>Yes</td>\n      <td>No</td>\n      <td>No</td>\n      <td>No internet service</td>\n      <td>No internet service</td>\n      <td>No internet service</td>\n      <td>No internet service</td>\n      <td>No internet service</td>\n      <td>No internet service</td>\n      <td>One year</td>\n      <td>Yes</td>\n      <td>Mailed check</td>\n      <td>19.700001</td>\n      <td>NaN</td>\n      <td>No</td>\n    </tr>\n    <tr>\n      <th>6670</th>\n      <td>Female</td>\n      <td>0</td>\n      <td>Yes</td>\n      <td>Yes</td>\n      <td>0</td>\n      <td>Yes</td>\n      <td>Yes</td>\n      <td>DSL</td>\n      <td>No</td>\n      <td>Yes</td>\n      <td>Yes</td>\n      <td>Yes</td>\n      <td>Yes</td>\n      <td>No</td>\n      <td>Two year</td>\n      <td>No</td>\n      <td>Mailed check</td>\n      <td>73.349998</td>\n      <td>NaN</td>\n      <td>No</td>\n    </tr>\n    <tr>\n      <th>6754</th>\n      <td>Male</td>\n      <td>0</td>\n      <td>No</td>\n      <td>Yes</td>\n      <td>0</td>\n      <td>Yes</td>\n      <td>Yes</td>\n      <td>DSL</td>\n      <td>Yes</td>\n      <td>Yes</td>\n      <td>No</td>\n      <td>Yes</td>\n      <td>No</td>\n      <td>No</td>\n      <td>Two year</td>\n      <td>Yes</td>\n      <td>Bank transfer (automatic)</td>\n      <td>61.900002</td>\n      <td>NaN</td>\n      <td>No</td>\n    </tr>\n  </tbody>\n</table>\n</div>"
     },
     "metadata": {},
     "execution_count": 11
    }
   ],
   "source": [
    "df1[pd.to_numeric(df1.TotalCharges, errors='coerce').isnull()]"
   ]
  },
  {
   "cell_type": "code",
   "execution_count": 12,
   "metadata": {},
   "outputs": [],
   "source": [
    "#Removing missing values \n",
    "df1.dropna(inplace=True)"
   ]
  },
  {
   "cell_type": "code",
   "execution_count": 13,
   "metadata": {},
   "outputs": [
    {
     "output_type": "stream",
     "name": "stdout",
     "text": [
      "gender : ['Female', 'Male']\nCategories (2, object): ['Female', 'Male'] \n\nSeniorCitizen : [0, 1]\nCategories (2, int64): [0, 1] \n\nPartner : ['Yes', 'No']\nCategories (2, object): ['Yes', 'No'] \n\nDependents : ['No', 'Yes']\nCategories (2, object): ['No', 'Yes'] \n\ntenure : [ 1 34  2 45  8 22 10 28 62 13 16 58 49 25 69 52 71 21 12 30 47 72 17 27\n  5 46 11 70 63 43 15 60 18 66  9  3 31 50 64 56  7 42 35 48 29 65 38 68\n 32 55 37 36 41  6  4 33 67 23 57 61 14 20 53 40 59 24 44 19 54 51 26 39] \n\nPhoneService : ['No', 'Yes']\nCategories (2, object): ['No', 'Yes'] \n\nMultipleLines : ['No phone service', 'No', 'Yes']\nCategories (3, object): ['No phone service', 'No', 'Yes'] \n\nInternetService : ['DSL', 'Fiber optic', 'No']\nCategories (3, object): ['DSL', 'Fiber optic', 'No'] \n\nOnlineSecurity : ['No', 'Yes', 'No internet service']\nCategories (3, object): ['No', 'Yes', 'No internet service'] \n\nOnlineBackup : ['Yes', 'No', 'No internet service']\nCategories (3, object): ['Yes', 'No', 'No internet service'] \n\nDeviceProtection : ['No', 'Yes', 'No internet service']\nCategories (3, object): ['No', 'Yes', 'No internet service'] \n\nTechSupport : ['No', 'Yes', 'No internet service']\nCategories (3, object): ['No', 'Yes', 'No internet service'] \n\nStreamingTV : ['No', 'Yes', 'No internet service']\nCategories (3, object): ['No', 'Yes', 'No internet service'] \n\nStreamingMovies : ['No', 'Yes', 'No internet service']\nCategories (3, object): ['No', 'Yes', 'No internet service'] \n\nContract : ['Month-to-month', 'One year', 'Two year']\nCategories (3, object): ['Month-to-month', 'One year', 'Two year'] \n\nPaperlessBilling : ['Yes', 'No']\nCategories (2, object): ['Yes', 'No'] \n\nPaymentMethod : ['Electronic check', 'Mailed check', 'Bank transfer (automatic)', 'Credit card (automatic)']\nCategories (4, object): ['Electronic check', 'Mailed check', 'Bank transfer (automatic)', 'Credit card (automatic)'] \n\nMonthlyCharges : [29.85 56.95 53.85 ... 63.1  44.2  78.7 ] \n\nTotalCharges : [  29.85 1889.5   108.15 ...  346.45  306.6  6844.5 ] \n\nChurn : ['No', 'Yes']\nCategories (2, object): ['No', 'Yes'] \n\n"
     ]
    }
   ],
   "source": [
    "#Unique values from all columns\n",
    "def print_unique_col_values(df):\n",
    "    for column in df:\n",
    "        print(f'{column} : {df[column].unique()} \\n')\n",
    "\n",
    "print_unique_col_values(df1)"
   ]
  },
  {
   "cell_type": "code",
   "execution_count": 14,
   "metadata": {},
   "outputs": [],
   "source": [
    "#Fix inconsistent data entry\n",
    "df1.replace('No phone service', 'No', inplace=True)\n",
    "df1.replace('No internet service', 'No', inplace=True)"
   ]
  },
  {
   "cell_type": "code",
   "execution_count": 15,
   "metadata": {},
   "outputs": [
    {
     "output_type": "stream",
     "name": "stdout",
     "text": [
      "gender : ['Female', 'Male']\nCategories (2, object): ['Female', 'Male'] \n\nSeniorCitizen : [0, 1]\nCategories (2, int64): [0, 1] \n\nPartner : ['Yes', 'No']\nCategories (2, object): ['Yes', 'No'] \n\nDependents : ['No', 'Yes']\nCategories (2, object): ['No', 'Yes'] \n\ntenure : [ 1 34  2 45  8 22 10 28 62 13 16 58 49 25 69 52 71 21 12 30 47 72 17 27\n  5 46 11 70 63 43 15 60 18 66  9  3 31 50 64 56  7 42 35 48 29 65 38 68\n 32 55 37 36 41  6  4 33 67 23 57 61 14 20 53 40 59 24 44 19 54 51 26 39] \n\nPhoneService : ['No', 'Yes']\nCategories (2, object): ['No', 'Yes'] \n\nMultipleLines : ['No', 'Yes']\nCategories (2, object): ['No', 'Yes'] \n\nInternetService : ['DSL', 'Fiber optic', 'No']\nCategories (3, object): ['DSL', 'Fiber optic', 'No'] \n\nOnlineSecurity : ['No', 'Yes']\nCategories (2, object): ['No', 'Yes'] \n\nOnlineBackup : ['Yes', 'No']\nCategories (2, object): ['Yes', 'No'] \n\nDeviceProtection : ['No', 'Yes']\nCategories (2, object): ['No', 'Yes'] \n\nTechSupport : ['No', 'Yes']\nCategories (2, object): ['No', 'Yes'] \n\nStreamingTV : ['No', 'Yes']\nCategories (2, object): ['No', 'Yes'] \n\nStreamingMovies : ['No', 'Yes']\nCategories (2, object): ['No', 'Yes'] \n\nContract : ['Month-to-month', 'One year', 'Two year']\nCategories (3, object): ['Month-to-month', 'One year', 'Two year'] \n\nPaperlessBilling : ['Yes', 'No']\nCategories (2, object): ['Yes', 'No'] \n\nPaymentMethod : ['Electronic check', 'Mailed check', 'Bank transfer (automatic)', 'Credit card (automatic)']\nCategories (4, object): ['Electronic check', 'Mailed check', 'Bank transfer (automatic)', 'Credit card (automatic)'] \n\nMonthlyCharges : [29.85 56.95 53.85 ... 63.1  44.2  78.7 ] \n\nTotalCharges : [  29.85 1889.5   108.15 ...  346.45  306.6  6844.5 ] \n\nChurn : ['No', 'Yes']\nCategories (2, object): ['No', 'Yes'] \n\n"
     ]
    }
   ],
   "source": [
    "print_unique_col_values(df1)"
   ]
  },
  {
   "source": [
    "### 1.4 Visualization"
   ],
   "cell_type": "markdown",
   "metadata": {}
  },
  {
   "source": [
    "#### 1.4.1 Churn (Continuous Feature, Target Distribution)"
   ],
   "cell_type": "markdown",
   "metadata": {}
  },
  {
   "cell_type": "code",
   "execution_count": 16,
   "metadata": {},
   "outputs": [
    {
     "output_type": "stream",
     "name": "stdout",
     "text": [
      "1869 of 7032 customers did churn and it is the 26.58% of the dataset.\n5163 of 7032 customers did not churn and it is the 73.42% of the dataset.\n\n"
     ]
    },
    {
     "output_type": "display_data",
     "data": {
      "text/plain": "<Figure size 432x288 with 1 Axes>",
      "image/svg+xml": "<?xml version=\"1.0\" encoding=\"utf-8\" standalone=\"no\"?>\r\n<!DOCTYPE svg PUBLIC \"-//W3C//DTD SVG 1.1//EN\"\r\n  \"http://www.w3.org/Graphics/SVG/1.1/DTD/svg11.dtd\">\r\n<!-- Created with matplotlib (https://matplotlib.org/) -->\r\n<svg height=\"305.241344pt\" version=\"1.1\" viewBox=\"0 0 399.231562 305.241344\" width=\"399.231562pt\" xmlns=\"http://www.w3.org/2000/svg\" xmlns:xlink=\"http://www.w3.org/1999/xlink\">\r\n <metadata>\r\n  <rdf:RDF xmlns:cc=\"http://creativecommons.org/ns#\" xmlns:dc=\"http://purl.org/dc/elements/1.1/\" xmlns:rdf=\"http://www.w3.org/1999/02/22-rdf-syntax-ns#\">\r\n   <cc:Work>\r\n    <dc:type rdf:resource=\"http://purl.org/dc/dcmitype/StillImage\"/>\r\n    <dc:date>2021-05-23T21:08:13.079245</dc:date>\r\n    <dc:format>image/svg+xml</dc:format>\r\n    <dc:creator>\r\n     <cc:Agent>\r\n      <dc:title>Matplotlib v3.3.2, https://matplotlib.org/</dc:title>\r\n     </cc:Agent>\r\n    </dc:creator>\r\n   </cc:Work>\r\n  </rdf:RDF>\r\n </metadata>\r\n <defs>\r\n  <style type=\"text/css\">*{stroke-linecap:butt;stroke-linejoin:round;}</style>\r\n </defs>\r\n <g id=\"figure_1\">\r\n  <g id=\"patch_1\">\r\n   <path d=\"M 0 305.241344 \r\nL 399.231562 305.241344 \r\nL 399.231562 0 \r\nL 0 0 \r\nz\r\n\" style=\"fill:none;\"/>\r\n  </g>\r\n  <g id=\"axes_1\">\r\n   <g id=\"patch_2\">\r\n    <path d=\"M 57.231563 263.781656 \r\nL 392.031563 263.781656 \r\nL 392.031563 46.341656 \r\nL 57.231563 46.341656 \r\nz\r\n\" style=\"fill:#ffffff;\"/>\r\n   </g>\r\n   <g id=\"patch_3\">\r\n    <path clip-path=\"url(#p92d868165c)\" d=\"M 73.971563 263.781656 \r\nL 207.891563 263.781656 \r\nL 207.891563 188.816868 \r\nL 73.971563 188.816868 \r\nz\r\n\" style=\"fill:#b51a33;\"/>\r\n   </g>\r\n   <g id=\"patch_4\">\r\n    <path clip-path=\"url(#p92d868165c)\" d=\"M 241.371563 263.781656 \r\nL 375.291562 263.781656 \r\nL 375.291562 56.695942 \r\nL 241.371563 56.695942 \r\nz\r\n\" style=\"fill:#2cb51a;\"/>\r\n   </g>\r\n   <g id=\"matplotlib.axis_1\">\r\n    <g id=\"xtick_1\">\r\n     <g id=\"line2d_1\">\r\n      <defs>\r\n       <path d=\"M 0 0 \r\nL 0 3.5 \r\n\" id=\"m307bab02e5\" style=\"stroke:#000000;stroke-width:0.8;\"/>\r\n      </defs>\r\n      <g>\r\n       <use style=\"stroke:#000000;stroke-width:0.8;\" x=\"308.331563\" xlink:href=\"#m307bab02e5\" y=\"263.781656\"/>\r\n      </g>\r\n     </g>\r\n     <g id=\"text_1\">\r\n      <!-- No (73.42%) -->\r\n      <g transform=\"translate(276.976094 278.380094)scale(0.1 -0.1)\">\r\n       <defs>\r\n        <path d=\"M 9.8125 72.90625 \r\nL 23.09375 72.90625 \r\nL 55.421875 11.921875 \r\nL 55.421875 72.90625 \r\nL 64.984375 72.90625 \r\nL 64.984375 0 \r\nL 51.703125 0 \r\nL 19.390625 60.984375 \r\nL 19.390625 0 \r\nL 9.8125 0 \r\nz\r\n\" id=\"DejaVuSans-78\"/>\r\n        <path d=\"M 30.609375 48.390625 \r\nQ 23.390625 48.390625 19.1875 42.75 \r\nQ 14.984375 37.109375 14.984375 27.296875 \r\nQ 14.984375 17.484375 19.15625 11.84375 \r\nQ 23.34375 6.203125 30.609375 6.203125 \r\nQ 37.796875 6.203125 41.984375 11.859375 \r\nQ 46.1875 17.53125 46.1875 27.296875 \r\nQ 46.1875 37.015625 41.984375 42.703125 \r\nQ 37.796875 48.390625 30.609375 48.390625 \r\nz\r\nM 30.609375 56 \r\nQ 42.328125 56 49.015625 48.375 \r\nQ 55.71875 40.765625 55.71875 27.296875 \r\nQ 55.71875 13.875 49.015625 6.21875 \r\nQ 42.328125 -1.421875 30.609375 -1.421875 \r\nQ 18.84375 -1.421875 12.171875 6.21875 \r\nQ 5.515625 13.875 5.515625 27.296875 \r\nQ 5.515625 40.765625 12.171875 48.375 \r\nQ 18.84375 56 30.609375 56 \r\nz\r\n\" id=\"DejaVuSans-111\"/>\r\n        <path id=\"DejaVuSans-32\"/>\r\n        <path d=\"M 31 75.875 \r\nQ 24.46875 64.65625 21.28125 53.65625 \r\nQ 18.109375 42.671875 18.109375 31.390625 \r\nQ 18.109375 20.125 21.3125 9.0625 \r\nQ 24.515625 -2 31 -13.1875 \r\nL 23.1875 -13.1875 \r\nQ 15.875 -1.703125 12.234375 9.375 \r\nQ 8.59375 20.453125 8.59375 31.390625 \r\nQ 8.59375 42.28125 12.203125 53.3125 \r\nQ 15.828125 64.359375 23.1875 75.875 \r\nz\r\n\" id=\"DejaVuSans-40\"/>\r\n        <path d=\"M 8.203125 72.90625 \r\nL 55.078125 72.90625 \r\nL 55.078125 68.703125 \r\nL 28.609375 0 \r\nL 18.3125 0 \r\nL 43.21875 64.59375 \r\nL 8.203125 64.59375 \r\nz\r\n\" id=\"DejaVuSans-55\"/>\r\n        <path d=\"M 40.578125 39.3125 \r\nQ 47.65625 37.796875 51.625 33 \r\nQ 55.609375 28.21875 55.609375 21.1875 \r\nQ 55.609375 10.40625 48.1875 4.484375 \r\nQ 40.765625 -1.421875 27.09375 -1.421875 \r\nQ 22.515625 -1.421875 17.65625 -0.515625 \r\nQ 12.796875 0.390625 7.625 2.203125 \r\nL 7.625 11.71875 \r\nQ 11.71875 9.328125 16.59375 8.109375 \r\nQ 21.484375 6.890625 26.8125 6.890625 \r\nQ 36.078125 6.890625 40.9375 10.546875 \r\nQ 45.796875 14.203125 45.796875 21.1875 \r\nQ 45.796875 27.640625 41.28125 31.265625 \r\nQ 36.765625 34.90625 28.71875 34.90625 \r\nL 20.21875 34.90625 \r\nL 20.21875 43.015625 \r\nL 29.109375 43.015625 \r\nQ 36.375 43.015625 40.234375 45.921875 \r\nQ 44.09375 48.828125 44.09375 54.296875 \r\nQ 44.09375 59.90625 40.109375 62.90625 \r\nQ 36.140625 65.921875 28.71875 65.921875 \r\nQ 24.65625 65.921875 20.015625 65.03125 \r\nQ 15.375 64.15625 9.8125 62.3125 \r\nL 9.8125 71.09375 \r\nQ 15.4375 72.65625 20.34375 73.4375 \r\nQ 25.25 74.21875 29.59375 74.21875 \r\nQ 40.828125 74.21875 47.359375 69.109375 \r\nQ 53.90625 64.015625 53.90625 55.328125 \r\nQ 53.90625 49.265625 50.4375 45.09375 \r\nQ 46.96875 40.921875 40.578125 39.3125 \r\nz\r\n\" id=\"DejaVuSans-51\"/>\r\n        <path d=\"M 10.6875 12.40625 \r\nL 21 12.40625 \r\nL 21 0 \r\nL 10.6875 0 \r\nz\r\n\" id=\"DejaVuSans-46\"/>\r\n        <path d=\"M 37.796875 64.3125 \r\nL 12.890625 25.390625 \r\nL 37.796875 25.390625 \r\nz\r\nM 35.203125 72.90625 \r\nL 47.609375 72.90625 \r\nL 47.609375 25.390625 \r\nL 58.015625 25.390625 \r\nL 58.015625 17.1875 \r\nL 47.609375 17.1875 \r\nL 47.609375 0 \r\nL 37.796875 0 \r\nL 37.796875 17.1875 \r\nL 4.890625 17.1875 \r\nL 4.890625 26.703125 \r\nz\r\n\" id=\"DejaVuSans-52\"/>\r\n        <path d=\"M 19.1875 8.296875 \r\nL 53.609375 8.296875 \r\nL 53.609375 0 \r\nL 7.328125 0 \r\nL 7.328125 8.296875 \r\nQ 12.9375 14.109375 22.625 23.890625 \r\nQ 32.328125 33.6875 34.8125 36.53125 \r\nQ 39.546875 41.84375 41.421875 45.53125 \r\nQ 43.3125 49.21875 43.3125 52.78125 \r\nQ 43.3125 58.59375 39.234375 62.25 \r\nQ 35.15625 65.921875 28.609375 65.921875 \r\nQ 23.96875 65.921875 18.8125 64.3125 \r\nQ 13.671875 62.703125 7.8125 59.421875 \r\nL 7.8125 69.390625 \r\nQ 13.765625 71.78125 18.9375 73 \r\nQ 24.125 74.21875 28.421875 74.21875 \r\nQ 39.75 74.21875 46.484375 68.546875 \r\nQ 53.21875 62.890625 53.21875 53.421875 \r\nQ 53.21875 48.921875 51.53125 44.890625 \r\nQ 49.859375 40.875 45.40625 35.40625 \r\nQ 44.1875 33.984375 37.640625 27.21875 \r\nQ 31.109375 20.453125 19.1875 8.296875 \r\nz\r\n\" id=\"DejaVuSans-50\"/>\r\n        <path d=\"M 72.703125 32.078125 \r\nQ 68.453125 32.078125 66.03125 28.46875 \r\nQ 63.625 24.859375 63.625 18.40625 \r\nQ 63.625 12.0625 66.03125 8.421875 \r\nQ 68.453125 4.78125 72.703125 4.78125 \r\nQ 76.859375 4.78125 79.265625 8.421875 \r\nQ 81.6875 12.0625 81.6875 18.40625 \r\nQ 81.6875 24.8125 79.265625 28.4375 \r\nQ 76.859375 32.078125 72.703125 32.078125 \r\nz\r\nM 72.703125 38.28125 \r\nQ 80.421875 38.28125 84.953125 32.90625 \r\nQ 89.5 27.546875 89.5 18.40625 \r\nQ 89.5 9.28125 84.9375 3.921875 \r\nQ 80.375 -1.421875 72.703125 -1.421875 \r\nQ 64.890625 -1.421875 60.34375 3.921875 \r\nQ 55.8125 9.28125 55.8125 18.40625 \r\nQ 55.8125 27.59375 60.375 32.9375 \r\nQ 64.9375 38.28125 72.703125 38.28125 \r\nz\r\nM 22.3125 68.015625 \r\nQ 18.109375 68.015625 15.6875 64.375 \r\nQ 13.28125 60.75 13.28125 54.390625 \r\nQ 13.28125 47.953125 15.671875 44.328125 \r\nQ 18.0625 40.71875 22.3125 40.71875 \r\nQ 26.5625 40.71875 28.96875 44.328125 \r\nQ 31.390625 47.953125 31.390625 54.390625 \r\nQ 31.390625 60.6875 28.953125 64.34375 \r\nQ 26.515625 68.015625 22.3125 68.015625 \r\nz\r\nM 66.40625 74.21875 \r\nL 74.21875 74.21875 \r\nL 28.609375 -1.421875 \r\nL 20.796875 -1.421875 \r\nz\r\nM 22.3125 74.21875 \r\nQ 30.03125 74.21875 34.609375 68.875 \r\nQ 39.203125 63.53125 39.203125 54.390625 \r\nQ 39.203125 45.171875 34.640625 39.84375 \r\nQ 30.078125 34.515625 22.3125 34.515625 \r\nQ 14.546875 34.515625 10.03125 39.859375 \r\nQ 5.515625 45.21875 5.515625 54.390625 \r\nQ 5.515625 63.484375 10.046875 68.84375 \r\nQ 14.59375 74.21875 22.3125 74.21875 \r\nz\r\n\" id=\"DejaVuSans-37\"/>\r\n        <path d=\"M 8.015625 75.875 \r\nL 15.828125 75.875 \r\nQ 23.140625 64.359375 26.78125 53.3125 \r\nQ 30.421875 42.28125 30.421875 31.390625 \r\nQ 30.421875 20.453125 26.78125 9.375 \r\nQ 23.140625 -1.703125 15.828125 -13.1875 \r\nL 8.015625 -13.1875 \r\nQ 14.5 -2 17.703125 9.0625 \r\nQ 20.90625 20.125 20.90625 31.390625 \r\nQ 20.90625 42.671875 17.703125 53.65625 \r\nQ 14.5 64.65625 8.015625 75.875 \r\nz\r\n\" id=\"DejaVuSans-41\"/>\r\n       </defs>\r\n       <use xlink:href=\"#DejaVuSans-78\"/>\r\n       <use x=\"74.804688\" xlink:href=\"#DejaVuSans-111\"/>\r\n       <use x=\"135.986328\" xlink:href=\"#DejaVuSans-32\"/>\r\n       <use x=\"167.773438\" xlink:href=\"#DejaVuSans-40\"/>\r\n       <use x=\"206.787109\" xlink:href=\"#DejaVuSans-55\"/>\r\n       <use x=\"270.410156\" xlink:href=\"#DejaVuSans-51\"/>\r\n       <use x=\"334.033203\" xlink:href=\"#DejaVuSans-46\"/>\r\n       <use x=\"365.820312\" xlink:href=\"#DejaVuSans-52\"/>\r\n       <use x=\"429.443359\" xlink:href=\"#DejaVuSans-50\"/>\r\n       <use x=\"493.066406\" xlink:href=\"#DejaVuSans-37\"/>\r\n       <use x=\"588.085938\" xlink:href=\"#DejaVuSans-41\"/>\r\n      </g>\r\n     </g>\r\n    </g>\r\n    <g id=\"xtick_2\">\r\n     <g id=\"line2d_2\">\r\n      <g>\r\n       <use style=\"stroke:#000000;stroke-width:0.8;\" x=\"140.931563\" xlink:href=\"#m307bab02e5\" y=\"263.781656\"/>\r\n      </g>\r\n     </g>\r\n     <g id=\"text_2\">\r\n      <!-- Yes (26.58%) -->\r\n      <g transform=\"translate(108.303438 278.380094)scale(0.1 -0.1)\">\r\n       <defs>\r\n        <path d=\"M -0.203125 72.90625 \r\nL 10.40625 72.90625 \r\nL 30.609375 42.921875 \r\nL 50.6875 72.90625 \r\nL 61.28125 72.90625 \r\nL 35.5 34.71875 \r\nL 35.5 0 \r\nL 25.59375 0 \r\nL 25.59375 34.71875 \r\nz\r\n\" id=\"DejaVuSans-89\"/>\r\n        <path d=\"M 56.203125 29.59375 \r\nL 56.203125 25.203125 \r\nL 14.890625 25.203125 \r\nQ 15.484375 15.921875 20.484375 11.0625 \r\nQ 25.484375 6.203125 34.421875 6.203125 \r\nQ 39.59375 6.203125 44.453125 7.46875 \r\nQ 49.3125 8.734375 54.109375 11.28125 \r\nL 54.109375 2.78125 \r\nQ 49.265625 0.734375 44.1875 -0.34375 \r\nQ 39.109375 -1.421875 33.890625 -1.421875 \r\nQ 20.796875 -1.421875 13.15625 6.1875 \r\nQ 5.515625 13.8125 5.515625 26.8125 \r\nQ 5.515625 40.234375 12.765625 48.109375 \r\nQ 20.015625 56 32.328125 56 \r\nQ 43.359375 56 49.78125 48.890625 \r\nQ 56.203125 41.796875 56.203125 29.59375 \r\nz\r\nM 47.21875 32.234375 \r\nQ 47.125 39.59375 43.09375 43.984375 \r\nQ 39.0625 48.390625 32.421875 48.390625 \r\nQ 24.90625 48.390625 20.390625 44.140625 \r\nQ 15.875 39.890625 15.1875 32.171875 \r\nz\r\n\" id=\"DejaVuSans-101\"/>\r\n        <path d=\"M 44.28125 53.078125 \r\nL 44.28125 44.578125 \r\nQ 40.484375 46.53125 36.375 47.5 \r\nQ 32.28125 48.484375 27.875 48.484375 \r\nQ 21.1875 48.484375 17.84375 46.4375 \r\nQ 14.5 44.390625 14.5 40.28125 \r\nQ 14.5 37.15625 16.890625 35.375 \r\nQ 19.28125 33.59375 26.515625 31.984375 \r\nL 29.59375 31.296875 \r\nQ 39.15625 29.25 43.1875 25.515625 \r\nQ 47.21875 21.78125 47.21875 15.09375 \r\nQ 47.21875 7.46875 41.1875 3.015625 \r\nQ 35.15625 -1.421875 24.609375 -1.421875 \r\nQ 20.21875 -1.421875 15.453125 -0.5625 \r\nQ 10.6875 0.296875 5.421875 2 \r\nL 5.421875 11.28125 \r\nQ 10.40625 8.6875 15.234375 7.390625 \r\nQ 20.0625 6.109375 24.8125 6.109375 \r\nQ 31.15625 6.109375 34.5625 8.28125 \r\nQ 37.984375 10.453125 37.984375 14.40625 \r\nQ 37.984375 18.0625 35.515625 20.015625 \r\nQ 33.0625 21.96875 24.703125 23.78125 \r\nL 21.578125 24.515625 \r\nQ 13.234375 26.265625 9.515625 29.90625 \r\nQ 5.8125 33.546875 5.8125 39.890625 \r\nQ 5.8125 47.609375 11.28125 51.796875 \r\nQ 16.75 56 26.8125 56 \r\nQ 31.78125 56 36.171875 55.265625 \r\nQ 40.578125 54.546875 44.28125 53.078125 \r\nz\r\n\" id=\"DejaVuSans-115\"/>\r\n        <path d=\"M 33.015625 40.375 \r\nQ 26.375 40.375 22.484375 35.828125 \r\nQ 18.609375 31.296875 18.609375 23.390625 \r\nQ 18.609375 15.53125 22.484375 10.953125 \r\nQ 26.375 6.390625 33.015625 6.390625 \r\nQ 39.65625 6.390625 43.53125 10.953125 \r\nQ 47.40625 15.53125 47.40625 23.390625 \r\nQ 47.40625 31.296875 43.53125 35.828125 \r\nQ 39.65625 40.375 33.015625 40.375 \r\nz\r\nM 52.59375 71.296875 \r\nL 52.59375 62.3125 \r\nQ 48.875 64.0625 45.09375 64.984375 \r\nQ 41.3125 65.921875 37.59375 65.921875 \r\nQ 27.828125 65.921875 22.671875 59.328125 \r\nQ 17.53125 52.734375 16.796875 39.40625 \r\nQ 19.671875 43.65625 24.015625 45.921875 \r\nQ 28.375 48.1875 33.59375 48.1875 \r\nQ 44.578125 48.1875 50.953125 41.515625 \r\nQ 57.328125 34.859375 57.328125 23.390625 \r\nQ 57.328125 12.15625 50.6875 5.359375 \r\nQ 44.046875 -1.421875 33.015625 -1.421875 \r\nQ 20.359375 -1.421875 13.671875 8.265625 \r\nQ 6.984375 17.96875 6.984375 36.375 \r\nQ 6.984375 53.65625 15.1875 63.9375 \r\nQ 23.390625 74.21875 37.203125 74.21875 \r\nQ 40.921875 74.21875 44.703125 73.484375 \r\nQ 48.484375 72.75 52.59375 71.296875 \r\nz\r\n\" id=\"DejaVuSans-54\"/>\r\n        <path d=\"M 10.796875 72.90625 \r\nL 49.515625 72.90625 \r\nL 49.515625 64.59375 \r\nL 19.828125 64.59375 \r\nL 19.828125 46.734375 \r\nQ 21.96875 47.46875 24.109375 47.828125 \r\nQ 26.265625 48.1875 28.421875 48.1875 \r\nQ 40.625 48.1875 47.75 41.5 \r\nQ 54.890625 34.8125 54.890625 23.390625 \r\nQ 54.890625 11.625 47.5625 5.09375 \r\nQ 40.234375 -1.421875 26.90625 -1.421875 \r\nQ 22.3125 -1.421875 17.546875 -0.640625 \r\nQ 12.796875 0.140625 7.71875 1.703125 \r\nL 7.71875 11.625 \r\nQ 12.109375 9.234375 16.796875 8.0625 \r\nQ 21.484375 6.890625 26.703125 6.890625 \r\nQ 35.15625 6.890625 40.078125 11.328125 \r\nQ 45.015625 15.765625 45.015625 23.390625 \r\nQ 45.015625 31 40.078125 35.4375 \r\nQ 35.15625 39.890625 26.703125 39.890625 \r\nQ 22.75 39.890625 18.8125 39.015625 \r\nQ 14.890625 38.140625 10.796875 36.28125 \r\nz\r\n\" id=\"DejaVuSans-53\"/>\r\n        <path d=\"M 31.78125 34.625 \r\nQ 24.75 34.625 20.71875 30.859375 \r\nQ 16.703125 27.09375 16.703125 20.515625 \r\nQ 16.703125 13.921875 20.71875 10.15625 \r\nQ 24.75 6.390625 31.78125 6.390625 \r\nQ 38.8125 6.390625 42.859375 10.171875 \r\nQ 46.921875 13.96875 46.921875 20.515625 \r\nQ 46.921875 27.09375 42.890625 30.859375 \r\nQ 38.875 34.625 31.78125 34.625 \r\nz\r\nM 21.921875 38.8125 \r\nQ 15.578125 40.375 12.03125 44.71875 \r\nQ 8.5 49.078125 8.5 55.328125 \r\nQ 8.5 64.0625 14.71875 69.140625 \r\nQ 20.953125 74.21875 31.78125 74.21875 \r\nQ 42.671875 74.21875 48.875 69.140625 \r\nQ 55.078125 64.0625 55.078125 55.328125 \r\nQ 55.078125 49.078125 51.53125 44.71875 \r\nQ 48 40.375 41.703125 38.8125 \r\nQ 48.828125 37.15625 52.796875 32.3125 \r\nQ 56.78125 27.484375 56.78125 20.515625 \r\nQ 56.78125 9.90625 50.3125 4.234375 \r\nQ 43.84375 -1.421875 31.78125 -1.421875 \r\nQ 19.734375 -1.421875 13.25 4.234375 \r\nQ 6.78125 9.90625 6.78125 20.515625 \r\nQ 6.78125 27.484375 10.78125 32.3125 \r\nQ 14.796875 37.15625 21.921875 38.8125 \r\nz\r\nM 18.3125 54.390625 \r\nQ 18.3125 48.734375 21.84375 45.5625 \r\nQ 25.390625 42.390625 31.78125 42.390625 \r\nQ 38.140625 42.390625 41.71875 45.5625 \r\nQ 45.3125 48.734375 45.3125 54.390625 \r\nQ 45.3125 60.0625 41.71875 63.234375 \r\nQ 38.140625 66.40625 31.78125 66.40625 \r\nQ 25.390625 66.40625 21.84375 63.234375 \r\nQ 18.3125 60.0625 18.3125 54.390625 \r\nz\r\n\" id=\"DejaVuSans-56\"/>\r\n       </defs>\r\n       <use xlink:href=\"#DejaVuSans-89\"/>\r\n       <use x=\"47.833984\" xlink:href=\"#DejaVuSans-101\"/>\r\n       <use x=\"109.357422\" xlink:href=\"#DejaVuSans-115\"/>\r\n       <use x=\"161.457031\" xlink:href=\"#DejaVuSans-32\"/>\r\n       <use x=\"193.244141\" xlink:href=\"#DejaVuSans-40\"/>\r\n       <use x=\"232.257812\" xlink:href=\"#DejaVuSans-50\"/>\r\n       <use x=\"295.880859\" xlink:href=\"#DejaVuSans-54\"/>\r\n       <use x=\"359.503906\" xlink:href=\"#DejaVuSans-46\"/>\r\n       <use x=\"391.291016\" xlink:href=\"#DejaVuSans-53\"/>\r\n       <use x=\"454.914062\" xlink:href=\"#DejaVuSans-56\"/>\r\n       <use x=\"518.537109\" xlink:href=\"#DejaVuSans-37\"/>\r\n       <use x=\"613.556641\" xlink:href=\"#DejaVuSans-41\"/>\r\n      </g>\r\n     </g>\r\n    </g>\r\n    <g id=\"text_3\">\r\n     <!-- Churn -->\r\n     <g transform=\"translate(205.17625 295.33775)scale(0.13 -0.13)\">\r\n      <defs>\r\n       <path d=\"M 64.40625 67.28125 \r\nL 64.40625 56.890625 \r\nQ 59.421875 61.53125 53.78125 63.8125 \r\nQ 48.140625 66.109375 41.796875 66.109375 \r\nQ 29.296875 66.109375 22.65625 58.46875 \r\nQ 16.015625 50.828125 16.015625 36.375 \r\nQ 16.015625 21.96875 22.65625 14.328125 \r\nQ 29.296875 6.6875 41.796875 6.6875 \r\nQ 48.140625 6.6875 53.78125 8.984375 \r\nQ 59.421875 11.28125 64.40625 15.921875 \r\nL 64.40625 5.609375 \r\nQ 59.234375 2.09375 53.4375 0.328125 \r\nQ 47.65625 -1.421875 41.21875 -1.421875 \r\nQ 24.65625 -1.421875 15.125 8.703125 \r\nQ 5.609375 18.84375 5.609375 36.375 \r\nQ 5.609375 53.953125 15.125 64.078125 \r\nQ 24.65625 74.21875 41.21875 74.21875 \r\nQ 47.75 74.21875 53.53125 72.484375 \r\nQ 59.328125 70.75 64.40625 67.28125 \r\nz\r\n\" id=\"DejaVuSans-67\"/>\r\n       <path d=\"M 54.890625 33.015625 \r\nL 54.890625 0 \r\nL 45.90625 0 \r\nL 45.90625 32.71875 \r\nQ 45.90625 40.484375 42.875 44.328125 \r\nQ 39.84375 48.1875 33.796875 48.1875 \r\nQ 26.515625 48.1875 22.3125 43.546875 \r\nQ 18.109375 38.921875 18.109375 30.90625 \r\nL 18.109375 0 \r\nL 9.078125 0 \r\nL 9.078125 75.984375 \r\nL 18.109375 75.984375 \r\nL 18.109375 46.1875 \r\nQ 21.34375 51.125 25.703125 53.5625 \r\nQ 30.078125 56 35.796875 56 \r\nQ 45.21875 56 50.046875 50.171875 \r\nQ 54.890625 44.34375 54.890625 33.015625 \r\nz\r\n\" id=\"DejaVuSans-104\"/>\r\n       <path d=\"M 8.5 21.578125 \r\nL 8.5 54.6875 \r\nL 17.484375 54.6875 \r\nL 17.484375 21.921875 \r\nQ 17.484375 14.15625 20.5 10.265625 \r\nQ 23.53125 6.390625 29.59375 6.390625 \r\nQ 36.859375 6.390625 41.078125 11.03125 \r\nQ 45.3125 15.671875 45.3125 23.6875 \r\nL 45.3125 54.6875 \r\nL 54.296875 54.6875 \r\nL 54.296875 0 \r\nL 45.3125 0 \r\nL 45.3125 8.40625 \r\nQ 42.046875 3.421875 37.71875 1 \r\nQ 33.40625 -1.421875 27.6875 -1.421875 \r\nQ 18.265625 -1.421875 13.375 4.4375 \r\nQ 8.5 10.296875 8.5 21.578125 \r\nz\r\nM 31.109375 56 \r\nz\r\n\" id=\"DejaVuSans-117\"/>\r\n       <path d=\"M 41.109375 46.296875 \r\nQ 39.59375 47.171875 37.8125 47.578125 \r\nQ 36.03125 48 33.890625 48 \r\nQ 26.265625 48 22.1875 43.046875 \r\nQ 18.109375 38.09375 18.109375 28.8125 \r\nL 18.109375 0 \r\nL 9.078125 0 \r\nL 9.078125 54.6875 \r\nL 18.109375 54.6875 \r\nL 18.109375 46.1875 \r\nQ 20.953125 51.171875 25.484375 53.578125 \r\nQ 30.03125 56 36.53125 56 \r\nQ 37.453125 56 38.578125 55.875 \r\nQ 39.703125 55.765625 41.0625 55.515625 \r\nz\r\n\" id=\"DejaVuSans-114\"/>\r\n       <path d=\"M 54.890625 33.015625 \r\nL 54.890625 0 \r\nL 45.90625 0 \r\nL 45.90625 32.71875 \r\nQ 45.90625 40.484375 42.875 44.328125 \r\nQ 39.84375 48.1875 33.796875 48.1875 \r\nQ 26.515625 48.1875 22.3125 43.546875 \r\nQ 18.109375 38.921875 18.109375 30.90625 \r\nL 18.109375 0 \r\nL 9.078125 0 \r\nL 9.078125 54.6875 \r\nL 18.109375 54.6875 \r\nL 18.109375 46.1875 \r\nQ 21.34375 51.125 25.703125 53.5625 \r\nQ 30.078125 56 35.796875 56 \r\nQ 45.21875 56 50.046875 50.171875 \r\nQ 54.890625 44.34375 54.890625 33.015625 \r\nz\r\n\" id=\"DejaVuSans-110\"/>\r\n      </defs>\r\n      <use xlink:href=\"#DejaVuSans-67\"/>\r\n      <use x=\"69.824219\" xlink:href=\"#DejaVuSans-104\"/>\r\n      <use x=\"133.203125\" xlink:href=\"#DejaVuSans-117\"/>\r\n      <use x=\"196.582031\" xlink:href=\"#DejaVuSans-114\"/>\r\n      <use x=\"235.945312\" xlink:href=\"#DejaVuSans-110\"/>\r\n     </g>\r\n    </g>\r\n   </g>\r\n   <g id=\"matplotlib.axis_2\">\r\n    <g id=\"ytick_1\">\r\n     <g id=\"line2d_3\">\r\n      <defs>\r\n       <path d=\"M 0 0 \r\nL -3.5 0 \r\n\" id=\"m3d9a2103cd\" style=\"stroke:#000000;stroke-width:0.8;\"/>\r\n      </defs>\r\n      <g>\r\n       <use style=\"stroke:#000000;stroke-width:0.8;\" x=\"57.231563\" xlink:href=\"#m3d9a2103cd\" y=\"263.781656\"/>\r\n      </g>\r\n     </g>\r\n     <g id=\"text_4\">\r\n      <!-- 0 -->\r\n      <g transform=\"translate(43.869063 267.580875)scale(0.1 -0.1)\">\r\n       <defs>\r\n        <path d=\"M 31.78125 66.40625 \r\nQ 24.171875 66.40625 20.328125 58.90625 \r\nQ 16.5 51.421875 16.5 36.375 \r\nQ 16.5 21.390625 20.328125 13.890625 \r\nQ 24.171875 6.390625 31.78125 6.390625 \r\nQ 39.453125 6.390625 43.28125 13.890625 \r\nQ 47.125 21.390625 47.125 36.375 \r\nQ 47.125 51.421875 43.28125 58.90625 \r\nQ 39.453125 66.40625 31.78125 66.40625 \r\nz\r\nM 31.78125 74.21875 \r\nQ 44.046875 74.21875 50.515625 64.515625 \r\nQ 56.984375 54.828125 56.984375 36.375 \r\nQ 56.984375 17.96875 50.515625 8.265625 \r\nQ 44.046875 -1.421875 31.78125 -1.421875 \r\nQ 19.53125 -1.421875 13.0625 8.265625 \r\nQ 6.59375 17.96875 6.59375 36.375 \r\nQ 6.59375 54.828125 13.0625 64.515625 \r\nQ 19.53125 74.21875 31.78125 74.21875 \r\nz\r\n\" id=\"DejaVuSans-48\"/>\r\n       </defs>\r\n       <use xlink:href=\"#DejaVuSans-48\"/>\r\n      </g>\r\n     </g>\r\n    </g>\r\n    <g id=\"ytick_2\">\r\n     <g id=\"line2d_4\">\r\n      <g>\r\n       <use style=\"stroke:#000000;stroke-width:0.8;\" x=\"57.231563\" xlink:href=\"#m3d9a2103cd\" y=\"223.672085\"/>\r\n      </g>\r\n     </g>\r\n     <g id=\"text_5\">\r\n      <!-- 1000 -->\r\n      <g transform=\"translate(24.781563 227.471304)scale(0.1 -0.1)\">\r\n       <defs>\r\n        <path d=\"M 12.40625 8.296875 \r\nL 28.515625 8.296875 \r\nL 28.515625 63.921875 \r\nL 10.984375 60.40625 \r\nL 10.984375 69.390625 \r\nL 28.421875 72.90625 \r\nL 38.28125 72.90625 \r\nL 38.28125 8.296875 \r\nL 54.390625 8.296875 \r\nL 54.390625 0 \r\nL 12.40625 0 \r\nz\r\n\" id=\"DejaVuSans-49\"/>\r\n       </defs>\r\n       <use xlink:href=\"#DejaVuSans-49\"/>\r\n       <use x=\"63.623047\" xlink:href=\"#DejaVuSans-48\"/>\r\n       <use x=\"127.246094\" xlink:href=\"#DejaVuSans-48\"/>\r\n       <use x=\"190.869141\" xlink:href=\"#DejaVuSans-48\"/>\r\n      </g>\r\n     </g>\r\n    </g>\r\n    <g id=\"ytick_3\">\r\n     <g id=\"line2d_5\">\r\n      <g>\r\n       <use style=\"stroke:#000000;stroke-width:0.8;\" x=\"57.231563\" xlink:href=\"#m3d9a2103cd\" y=\"183.562515\"/>\r\n      </g>\r\n     </g>\r\n     <g id=\"text_6\">\r\n      <!-- 2000 -->\r\n      <g transform=\"translate(24.781563 187.361733)scale(0.1 -0.1)\">\r\n       <use xlink:href=\"#DejaVuSans-50\"/>\r\n       <use x=\"63.623047\" xlink:href=\"#DejaVuSans-48\"/>\r\n       <use x=\"127.246094\" xlink:href=\"#DejaVuSans-48\"/>\r\n       <use x=\"190.869141\" xlink:href=\"#DejaVuSans-48\"/>\r\n      </g>\r\n     </g>\r\n    </g>\r\n    <g id=\"ytick_4\">\r\n     <g id=\"line2d_6\">\r\n      <g>\r\n       <use style=\"stroke:#000000;stroke-width:0.8;\" x=\"57.231563\" xlink:href=\"#m3d9a2103cd\" y=\"143.452944\"/>\r\n      </g>\r\n     </g>\r\n     <g id=\"text_7\">\r\n      <!-- 3000 -->\r\n      <g transform=\"translate(24.781563 147.252162)scale(0.1 -0.1)\">\r\n       <use xlink:href=\"#DejaVuSans-51\"/>\r\n       <use x=\"63.623047\" xlink:href=\"#DejaVuSans-48\"/>\r\n       <use x=\"127.246094\" xlink:href=\"#DejaVuSans-48\"/>\r\n       <use x=\"190.869141\" xlink:href=\"#DejaVuSans-48\"/>\r\n      </g>\r\n     </g>\r\n    </g>\r\n    <g id=\"ytick_5\">\r\n     <g id=\"line2d_7\">\r\n      <g>\r\n       <use style=\"stroke:#000000;stroke-width:0.8;\" x=\"57.231563\" xlink:href=\"#m3d9a2103cd\" y=\"103.343373\"/>\r\n      </g>\r\n     </g>\r\n     <g id=\"text_8\">\r\n      <!-- 4000 -->\r\n      <g transform=\"translate(24.781563 107.142592)scale(0.1 -0.1)\">\r\n       <use xlink:href=\"#DejaVuSans-52\"/>\r\n       <use x=\"63.623047\" xlink:href=\"#DejaVuSans-48\"/>\r\n       <use x=\"127.246094\" xlink:href=\"#DejaVuSans-48\"/>\r\n       <use x=\"190.869141\" xlink:href=\"#DejaVuSans-48\"/>\r\n      </g>\r\n     </g>\r\n    </g>\r\n    <g id=\"ytick_6\">\r\n     <g id=\"line2d_8\">\r\n      <g>\r\n       <use style=\"stroke:#000000;stroke-width:0.8;\" x=\"57.231563\" xlink:href=\"#m3d9a2103cd\" y=\"63.233802\"/>\r\n      </g>\r\n     </g>\r\n     <g id=\"text_9\">\r\n      <!-- 5000 -->\r\n      <g transform=\"translate(24.781563 67.033021)scale(0.1 -0.1)\">\r\n       <use xlink:href=\"#DejaVuSans-53\"/>\r\n       <use x=\"63.623047\" xlink:href=\"#DejaVuSans-48\"/>\r\n       <use x=\"127.246094\" xlink:href=\"#DejaVuSans-48\"/>\r\n       <use x=\"190.869141\" xlink:href=\"#DejaVuSans-48\"/>\r\n      </g>\r\n     </g>\r\n    </g>\r\n    <g id=\"text_10\">\r\n     <!-- Number of Customer -->\r\n     <g transform=\"translate(17.077969 223.143062)rotate(-90)scale(0.13 -0.13)\">\r\n      <defs>\r\n       <path d=\"M 52 44.1875 \r\nQ 55.375 50.25 60.0625 53.125 \r\nQ 64.75 56 71.09375 56 \r\nQ 79.640625 56 84.28125 50.015625 \r\nQ 88.921875 44.046875 88.921875 33.015625 \r\nL 88.921875 0 \r\nL 79.890625 0 \r\nL 79.890625 32.71875 \r\nQ 79.890625 40.578125 77.09375 44.375 \r\nQ 74.3125 48.1875 68.609375 48.1875 \r\nQ 61.625 48.1875 57.5625 43.546875 \r\nQ 53.515625 38.921875 53.515625 30.90625 \r\nL 53.515625 0 \r\nL 44.484375 0 \r\nL 44.484375 32.71875 \r\nQ 44.484375 40.625 41.703125 44.40625 \r\nQ 38.921875 48.1875 33.109375 48.1875 \r\nQ 26.21875 48.1875 22.15625 43.53125 \r\nQ 18.109375 38.875 18.109375 30.90625 \r\nL 18.109375 0 \r\nL 9.078125 0 \r\nL 9.078125 54.6875 \r\nL 18.109375 54.6875 \r\nL 18.109375 46.1875 \r\nQ 21.1875 51.21875 25.484375 53.609375 \r\nQ 29.78125 56 35.6875 56 \r\nQ 41.65625 56 45.828125 52.96875 \r\nQ 50 49.953125 52 44.1875 \r\nz\r\n\" id=\"DejaVuSans-109\"/>\r\n       <path d=\"M 48.6875 27.296875 \r\nQ 48.6875 37.203125 44.609375 42.84375 \r\nQ 40.53125 48.484375 33.40625 48.484375 \r\nQ 26.265625 48.484375 22.1875 42.84375 \r\nQ 18.109375 37.203125 18.109375 27.296875 \r\nQ 18.109375 17.390625 22.1875 11.75 \r\nQ 26.265625 6.109375 33.40625 6.109375 \r\nQ 40.53125 6.109375 44.609375 11.75 \r\nQ 48.6875 17.390625 48.6875 27.296875 \r\nz\r\nM 18.109375 46.390625 \r\nQ 20.953125 51.265625 25.265625 53.625 \r\nQ 29.59375 56 35.59375 56 \r\nQ 45.5625 56 51.78125 48.09375 \r\nQ 58.015625 40.1875 58.015625 27.296875 \r\nQ 58.015625 14.40625 51.78125 6.484375 \r\nQ 45.5625 -1.421875 35.59375 -1.421875 \r\nQ 29.59375 -1.421875 25.265625 0.953125 \r\nQ 20.953125 3.328125 18.109375 8.203125 \r\nL 18.109375 0 \r\nL 9.078125 0 \r\nL 9.078125 75.984375 \r\nL 18.109375 75.984375 \r\nz\r\n\" id=\"DejaVuSans-98\"/>\r\n       <path d=\"M 37.109375 75.984375 \r\nL 37.109375 68.5 \r\nL 28.515625 68.5 \r\nQ 23.6875 68.5 21.796875 66.546875 \r\nQ 19.921875 64.59375 19.921875 59.515625 \r\nL 19.921875 54.6875 \r\nL 34.71875 54.6875 \r\nL 34.71875 47.703125 \r\nL 19.921875 47.703125 \r\nL 19.921875 0 \r\nL 10.890625 0 \r\nL 10.890625 47.703125 \r\nL 2.296875 47.703125 \r\nL 2.296875 54.6875 \r\nL 10.890625 54.6875 \r\nL 10.890625 58.5 \r\nQ 10.890625 67.625 15.140625 71.796875 \r\nQ 19.390625 75.984375 28.609375 75.984375 \r\nz\r\n\" id=\"DejaVuSans-102\"/>\r\n       <path d=\"M 18.3125 70.21875 \r\nL 18.3125 54.6875 \r\nL 36.8125 54.6875 \r\nL 36.8125 47.703125 \r\nL 18.3125 47.703125 \r\nL 18.3125 18.015625 \r\nQ 18.3125 11.328125 20.140625 9.421875 \r\nQ 21.96875 7.515625 27.59375 7.515625 \r\nL 36.8125 7.515625 \r\nL 36.8125 0 \r\nL 27.59375 0 \r\nQ 17.1875 0 13.234375 3.875 \r\nQ 9.28125 7.765625 9.28125 18.015625 \r\nL 9.28125 47.703125 \r\nL 2.6875 47.703125 \r\nL 2.6875 54.6875 \r\nL 9.28125 54.6875 \r\nL 9.28125 70.21875 \r\nz\r\n\" id=\"DejaVuSans-116\"/>\r\n      </defs>\r\n      <use xlink:href=\"#DejaVuSans-78\"/>\r\n      <use x=\"74.804688\" xlink:href=\"#DejaVuSans-117\"/>\r\n      <use x=\"138.183594\" xlink:href=\"#DejaVuSans-109\"/>\r\n      <use x=\"235.595703\" xlink:href=\"#DejaVuSans-98\"/>\r\n      <use x=\"299.072266\" xlink:href=\"#DejaVuSans-101\"/>\r\n      <use x=\"360.595703\" xlink:href=\"#DejaVuSans-114\"/>\r\n      <use x=\"401.708984\" xlink:href=\"#DejaVuSans-32\"/>\r\n      <use x=\"433.496094\" xlink:href=\"#DejaVuSans-111\"/>\r\n      <use x=\"494.677734\" xlink:href=\"#DejaVuSans-102\"/>\r\n      <use x=\"529.882812\" xlink:href=\"#DejaVuSans-32\"/>\r\n      <use x=\"561.669922\" xlink:href=\"#DejaVuSans-67\"/>\r\n      <use x=\"631.494141\" xlink:href=\"#DejaVuSans-117\"/>\r\n      <use x=\"694.873047\" xlink:href=\"#DejaVuSans-115\"/>\r\n      <use x=\"746.972656\" xlink:href=\"#DejaVuSans-116\"/>\r\n      <use x=\"786.181641\" xlink:href=\"#DejaVuSans-111\"/>\r\n      <use x=\"847.363281\" xlink:href=\"#DejaVuSans-109\"/>\r\n      <use x=\"944.775391\" xlink:href=\"#DejaVuSans-101\"/>\r\n      <use x=\"1006.298828\" xlink:href=\"#DejaVuSans-114\"/>\r\n     </g>\r\n    </g>\r\n   </g>\r\n   <g id=\"patch_5\">\r\n    <path d=\"M 57.231563 263.781656 \r\nL 57.231563 46.341656 \r\n\" style=\"fill:none;stroke:#000000;stroke-linecap:square;stroke-linejoin:miter;stroke-width:0.8;\"/>\r\n   </g>\r\n   <g id=\"patch_6\">\r\n    <path d=\"M 392.031563 263.781656 \r\nL 392.031563 46.341656 \r\n\" style=\"fill:none;stroke:#000000;stroke-linecap:square;stroke-linejoin:miter;stroke-width:0.8;\"/>\r\n   </g>\r\n   <g id=\"patch_7\">\r\n    <path d=\"M 57.231563 263.781656 \r\nL 392.031563 263.781656 \r\n\" style=\"fill:none;stroke:#000000;stroke-linecap:square;stroke-linejoin:miter;stroke-width:0.8;\"/>\r\n   </g>\r\n   <g id=\"patch_8\">\r\n    <path d=\"M 57.231563 46.341656 \r\nL 392.031563 46.341656 \r\n\" style=\"fill:none;stroke:#000000;stroke-linecap:square;stroke-linejoin:miter;stroke-width:0.8;\"/>\r\n   </g>\r\n   <g id=\"text_11\">\r\n    <!-- Customer Churn Distribution -->\r\n    <g transform=\"translate(117.232734 18.597656)scale(0.15 -0.15)\">\r\n     <defs>\r\n      <path d=\"M 19.671875 64.796875 \r\nL 19.671875 8.109375 \r\nL 31.59375 8.109375 \r\nQ 46.6875 8.109375 53.6875 14.9375 \r\nQ 60.6875 21.78125 60.6875 36.53125 \r\nQ 60.6875 51.171875 53.6875 57.984375 \r\nQ 46.6875 64.796875 31.59375 64.796875 \r\nz\r\nM 9.8125 72.90625 \r\nL 30.078125 72.90625 \r\nQ 51.265625 72.90625 61.171875 64.09375 \r\nQ 71.09375 55.28125 71.09375 36.53125 \r\nQ 71.09375 17.671875 61.125 8.828125 \r\nQ 51.171875 0 30.078125 0 \r\nL 9.8125 0 \r\nz\r\n\" id=\"DejaVuSans-68\"/>\r\n      <path d=\"M 9.421875 54.6875 \r\nL 18.40625 54.6875 \r\nL 18.40625 0 \r\nL 9.421875 0 \r\nz\r\nM 9.421875 75.984375 \r\nL 18.40625 75.984375 \r\nL 18.40625 64.59375 \r\nL 9.421875 64.59375 \r\nz\r\n\" id=\"DejaVuSans-105\"/>\r\n     </defs>\r\n     <use xlink:href=\"#DejaVuSans-67\"/>\r\n     <use x=\"69.824219\" xlink:href=\"#DejaVuSans-117\"/>\r\n     <use x=\"133.203125\" xlink:href=\"#DejaVuSans-115\"/>\r\n     <use x=\"185.302734\" xlink:href=\"#DejaVuSans-116\"/>\r\n     <use x=\"224.511719\" xlink:href=\"#DejaVuSans-111\"/>\r\n     <use x=\"285.693359\" xlink:href=\"#DejaVuSans-109\"/>\r\n     <use x=\"383.105469\" xlink:href=\"#DejaVuSans-101\"/>\r\n     <use x=\"444.628906\" xlink:href=\"#DejaVuSans-114\"/>\r\n     <use x=\"485.742188\" xlink:href=\"#DejaVuSans-32\"/>\r\n     <use x=\"517.529297\" xlink:href=\"#DejaVuSans-67\"/>\r\n     <use x=\"587.353516\" xlink:href=\"#DejaVuSans-104\"/>\r\n     <use x=\"650.732422\" xlink:href=\"#DejaVuSans-117\"/>\r\n     <use x=\"714.111328\" xlink:href=\"#DejaVuSans-114\"/>\r\n     <use x=\"753.474609\" xlink:href=\"#DejaVuSans-110\"/>\r\n     <use x=\"816.853516\" xlink:href=\"#DejaVuSans-32\"/>\r\n     <use x=\"848.640625\" xlink:href=\"#DejaVuSans-68\"/>\r\n     <use x=\"925.642578\" xlink:href=\"#DejaVuSans-105\"/>\r\n     <use x=\"953.425781\" xlink:href=\"#DejaVuSans-115\"/>\r\n     <use x=\"1005.525391\" xlink:href=\"#DejaVuSans-116\"/>\r\n     <use x=\"1044.734375\" xlink:href=\"#DejaVuSans-114\"/>\r\n     <use x=\"1085.847656\" xlink:href=\"#DejaVuSans-105\"/>\r\n     <use x=\"1113.630859\" xlink:href=\"#DejaVuSans-98\"/>\r\n     <use x=\"1177.107422\" xlink:href=\"#DejaVuSans-117\"/>\r\n     <use x=\"1240.486328\" xlink:href=\"#DejaVuSans-116\"/>\r\n     <use x=\"1279.695312\" xlink:href=\"#DejaVuSans-105\"/>\r\n     <use x=\"1307.478516\" xlink:href=\"#DejaVuSans-111\"/>\r\n     <use x=\"1368.660156\" xlink:href=\"#DejaVuSans-110\"/>\r\n    </g>\r\n   </g>\r\n  </g>\r\n </g>\r\n <defs>\r\n  <clipPath id=\"p92d868165c\">\r\n   <rect height=\"217.44\" width=\"334.8\" x=\"57.231563\" y=\"46.341656\"/>\r\n  </clipPath>\r\n </defs>\r\n</svg>\r\n",
      "image/png": "[encoded data removed]"
     },
     "metadata": {
      "needs_background": "light"
     }
    }
   ],
   "source": [
    "churn_yes = df1['Churn'].value_counts()[1]\n",
    "churn_no = df1['Churn'].value_counts()[0]\n",
    "churn_yes_per = churn_yes / df1.shape[0] * 100\n",
    "churn_no_per = churn_no / df1.shape[0] * 100\n",
    "\n",
    "print('{} of {} customers did churn and it is the {:.2f}% of the dataset.'.format(churn_yes, df1.shape[0], churn_yes_per))\n",
    "print('{} of {} customers did not churn and it is the {:.2f}% of the dataset.\\n'.format(churn_no, df1.shape[0], churn_no_per))\n",
    "\n",
    "with sns.color_palette(['#cf0022', '#18cf00']):\n",
    "    plt.figure(figsize=(6, 4))\n",
    "    sns.countplot(x=df1['Churn'], order=['Yes', 'No'])\n",
    "    plt.xlabel('Churn', size=13, labelpad=5)\n",
    "    plt.ylabel('Number of Customer', size=13, labelpad=5)\n",
    "    plt.xticks((1, 0), ['No ({0:.2f}%)'.format(churn_no_per), 'Yes ({0:.2f}%)'.format(churn_yes_per)])\n",
    "    plt.title('Customer Churn Distribution', size=15, y=1.10)\n",
    "\n",
    "plt.show()"
   ]
  },
  {
   "source": [
    "#### 1.4.2 Tenure (Continuous Feature)"
   ],
   "cell_type": "markdown",
   "metadata": {}
  },
  {
   "cell_type": "code",
   "execution_count": 17,
   "metadata": {},
   "outputs": [
    {
     "output_type": "display_data",
     "data": {
      "text/plain": "<Figure size 720x360 with 1 Axes>",
      "image/svg+xml": "<?xml version=\"1.0\" encoding=\"utf-8\" standalone=\"no\"?>\r\n<!DOCTYPE svg PUBLIC \"-//W3C//DTD SVG 1.1//EN\"\r\n  \"http://www.w3.org/Graphics/SVG/1.1/DTD/svg11.dtd\">\r\n<!-- Created with matplotlib (https://matplotlib.org/) -->\r\n<svg height=\"365.037344pt\" version=\"1.1\" viewBox=\"0 0 622.431563 365.037344\" width=\"622.431563pt\" xmlns=\"http://www.w3.org/2000/svg\" xmlns:xlink=\"http://www.w3.org/1999/xlink\">\r\n <metadata>\r\n  <rdf:RDF xmlns:cc=\"http://creativecommons.org/ns#\" xmlns:dc=\"http://purl.org/dc/elements/1.1/\" xmlns:rdf=\"http://www.w3.org/1999/02/22-rdf-syntax-ns#\">\r\n   <cc:Work>\r\n    <dc:type rdf:resource=\"http://purl.org/dc/dcmitype/StillImage\"/>\r\n    <dc:date>2021-05-23T21:08:13.592248</dc:date>\r\n    <dc:format>image/svg+xml</dc:format>\r\n    <dc:creator>\r\n     <cc:Agent>\r\n      <dc:title>Matplotlib v3.3.2, https://matplotlib.org/</dc:title>\r\n     </cc:Agent>\r\n    </dc:creator>\r\n   </cc:Work>\r\n  </rdf:RDF>\r\n </metadata>\r\n <defs>\r\n  <style type=\"text/css\">*{stroke-linecap:butt;stroke-linejoin:round;}</style>\r\n </defs>\r\n <g id=\"figure_1\">\r\n  <g id=\"patch_1\">\r\n   <path d=\"M 0 365.037344 \r\nL 622.431563 365.037344 \r\nL 622.431563 0 \r\nL 0 0 \r\nz\r\n\" style=\"fill:none;\"/>\r\n  </g>\r\n  <g id=\"axes_1\">\r\n   <g id=\"patch_2\">\r\n    <path d=\"M 57.231563 323.577656 \r\nL 615.231562 323.577656 \r\nL 615.231562 51.777656 \r\nL 57.231563 51.777656 \r\nz\r\n\" style=\"fill:#ffffff;\"/>\r\n   </g>\r\n   <g id=\"patch_3\">\r\n    <path clip-path=\"url(#p0e01d83ea3)\" d=\"M 82.595199 323.577656 \r\nL 121.616178 323.577656 \r\nL 121.616178 181.967572 \r\nL 82.595199 181.967572 \r\nz\r\n\" style=\"fill:#cf0022;stroke:#808080;stroke-linejoin:miter;\"/>\r\n   </g>\r\n   <g id=\"patch_4\">\r\n    <path clip-path=\"url(#p0e01d83ea3)\" d=\"M 121.616178 323.577656 \r\nL 160.637157 323.577656 \r\nL 160.637157 275.041942 \r\nL 121.616178 275.041942 \r\nz\r\n\" style=\"fill:#cf0022;stroke:#808080;stroke-linejoin:miter;\"/>\r\n   </g>\r\n   <g id=\"patch_5\">\r\n    <path clip-path=\"url(#p0e01d83ea3)\" d=\"M 160.637157 323.577656 \r\nL 199.658136 323.577656 \r\nL 199.658136 287.223455 \r\nL 160.637157 287.223455 \r\nz\r\n\" style=\"fill:#cf0022;stroke:#808080;stroke-linejoin:miter;\"/>\r\n   </g>\r\n   <g id=\"patch_6\">\r\n    <path clip-path=\"url(#p0e01d83ea3)\" d=\"M 199.658136 323.577656 \r\nL 238.679115 323.577656 \r\nL 238.679115 301.117992 \r\nL 199.658136 301.117992 \r\nz\r\n\" style=\"fill:#cf0022;stroke:#808080;stroke-linejoin:miter;\"/>\r\n   </g>\r\n   <g id=\"patch_7\">\r\n    <path clip-path=\"url(#p0e01d83ea3)\" d=\"M 238.679115 323.577656 \r\nL 277.700094 323.577656 \r\nL 277.700094 304.353707 \r\nL 238.679115 304.353707 \r\nz\r\n\" style=\"fill:#cf0022;stroke:#808080;stroke-linejoin:miter;\"/>\r\n   </g>\r\n   <g id=\"patch_8\">\r\n    <path clip-path=\"url(#p0e01d83ea3)\" d=\"M 277.700094 323.577656 \r\nL 316.721073 323.577656 \r\nL 316.721073 306.066732 \r\nL 277.700094 306.066732 \r\nz\r\n\" style=\"fill:#cf0022;stroke:#808080;stroke-linejoin:miter;\"/>\r\n   </g>\r\n   <g id=\"patch_9\">\r\n    <path clip-path=\"url(#p0e01d83ea3)\" d=\"M 316.721073 323.577656 \r\nL 355.742052 323.577656 \r\nL 355.742052 308.541102 \r\nL 316.721073 308.541102 \r\nz\r\n\" style=\"fill:#cf0022;stroke:#808080;stroke-linejoin:miter;\"/>\r\n   </g>\r\n   <g id=\"patch_10\">\r\n    <path clip-path=\"url(#p0e01d83ea3)\" d=\"M 355.742052 323.577656 \r\nL 394.763031 323.577656 \r\nL 394.763031 310.825135 \r\nL 355.742052 310.825135 \r\nz\r\n\" style=\"fill:#cf0022;stroke:#808080;stroke-linejoin:miter;\"/>\r\n   </g>\r\n   <g id=\"patch_11\">\r\n    <path clip-path=\"url(#p0e01d83ea3)\" d=\"M 394.763031 323.577656 \r\nL 433.78401 323.577656 \r\nL 433.78401 311.396144 \r\nL 394.763031 311.396144 \r\nz\r\n\" style=\"fill:#cf0022;stroke:#808080;stroke-linejoin:miter;\"/>\r\n   </g>\r\n   <g id=\"patch_12\">\r\n    <path clip-path=\"url(#p0e01d83ea3)\" d=\"M 433.78401 323.577656 \r\nL 472.804989 323.577656 \r\nL 472.804989 312.347824 \r\nL 433.78401 312.347824 \r\nz\r\n\" style=\"fill:#cf0022;stroke:#808080;stroke-linejoin:miter;\"/>\r\n   </g>\r\n   <g id=\"patch_13\">\r\n    <path clip-path=\"url(#p0e01d83ea3)\" d=\"M 472.804989 323.577656 \r\nL 511.825968 323.577656 \r\nL 511.825968 316.725555 \r\nL 472.804989 316.725555 \r\nz\r\n\" style=\"fill:#cf0022;stroke:#808080;stroke-linejoin:miter;\"/>\r\n   </g>\r\n   <g id=\"patch_14\">\r\n    <path clip-path=\"url(#p0e01d83ea3)\" d=\"M 511.825968 323.577656 \r\nL 550.846947 323.577656 \r\nL 550.846947 312.728497 \r\nL 511.825968 312.728497 \r\nz\r\n\" style=\"fill:#cf0022;stroke:#808080;stroke-linejoin:miter;\"/>\r\n   </g>\r\n   <g id=\"patch_15\">\r\n    <path clip-path=\"url(#p0e01d83ea3)\" d=\"M 550.846947 323.577656 \r\nL 589.867926 323.577656 \r\nL 589.867926 322.435639 \r\nL 550.846947 322.435639 \r\nz\r\n\" style=\"fill:#cf0022;stroke:#808080;stroke-linejoin:miter;\"/>\r\n   </g>\r\n   <g id=\"patch_16\">\r\n    <path clip-path=\"url(#p0e01d83ea3)\" d=\"M 82.595199 181.967572 \r\nL 121.616178 181.967572 \r\nL 121.616178 64.720513 \r\nL 82.595199 64.720513 \r\nz\r\n\" style=\"fill:#18cf00;stroke:#808080;stroke-linejoin:miter;\"/>\r\n   </g>\r\n   <g id=\"patch_17\">\r\n    <path clip-path=\"url(#p0e01d83ea3)\" d=\"M 121.616178 275.041942 \r\nL 160.637157 275.041942 \r\nL 160.637157 190.723034 \r\nL 121.616178 190.723034 \r\nz\r\n\" style=\"fill:#18cf00;stroke:#808080;stroke-linejoin:miter;\"/>\r\n   </g>\r\n   <g id=\"patch_18\">\r\n    <path clip-path=\"url(#p0e01d83ea3)\" d=\"M 160.637157 287.223455 \r\nL 199.658136 287.223455 \r\nL 199.658136 215.466732 \r\nL 160.637157 215.466732 \r\nz\r\n\" style=\"fill:#18cf00;stroke:#808080;stroke-linejoin:miter;\"/>\r\n   </g>\r\n   <g id=\"patch_19\">\r\n    <path clip-path=\"url(#p0e01d83ea3)\" d=\"M 199.658136 301.117992 \r\nL 238.679115 301.117992 \r\nL 238.679115 232.406648 \r\nL 199.658136 232.406648 \r\nz\r\n\" style=\"fill:#18cf00;stroke:#808080;stroke-linejoin:miter;\"/>\r\n   </g>\r\n   <g id=\"patch_20\">\r\n    <path clip-path=\"url(#p0e01d83ea3)\" d=\"M 238.679115 304.353707 \r\nL 277.700094 304.353707 \r\nL 277.700094 237.355387 \r\nL 238.679115 237.355387 \r\nz\r\n\" style=\"fill:#18cf00;stroke:#808080;stroke-linejoin:miter;\"/>\r\n   </g>\r\n   <g id=\"patch_21\">\r\n    <path clip-path=\"url(#p0e01d83ea3)\" d=\"M 277.700094 306.066732 \r\nL 316.721073 306.066732 \r\nL 316.721073 243.065471 \r\nL 277.700094 243.065471 \r\nz\r\n\" style=\"fill:#18cf00;stroke:#808080;stroke-linejoin:miter;\"/>\r\n   </g>\r\n   <g id=\"patch_22\">\r\n    <path clip-path=\"url(#p0e01d83ea3)\" d=\"M 316.721073 308.541102 \r\nL 355.742052 308.541102 \r\nL 355.742052 254.295303 \r\nL 316.721073 254.295303 \r\nz\r\n\" style=\"fill:#18cf00;stroke:#808080;stroke-linejoin:miter;\"/>\r\n   </g>\r\n   <g id=\"patch_23\">\r\n    <path clip-path=\"url(#p0e01d83ea3)\" d=\"M 355.742052 310.825135 \r\nL 394.763031 310.825135 \r\nL 394.763031 250.488581 \r\nL 355.742052 250.488581 \r\nz\r\n\" style=\"fill:#18cf00;stroke:#808080;stroke-linejoin:miter;\"/>\r\n   </g>\r\n   <g id=\"patch_24\">\r\n    <path clip-path=\"url(#p0e01d83ea3)\" d=\"M 394.763031 311.396144 \r\nL 433.78401 311.396144 \r\nL 433.78401 244.397824 \r\nL 394.763031 244.397824 \r\nz\r\n\" style=\"fill:#18cf00;stroke:#808080;stroke-linejoin:miter;\"/>\r\n   </g>\r\n   <g id=\"patch_25\">\r\n    <path clip-path=\"url(#p0e01d83ea3)\" d=\"M 433.78401 312.347824 \r\nL 472.804989 312.347824 \r\nL 472.804989 246.681858 \r\nL 433.78401 246.681858 \r\nz\r\n\" style=\"fill:#18cf00;stroke:#808080;stroke-linejoin:miter;\"/>\r\n   </g>\r\n   <g id=\"patch_26\">\r\n    <path clip-path=\"url(#p0e01d83ea3)\" d=\"M 472.804989 316.725555 \r\nL 511.825968 316.725555 \r\nL 511.825968 237.926396 \r\nL 472.804989 237.926396 \r\nz\r\n\" style=\"fill:#18cf00;stroke:#808080;stroke-linejoin:miter;\"/>\r\n   </g>\r\n   <g id=\"patch_27\">\r\n    <path clip-path=\"url(#p0e01d83ea3)\" d=\"M 511.825968 312.728497 \r\nL 550.846947 312.728497 \r\nL 550.846947 195.86211 \r\nL 511.825968 195.86211 \r\nz\r\n\" style=\"fill:#18cf00;stroke:#808080;stroke-linejoin:miter;\"/>\r\n   </g>\r\n   <g id=\"patch_28\">\r\n    <path clip-path=\"url(#p0e01d83ea3)\" d=\"M 550.846947 322.435639 \r\nL 589.867926 322.435639 \r\nL 589.867926 254.675976 \r\nL 550.846947 254.675976 \r\nz\r\n\" style=\"fill:#18cf00;stroke:#808080;stroke-linejoin:miter;\"/>\r\n   </g>\r\n   <g id=\"matplotlib.axis_1\">\r\n    <g id=\"xtick_1\">\r\n     <g id=\"line2d_1\">\r\n      <defs>\r\n       <path d=\"M 0 0 \r\nL 0 3.5 \r\n\" id=\"m551d6a89d7\" style=\"stroke:#000000;stroke-width:0.8;\"/>\r\n      </defs>\r\n      <g>\r\n       <use style=\"stroke:#000000;stroke-width:0.8;\" x=\"82.595199\" xlink:href=\"#m551d6a89d7\" y=\"323.577656\"/>\r\n      </g>\r\n     </g>\r\n     <g id=\"text_1\">\r\n      <!-- 0 -->\r\n      <g transform=\"translate(79.413949 338.176094)scale(0.1 -0.1)\">\r\n       <defs>\r\n        <path d=\"M 31.78125 66.40625 \r\nQ 24.171875 66.40625 20.328125 58.90625 \r\nQ 16.5 51.421875 16.5 36.375 \r\nQ 16.5 21.390625 20.328125 13.890625 \r\nQ 24.171875 6.390625 31.78125 6.390625 \r\nQ 39.453125 6.390625 43.28125 13.890625 \r\nQ 47.125 21.390625 47.125 36.375 \r\nQ 47.125 51.421875 43.28125 58.90625 \r\nQ 39.453125 66.40625 31.78125 66.40625 \r\nz\r\nM 31.78125 74.21875 \r\nQ 44.046875 74.21875 50.515625 64.515625 \r\nQ 56.984375 54.828125 56.984375 36.375 \r\nQ 56.984375 17.96875 50.515625 8.265625 \r\nQ 44.046875 -1.421875 31.78125 -1.421875 \r\nQ 19.53125 -1.421875 13.0625 8.265625 \r\nQ 6.59375 17.96875 6.59375 36.375 \r\nQ 6.59375 54.828125 13.0625 64.515625 \r\nQ 19.53125 74.21875 31.78125 74.21875 \r\nz\r\n\" id=\"DejaVuSans-48\"/>\r\n       </defs>\r\n       <use xlink:href=\"#DejaVuSans-48\"/>\r\n      </g>\r\n     </g>\r\n    </g>\r\n    <g id=\"xtick_2\">\r\n     <g id=\"line2d_2\">\r\n      <g>\r\n       <use style=\"stroke:#000000;stroke-width:0.8;\" x=\"121.616178\" xlink:href=\"#m551d6a89d7\" y=\"323.577656\"/>\r\n      </g>\r\n     </g>\r\n     <g id=\"text_2\">\r\n      <!-- 6 -->\r\n      <g transform=\"translate(118.434928 338.176094)scale(0.1 -0.1)\">\r\n       <defs>\r\n        <path d=\"M 33.015625 40.375 \r\nQ 26.375 40.375 22.484375 35.828125 \r\nQ 18.609375 31.296875 18.609375 23.390625 \r\nQ 18.609375 15.53125 22.484375 10.953125 \r\nQ 26.375 6.390625 33.015625 6.390625 \r\nQ 39.65625 6.390625 43.53125 10.953125 \r\nQ 47.40625 15.53125 47.40625 23.390625 \r\nQ 47.40625 31.296875 43.53125 35.828125 \r\nQ 39.65625 40.375 33.015625 40.375 \r\nz\r\nM 52.59375 71.296875 \r\nL 52.59375 62.3125 \r\nQ 48.875 64.0625 45.09375 64.984375 \r\nQ 41.3125 65.921875 37.59375 65.921875 \r\nQ 27.828125 65.921875 22.671875 59.328125 \r\nQ 17.53125 52.734375 16.796875 39.40625 \r\nQ 19.671875 43.65625 24.015625 45.921875 \r\nQ 28.375 48.1875 33.59375 48.1875 \r\nQ 44.578125 48.1875 50.953125 41.515625 \r\nQ 57.328125 34.859375 57.328125 23.390625 \r\nQ 57.328125 12.15625 50.6875 5.359375 \r\nQ 44.046875 -1.421875 33.015625 -1.421875 \r\nQ 20.359375 -1.421875 13.671875 8.265625 \r\nQ 6.984375 17.96875 6.984375 36.375 \r\nQ 6.984375 53.65625 15.1875 63.9375 \r\nQ 23.390625 74.21875 37.203125 74.21875 \r\nQ 40.921875 74.21875 44.703125 73.484375 \r\nQ 48.484375 72.75 52.59375 71.296875 \r\nz\r\n\" id=\"DejaVuSans-54\"/>\r\n       </defs>\r\n       <use xlink:href=\"#DejaVuSans-54\"/>\r\n      </g>\r\n     </g>\r\n    </g>\r\n    <g id=\"xtick_3\">\r\n     <g id=\"line2d_3\">\r\n      <g>\r\n       <use style=\"stroke:#000000;stroke-width:0.8;\" x=\"160.637157\" xlink:href=\"#m551d6a89d7\" y=\"323.577656\"/>\r\n      </g>\r\n     </g>\r\n     <g id=\"text_3\">\r\n      <!-- 12 -->\r\n      <g transform=\"translate(154.274657 338.176094)scale(0.1 -0.1)\">\r\n       <defs>\r\n        <path d=\"M 12.40625 8.296875 \r\nL 28.515625 8.296875 \r\nL 28.515625 63.921875 \r\nL 10.984375 60.40625 \r\nL 10.984375 69.390625 \r\nL 28.421875 72.90625 \r\nL 38.28125 72.90625 \r\nL 38.28125 8.296875 \r\nL 54.390625 8.296875 \r\nL 54.390625 0 \r\nL 12.40625 0 \r\nz\r\n\" id=\"DejaVuSans-49\"/>\r\n        <path d=\"M 19.1875 8.296875 \r\nL 53.609375 8.296875 \r\nL 53.609375 0 \r\nL 7.328125 0 \r\nL 7.328125 8.296875 \r\nQ 12.9375 14.109375 22.625 23.890625 \r\nQ 32.328125 33.6875 34.8125 36.53125 \r\nQ 39.546875 41.84375 41.421875 45.53125 \r\nQ 43.3125 49.21875 43.3125 52.78125 \r\nQ 43.3125 58.59375 39.234375 62.25 \r\nQ 35.15625 65.921875 28.609375 65.921875 \r\nQ 23.96875 65.921875 18.8125 64.3125 \r\nQ 13.671875 62.703125 7.8125 59.421875 \r\nL 7.8125 69.390625 \r\nQ 13.765625 71.78125 18.9375 73 \r\nQ 24.125 74.21875 28.421875 74.21875 \r\nQ 39.75 74.21875 46.484375 68.546875 \r\nQ 53.21875 62.890625 53.21875 53.421875 \r\nQ 53.21875 48.921875 51.53125 44.890625 \r\nQ 49.859375 40.875 45.40625 35.40625 \r\nQ 44.1875 33.984375 37.640625 27.21875 \r\nQ 31.109375 20.453125 19.1875 8.296875 \r\nz\r\n\" id=\"DejaVuSans-50\"/>\r\n       </defs>\r\n       <use xlink:href=\"#DejaVuSans-49\"/>\r\n       <use x=\"63.623047\" xlink:href=\"#DejaVuSans-50\"/>\r\n      </g>\r\n     </g>\r\n    </g>\r\n    <g id=\"xtick_4\">\r\n     <g id=\"line2d_4\">\r\n      <g>\r\n       <use style=\"stroke:#000000;stroke-width:0.8;\" x=\"199.658136\" xlink:href=\"#m551d6a89d7\" y=\"323.577656\"/>\r\n      </g>\r\n     </g>\r\n     <g id=\"text_4\">\r\n      <!-- 18 -->\r\n      <g transform=\"translate(193.295636 338.176094)scale(0.1 -0.1)\">\r\n       <defs>\r\n        <path d=\"M 31.78125 34.625 \r\nQ 24.75 34.625 20.71875 30.859375 \r\nQ 16.703125 27.09375 16.703125 20.515625 \r\nQ 16.703125 13.921875 20.71875 10.15625 \r\nQ 24.75 6.390625 31.78125 6.390625 \r\nQ 38.8125 6.390625 42.859375 10.171875 \r\nQ 46.921875 13.96875 46.921875 20.515625 \r\nQ 46.921875 27.09375 42.890625 30.859375 \r\nQ 38.875 34.625 31.78125 34.625 \r\nz\r\nM 21.921875 38.8125 \r\nQ 15.578125 40.375 12.03125 44.71875 \r\nQ 8.5 49.078125 8.5 55.328125 \r\nQ 8.5 64.0625 14.71875 69.140625 \r\nQ 20.953125 74.21875 31.78125 74.21875 \r\nQ 42.671875 74.21875 48.875 69.140625 \r\nQ 55.078125 64.0625 55.078125 55.328125 \r\nQ 55.078125 49.078125 51.53125 44.71875 \r\nQ 48 40.375 41.703125 38.8125 \r\nQ 48.828125 37.15625 52.796875 32.3125 \r\nQ 56.78125 27.484375 56.78125 20.515625 \r\nQ 56.78125 9.90625 50.3125 4.234375 \r\nQ 43.84375 -1.421875 31.78125 -1.421875 \r\nQ 19.734375 -1.421875 13.25 4.234375 \r\nQ 6.78125 9.90625 6.78125 20.515625 \r\nQ 6.78125 27.484375 10.78125 32.3125 \r\nQ 14.796875 37.15625 21.921875 38.8125 \r\nz\r\nM 18.3125 54.390625 \r\nQ 18.3125 48.734375 21.84375 45.5625 \r\nQ 25.390625 42.390625 31.78125 42.390625 \r\nQ 38.140625 42.390625 41.71875 45.5625 \r\nQ 45.3125 48.734375 45.3125 54.390625 \r\nQ 45.3125 60.0625 41.71875 63.234375 \r\nQ 38.140625 66.40625 31.78125 66.40625 \r\nQ 25.390625 66.40625 21.84375 63.234375 \r\nQ 18.3125 60.0625 18.3125 54.390625 \r\nz\r\n\" id=\"DejaVuSans-56\"/>\r\n       </defs>\r\n       <use xlink:href=\"#DejaVuSans-49\"/>\r\n       <use x=\"63.623047\" xlink:href=\"#DejaVuSans-56\"/>\r\n      </g>\r\n     </g>\r\n    </g>\r\n    <g id=\"xtick_5\">\r\n     <g id=\"line2d_5\">\r\n      <g>\r\n       <use style=\"stroke:#000000;stroke-width:0.8;\" x=\"238.679115\" xlink:href=\"#m551d6a89d7\" y=\"323.577656\"/>\r\n      </g>\r\n     </g>\r\n     <g id=\"text_5\">\r\n      <!-- 24 -->\r\n      <g transform=\"translate(232.316615 338.176094)scale(0.1 -0.1)\">\r\n       <defs>\r\n        <path d=\"M 37.796875 64.3125 \r\nL 12.890625 25.390625 \r\nL 37.796875 25.390625 \r\nz\r\nM 35.203125 72.90625 \r\nL 47.609375 72.90625 \r\nL 47.609375 25.390625 \r\nL 58.015625 25.390625 \r\nL 58.015625 17.1875 \r\nL 47.609375 17.1875 \r\nL 47.609375 0 \r\nL 37.796875 0 \r\nL 37.796875 17.1875 \r\nL 4.890625 17.1875 \r\nL 4.890625 26.703125 \r\nz\r\n\" id=\"DejaVuSans-52\"/>\r\n       </defs>\r\n       <use xlink:href=\"#DejaVuSans-50\"/>\r\n       <use x=\"63.623047\" xlink:href=\"#DejaVuSans-52\"/>\r\n      </g>\r\n     </g>\r\n    </g>\r\n    <g id=\"xtick_6\">\r\n     <g id=\"line2d_6\">\r\n      <g>\r\n       <use style=\"stroke:#000000;stroke-width:0.8;\" x=\"277.700094\" xlink:href=\"#m551d6a89d7\" y=\"323.577656\"/>\r\n      </g>\r\n     </g>\r\n     <g id=\"text_6\">\r\n      <!-- 30 -->\r\n      <g transform=\"translate(271.337594 338.176094)scale(0.1 -0.1)\">\r\n       <defs>\r\n        <path d=\"M 40.578125 39.3125 \r\nQ 47.65625 37.796875 51.625 33 \r\nQ 55.609375 28.21875 55.609375 21.1875 \r\nQ 55.609375 10.40625 48.1875 4.484375 \r\nQ 40.765625 -1.421875 27.09375 -1.421875 \r\nQ 22.515625 -1.421875 17.65625 -0.515625 \r\nQ 12.796875 0.390625 7.625 2.203125 \r\nL 7.625 11.71875 \r\nQ 11.71875 9.328125 16.59375 8.109375 \r\nQ 21.484375 6.890625 26.8125 6.890625 \r\nQ 36.078125 6.890625 40.9375 10.546875 \r\nQ 45.796875 14.203125 45.796875 21.1875 \r\nQ 45.796875 27.640625 41.28125 31.265625 \r\nQ 36.765625 34.90625 28.71875 34.90625 \r\nL 20.21875 34.90625 \r\nL 20.21875 43.015625 \r\nL 29.109375 43.015625 \r\nQ 36.375 43.015625 40.234375 45.921875 \r\nQ 44.09375 48.828125 44.09375 54.296875 \r\nQ 44.09375 59.90625 40.109375 62.90625 \r\nQ 36.140625 65.921875 28.71875 65.921875 \r\nQ 24.65625 65.921875 20.015625 65.03125 \r\nQ 15.375 64.15625 9.8125 62.3125 \r\nL 9.8125 71.09375 \r\nQ 15.4375 72.65625 20.34375 73.4375 \r\nQ 25.25 74.21875 29.59375 74.21875 \r\nQ 40.828125 74.21875 47.359375 69.109375 \r\nQ 53.90625 64.015625 53.90625 55.328125 \r\nQ 53.90625 49.265625 50.4375 45.09375 \r\nQ 46.96875 40.921875 40.578125 39.3125 \r\nz\r\n\" id=\"DejaVuSans-51\"/>\r\n       </defs>\r\n       <use xlink:href=\"#DejaVuSans-51\"/>\r\n       <use x=\"63.623047\" xlink:href=\"#DejaVuSans-48\"/>\r\n      </g>\r\n     </g>\r\n    </g>\r\n    <g id=\"xtick_7\">\r\n     <g id=\"line2d_7\">\r\n      <g>\r\n       <use style=\"stroke:#000000;stroke-width:0.8;\" x=\"316.721073\" xlink:href=\"#m551d6a89d7\" y=\"323.577656\"/>\r\n      </g>\r\n     </g>\r\n     <g id=\"text_7\">\r\n      <!-- 36 -->\r\n      <g transform=\"translate(310.358573 338.176094)scale(0.1 -0.1)\">\r\n       <use xlink:href=\"#DejaVuSans-51\"/>\r\n       <use x=\"63.623047\" xlink:href=\"#DejaVuSans-54\"/>\r\n      </g>\r\n     </g>\r\n    </g>\r\n    <g id=\"xtick_8\">\r\n     <g id=\"line2d_8\">\r\n      <g>\r\n       <use style=\"stroke:#000000;stroke-width:0.8;\" x=\"355.742052\" xlink:href=\"#m551d6a89d7\" y=\"323.577656\"/>\r\n      </g>\r\n     </g>\r\n     <g id=\"text_8\">\r\n      <!-- 42 -->\r\n      <g transform=\"translate(349.379552 338.176094)scale(0.1 -0.1)\">\r\n       <use xlink:href=\"#DejaVuSans-52\"/>\r\n       <use x=\"63.623047\" xlink:href=\"#DejaVuSans-50\"/>\r\n      </g>\r\n     </g>\r\n    </g>\r\n    <g id=\"xtick_9\">\r\n     <g id=\"line2d_9\">\r\n      <g>\r\n       <use style=\"stroke:#000000;stroke-width:0.8;\" x=\"394.763031\" xlink:href=\"#m551d6a89d7\" y=\"323.577656\"/>\r\n      </g>\r\n     </g>\r\n     <g id=\"text_9\">\r\n      <!-- 48 -->\r\n      <g transform=\"translate(388.400531 338.176094)scale(0.1 -0.1)\">\r\n       <use xlink:href=\"#DejaVuSans-52\"/>\r\n       <use x=\"63.623047\" xlink:href=\"#DejaVuSans-56\"/>\r\n      </g>\r\n     </g>\r\n    </g>\r\n    <g id=\"xtick_10\">\r\n     <g id=\"line2d_10\">\r\n      <g>\r\n       <use style=\"stroke:#000000;stroke-width:0.8;\" x=\"433.78401\" xlink:href=\"#m551d6a89d7\" y=\"323.577656\"/>\r\n      </g>\r\n     </g>\r\n     <g id=\"text_10\">\r\n      <!-- 54 -->\r\n      <g transform=\"translate(427.42151 338.176094)scale(0.1 -0.1)\">\r\n       <defs>\r\n        <path d=\"M 10.796875 72.90625 \r\nL 49.515625 72.90625 \r\nL 49.515625 64.59375 \r\nL 19.828125 64.59375 \r\nL 19.828125 46.734375 \r\nQ 21.96875 47.46875 24.109375 47.828125 \r\nQ 26.265625 48.1875 28.421875 48.1875 \r\nQ 40.625 48.1875 47.75 41.5 \r\nQ 54.890625 34.8125 54.890625 23.390625 \r\nQ 54.890625 11.625 47.5625 5.09375 \r\nQ 40.234375 -1.421875 26.90625 -1.421875 \r\nQ 22.3125 -1.421875 17.546875 -0.640625 \r\nQ 12.796875 0.140625 7.71875 1.703125 \r\nL 7.71875 11.625 \r\nQ 12.109375 9.234375 16.796875 8.0625 \r\nQ 21.484375 6.890625 26.703125 6.890625 \r\nQ 35.15625 6.890625 40.078125 11.328125 \r\nQ 45.015625 15.765625 45.015625 23.390625 \r\nQ 45.015625 31 40.078125 35.4375 \r\nQ 35.15625 39.890625 26.703125 39.890625 \r\nQ 22.75 39.890625 18.8125 39.015625 \r\nQ 14.890625 38.140625 10.796875 36.28125 \r\nz\r\n\" id=\"DejaVuSans-53\"/>\r\n       </defs>\r\n       <use xlink:href=\"#DejaVuSans-53\"/>\r\n       <use x=\"63.623047\" xlink:href=\"#DejaVuSans-52\"/>\r\n      </g>\r\n     </g>\r\n    </g>\r\n    <g id=\"xtick_11\">\r\n     <g id=\"line2d_11\">\r\n      <g>\r\n       <use style=\"stroke:#000000;stroke-width:0.8;\" x=\"472.804989\" xlink:href=\"#m551d6a89d7\" y=\"323.577656\"/>\r\n      </g>\r\n     </g>\r\n     <g id=\"text_11\">\r\n      <!-- 60 -->\r\n      <g transform=\"translate(466.442489 338.176094)scale(0.1 -0.1)\">\r\n       <use xlink:href=\"#DejaVuSans-54\"/>\r\n       <use x=\"63.623047\" xlink:href=\"#DejaVuSans-48\"/>\r\n      </g>\r\n     </g>\r\n    </g>\r\n    <g id=\"xtick_12\">\r\n     <g id=\"line2d_12\">\r\n      <g>\r\n       <use style=\"stroke:#000000;stroke-width:0.8;\" x=\"511.825968\" xlink:href=\"#m551d6a89d7\" y=\"323.577656\"/>\r\n      </g>\r\n     </g>\r\n     <g id=\"text_12\">\r\n      <!-- 66 -->\r\n      <g transform=\"translate(505.463468 338.176094)scale(0.1 -0.1)\">\r\n       <use xlink:href=\"#DejaVuSans-54\"/>\r\n       <use x=\"63.623047\" xlink:href=\"#DejaVuSans-54\"/>\r\n      </g>\r\n     </g>\r\n    </g>\r\n    <g id=\"xtick_13\">\r\n     <g id=\"line2d_13\">\r\n      <g>\r\n       <use style=\"stroke:#000000;stroke-width:0.8;\" x=\"550.846947\" xlink:href=\"#m551d6a89d7\" y=\"323.577656\"/>\r\n      </g>\r\n     </g>\r\n     <g id=\"text_13\">\r\n      <!-- 72 -->\r\n      <g transform=\"translate(544.484447 338.176094)scale(0.1 -0.1)\">\r\n       <defs>\r\n        <path d=\"M 8.203125 72.90625 \r\nL 55.078125 72.90625 \r\nL 55.078125 68.703125 \r\nL 28.609375 0 \r\nL 18.3125 0 \r\nL 43.21875 64.59375 \r\nL 8.203125 64.59375 \r\nz\r\n\" id=\"DejaVuSans-55\"/>\r\n       </defs>\r\n       <use xlink:href=\"#DejaVuSans-55\"/>\r\n       <use x=\"63.623047\" xlink:href=\"#DejaVuSans-50\"/>\r\n      </g>\r\n     </g>\r\n    </g>\r\n    <g id=\"xtick_14\">\r\n     <g id=\"line2d_14\">\r\n      <g>\r\n       <use style=\"stroke:#000000;stroke-width:0.8;\" x=\"589.867926\" xlink:href=\"#m551d6a89d7\" y=\"323.577656\"/>\r\n      </g>\r\n     </g>\r\n     <g id=\"text_14\">\r\n      <!-- 78 -->\r\n      <g transform=\"translate(583.505426 338.176094)scale(0.1 -0.1)\">\r\n       <use xlink:href=\"#DejaVuSans-55\"/>\r\n       <use x=\"63.623047\" xlink:href=\"#DejaVuSans-56\"/>\r\n      </g>\r\n     </g>\r\n    </g>\r\n    <g id=\"text_15\">\r\n     <!-- Tenure (Months) -->\r\n     <g transform=\"translate(283.706484 355.13375)scale(0.13 -0.13)\">\r\n      <defs>\r\n       <path d=\"M -0.296875 72.90625 \r\nL 61.375 72.90625 \r\nL 61.375 64.59375 \r\nL 35.5 64.59375 \r\nL 35.5 0 \r\nL 25.59375 0 \r\nL 25.59375 64.59375 \r\nL -0.296875 64.59375 \r\nz\r\n\" id=\"DejaVuSans-84\"/>\r\n       <path d=\"M 56.203125 29.59375 \r\nL 56.203125 25.203125 \r\nL 14.890625 25.203125 \r\nQ 15.484375 15.921875 20.484375 11.0625 \r\nQ 25.484375 6.203125 34.421875 6.203125 \r\nQ 39.59375 6.203125 44.453125 7.46875 \r\nQ 49.3125 8.734375 54.109375 11.28125 \r\nL 54.109375 2.78125 \r\nQ 49.265625 0.734375 44.1875 -0.34375 \r\nQ 39.109375 -1.421875 33.890625 -1.421875 \r\nQ 20.796875 -1.421875 13.15625 6.1875 \r\nQ 5.515625 13.8125 5.515625 26.8125 \r\nQ 5.515625 40.234375 12.765625 48.109375 \r\nQ 20.015625 56 32.328125 56 \r\nQ 43.359375 56 49.78125 48.890625 \r\nQ 56.203125 41.796875 56.203125 29.59375 \r\nz\r\nM 47.21875 32.234375 \r\nQ 47.125 39.59375 43.09375 43.984375 \r\nQ 39.0625 48.390625 32.421875 48.390625 \r\nQ 24.90625 48.390625 20.390625 44.140625 \r\nQ 15.875 39.890625 15.1875 32.171875 \r\nz\r\n\" id=\"DejaVuSans-101\"/>\r\n       <path d=\"M 54.890625 33.015625 \r\nL 54.890625 0 \r\nL 45.90625 0 \r\nL 45.90625 32.71875 \r\nQ 45.90625 40.484375 42.875 44.328125 \r\nQ 39.84375 48.1875 33.796875 48.1875 \r\nQ 26.515625 48.1875 22.3125 43.546875 \r\nQ 18.109375 38.921875 18.109375 30.90625 \r\nL 18.109375 0 \r\nL 9.078125 0 \r\nL 9.078125 54.6875 \r\nL 18.109375 54.6875 \r\nL 18.109375 46.1875 \r\nQ 21.34375 51.125 25.703125 53.5625 \r\nQ 30.078125 56 35.796875 56 \r\nQ 45.21875 56 50.046875 50.171875 \r\nQ 54.890625 44.34375 54.890625 33.015625 \r\nz\r\n\" id=\"DejaVuSans-110\"/>\r\n       <path d=\"M 8.5 21.578125 \r\nL 8.5 54.6875 \r\nL 17.484375 54.6875 \r\nL 17.484375 21.921875 \r\nQ 17.484375 14.15625 20.5 10.265625 \r\nQ 23.53125 6.390625 29.59375 6.390625 \r\nQ 36.859375 6.390625 41.078125 11.03125 \r\nQ 45.3125 15.671875 45.3125 23.6875 \r\nL 45.3125 54.6875 \r\nL 54.296875 54.6875 \r\nL 54.296875 0 \r\nL 45.3125 0 \r\nL 45.3125 8.40625 \r\nQ 42.046875 3.421875 37.71875 1 \r\nQ 33.40625 -1.421875 27.6875 -1.421875 \r\nQ 18.265625 -1.421875 13.375 4.4375 \r\nQ 8.5 10.296875 8.5 21.578125 \r\nz\r\nM 31.109375 56 \r\nz\r\n\" id=\"DejaVuSans-117\"/>\r\n       <path d=\"M 41.109375 46.296875 \r\nQ 39.59375 47.171875 37.8125 47.578125 \r\nQ 36.03125 48 33.890625 48 \r\nQ 26.265625 48 22.1875 43.046875 \r\nQ 18.109375 38.09375 18.109375 28.8125 \r\nL 18.109375 0 \r\nL 9.078125 0 \r\nL 9.078125 54.6875 \r\nL 18.109375 54.6875 \r\nL 18.109375 46.1875 \r\nQ 20.953125 51.171875 25.484375 53.578125 \r\nQ 30.03125 56 36.53125 56 \r\nQ 37.453125 56 38.578125 55.875 \r\nQ 39.703125 55.765625 41.0625 55.515625 \r\nz\r\n\" id=\"DejaVuSans-114\"/>\r\n       <path id=\"DejaVuSans-32\"/>\r\n       <path d=\"M 31 75.875 \r\nQ 24.46875 64.65625 21.28125 53.65625 \r\nQ 18.109375 42.671875 18.109375 31.390625 \r\nQ 18.109375 20.125 21.3125 9.0625 \r\nQ 24.515625 -2 31 -13.1875 \r\nL 23.1875 -13.1875 \r\nQ 15.875 -1.703125 12.234375 9.375 \r\nQ 8.59375 20.453125 8.59375 31.390625 \r\nQ 8.59375 42.28125 12.203125 53.3125 \r\nQ 15.828125 64.359375 23.1875 75.875 \r\nz\r\n\" id=\"DejaVuSans-40\"/>\r\n       <path d=\"M 9.8125 72.90625 \r\nL 24.515625 72.90625 \r\nL 43.109375 23.296875 \r\nL 61.8125 72.90625 \r\nL 76.515625 72.90625 \r\nL 76.515625 0 \r\nL 66.890625 0 \r\nL 66.890625 64.015625 \r\nL 48.09375 14.015625 \r\nL 38.1875 14.015625 \r\nL 19.390625 64.015625 \r\nL 19.390625 0 \r\nL 9.8125 0 \r\nz\r\n\" id=\"DejaVuSans-77\"/>\r\n       <path d=\"M 30.609375 48.390625 \r\nQ 23.390625 48.390625 19.1875 42.75 \r\nQ 14.984375 37.109375 14.984375 27.296875 \r\nQ 14.984375 17.484375 19.15625 11.84375 \r\nQ 23.34375 6.203125 30.609375 6.203125 \r\nQ 37.796875 6.203125 41.984375 11.859375 \r\nQ 46.1875 17.53125 46.1875 27.296875 \r\nQ 46.1875 37.015625 41.984375 42.703125 \r\nQ 37.796875 48.390625 30.609375 48.390625 \r\nz\r\nM 30.609375 56 \r\nQ 42.328125 56 49.015625 48.375 \r\nQ 55.71875 40.765625 55.71875 27.296875 \r\nQ 55.71875 13.875 49.015625 6.21875 \r\nQ 42.328125 -1.421875 30.609375 -1.421875 \r\nQ 18.84375 -1.421875 12.171875 6.21875 \r\nQ 5.515625 13.875 5.515625 27.296875 \r\nQ 5.515625 40.765625 12.171875 48.375 \r\nQ 18.84375 56 30.609375 56 \r\nz\r\n\" id=\"DejaVuSans-111\"/>\r\n       <path d=\"M 18.3125 70.21875 \r\nL 18.3125 54.6875 \r\nL 36.8125 54.6875 \r\nL 36.8125 47.703125 \r\nL 18.3125 47.703125 \r\nL 18.3125 18.015625 \r\nQ 18.3125 11.328125 20.140625 9.421875 \r\nQ 21.96875 7.515625 27.59375 7.515625 \r\nL 36.8125 7.515625 \r\nL 36.8125 0 \r\nL 27.59375 0 \r\nQ 17.1875 0 13.234375 3.875 \r\nQ 9.28125 7.765625 9.28125 18.015625 \r\nL 9.28125 47.703125 \r\nL 2.6875 47.703125 \r\nL 2.6875 54.6875 \r\nL 9.28125 54.6875 \r\nL 9.28125 70.21875 \r\nz\r\n\" id=\"DejaVuSans-116\"/>\r\n       <path d=\"M 54.890625 33.015625 \r\nL 54.890625 0 \r\nL 45.90625 0 \r\nL 45.90625 32.71875 \r\nQ 45.90625 40.484375 42.875 44.328125 \r\nQ 39.84375 48.1875 33.796875 48.1875 \r\nQ 26.515625 48.1875 22.3125 43.546875 \r\nQ 18.109375 38.921875 18.109375 30.90625 \r\nL 18.109375 0 \r\nL 9.078125 0 \r\nL 9.078125 75.984375 \r\nL 18.109375 75.984375 \r\nL 18.109375 46.1875 \r\nQ 21.34375 51.125 25.703125 53.5625 \r\nQ 30.078125 56 35.796875 56 \r\nQ 45.21875 56 50.046875 50.171875 \r\nQ 54.890625 44.34375 54.890625 33.015625 \r\nz\r\n\" id=\"DejaVuSans-104\"/>\r\n       <path d=\"M 44.28125 53.078125 \r\nL 44.28125 44.578125 \r\nQ 40.484375 46.53125 36.375 47.5 \r\nQ 32.28125 48.484375 27.875 48.484375 \r\nQ 21.1875 48.484375 17.84375 46.4375 \r\nQ 14.5 44.390625 14.5 40.28125 \r\nQ 14.5 37.15625 16.890625 35.375 \r\nQ 19.28125 33.59375 26.515625 31.984375 \r\nL 29.59375 31.296875 \r\nQ 39.15625 29.25 43.1875 25.515625 \r\nQ 47.21875 21.78125 47.21875 15.09375 \r\nQ 47.21875 7.46875 41.1875 3.015625 \r\nQ 35.15625 -1.421875 24.609375 -1.421875 \r\nQ 20.21875 -1.421875 15.453125 -0.5625 \r\nQ 10.6875 0.296875 5.421875 2 \r\nL 5.421875 11.28125 \r\nQ 10.40625 8.6875 15.234375 7.390625 \r\nQ 20.0625 6.109375 24.8125 6.109375 \r\nQ 31.15625 6.109375 34.5625 8.28125 \r\nQ 37.984375 10.453125 37.984375 14.40625 \r\nQ 37.984375 18.0625 35.515625 20.015625 \r\nQ 33.0625 21.96875 24.703125 23.78125 \r\nL 21.578125 24.515625 \r\nQ 13.234375 26.265625 9.515625 29.90625 \r\nQ 5.8125 33.546875 5.8125 39.890625 \r\nQ 5.8125 47.609375 11.28125 51.796875 \r\nQ 16.75 56 26.8125 56 \r\nQ 31.78125 56 36.171875 55.265625 \r\nQ 40.578125 54.546875 44.28125 53.078125 \r\nz\r\n\" id=\"DejaVuSans-115\"/>\r\n       <path d=\"M 8.015625 75.875 \r\nL 15.828125 75.875 \r\nQ 23.140625 64.359375 26.78125 53.3125 \r\nQ 30.421875 42.28125 30.421875 31.390625 \r\nQ 30.421875 20.453125 26.78125 9.375 \r\nQ 23.140625 -1.703125 15.828125 -13.1875 \r\nL 8.015625 -13.1875 \r\nQ 14.5 -2 17.703125 9.0625 \r\nQ 20.90625 20.125 20.90625 31.390625 \r\nQ 20.90625 42.671875 17.703125 53.65625 \r\nQ 14.5 64.65625 8.015625 75.875 \r\nz\r\n\" id=\"DejaVuSans-41\"/>\r\n      </defs>\r\n      <use xlink:href=\"#DejaVuSans-84\"/>\r\n      <use x=\"44.083984\" xlink:href=\"#DejaVuSans-101\"/>\r\n      <use x=\"105.607422\" xlink:href=\"#DejaVuSans-110\"/>\r\n      <use x=\"168.986328\" xlink:href=\"#DejaVuSans-117\"/>\r\n      <use x=\"232.365234\" xlink:href=\"#DejaVuSans-114\"/>\r\n      <use x=\"271.228516\" xlink:href=\"#DejaVuSans-101\"/>\r\n      <use x=\"332.751953\" xlink:href=\"#DejaVuSans-32\"/>\r\n      <use x=\"364.539062\" xlink:href=\"#DejaVuSans-40\"/>\r\n      <use x=\"403.552734\" xlink:href=\"#DejaVuSans-77\"/>\r\n      <use x=\"489.832031\" xlink:href=\"#DejaVuSans-111\"/>\r\n      <use x=\"551.013672\" xlink:href=\"#DejaVuSans-110\"/>\r\n      <use x=\"614.392578\" xlink:href=\"#DejaVuSans-116\"/>\r\n      <use x=\"653.601562\" xlink:href=\"#DejaVuSans-104\"/>\r\n      <use x=\"716.980469\" xlink:href=\"#DejaVuSans-115\"/>\r\n      <use x=\"769.080078\" xlink:href=\"#DejaVuSans-41\"/>\r\n     </g>\r\n    </g>\r\n   </g>\r\n   <g id=\"matplotlib.axis_2\">\r\n    <g id=\"ytick_1\">\r\n     <g id=\"line2d_15\">\r\n      <defs>\r\n       <path d=\"M 0 0 \r\nL -3.5 0 \r\n\" id=\"maff3652828\" style=\"stroke:#000000;stroke-width:0.8;\"/>\r\n      </defs>\r\n      <g>\r\n       <use style=\"stroke:#000000;stroke-width:0.8;\" x=\"57.231563\" xlink:href=\"#maff3652828\" y=\"323.577656\"/>\r\n      </g>\r\n     </g>\r\n     <g id=\"text_16\">\r\n      <!-- 0 -->\r\n      <g transform=\"translate(43.869063 327.376875)scale(0.1 -0.1)\">\r\n       <use xlink:href=\"#DejaVuSans-48\"/>\r\n      </g>\r\n     </g>\r\n    </g>\r\n    <g id=\"ytick_2\">\r\n     <g id=\"line2d_16\">\r\n      <g>\r\n       <use style=\"stroke:#000000;stroke-width:0.8;\" x=\"57.231563\" xlink:href=\"#maff3652828\" y=\"285.510429\"/>\r\n      </g>\r\n     </g>\r\n     <g id=\"text_17\">\r\n      <!-- 200 -->\r\n      <g transform=\"translate(31.144063 289.309648)scale(0.1 -0.1)\">\r\n       <use xlink:href=\"#DejaVuSans-50\"/>\r\n       <use x=\"63.623047\" xlink:href=\"#DejaVuSans-48\"/>\r\n       <use x=\"127.246094\" xlink:href=\"#DejaVuSans-48\"/>\r\n      </g>\r\n     </g>\r\n    </g>\r\n    <g id=\"ytick_3\">\r\n     <g id=\"line2d_17\">\r\n      <g>\r\n       <use style=\"stroke:#000000;stroke-width:0.8;\" x=\"57.231563\" xlink:href=\"#maff3652828\" y=\"247.443202\"/>\r\n      </g>\r\n     </g>\r\n     <g id=\"text_18\">\r\n      <!-- 400 -->\r\n      <g transform=\"translate(31.144063 251.242421)scale(0.1 -0.1)\">\r\n       <use xlink:href=\"#DejaVuSans-52\"/>\r\n       <use x=\"63.623047\" xlink:href=\"#DejaVuSans-48\"/>\r\n       <use x=\"127.246094\" xlink:href=\"#DejaVuSans-48\"/>\r\n      </g>\r\n     </g>\r\n    </g>\r\n    <g id=\"ytick_4\">\r\n     <g id=\"line2d_18\">\r\n      <g>\r\n       <use style=\"stroke:#000000;stroke-width:0.8;\" x=\"57.231563\" xlink:href=\"#maff3652828\" y=\"209.375976\"/>\r\n      </g>\r\n     </g>\r\n     <g id=\"text_19\">\r\n      <!-- 600 -->\r\n      <g transform=\"translate(31.144063 213.175194)scale(0.1 -0.1)\">\r\n       <use xlink:href=\"#DejaVuSans-54\"/>\r\n       <use x=\"63.623047\" xlink:href=\"#DejaVuSans-48\"/>\r\n       <use x=\"127.246094\" xlink:href=\"#DejaVuSans-48\"/>\r\n      </g>\r\n     </g>\r\n    </g>\r\n    <g id=\"ytick_5\">\r\n     <g id=\"line2d_19\">\r\n      <g>\r\n       <use style=\"stroke:#000000;stroke-width:0.8;\" x=\"57.231563\" xlink:href=\"#maff3652828\" y=\"171.308749\"/>\r\n      </g>\r\n     </g>\r\n     <g id=\"text_20\">\r\n      <!-- 800 -->\r\n      <g transform=\"translate(31.144063 175.107967)scale(0.1 -0.1)\">\r\n       <use xlink:href=\"#DejaVuSans-56\"/>\r\n       <use x=\"63.623047\" xlink:href=\"#DejaVuSans-48\"/>\r\n       <use x=\"127.246094\" xlink:href=\"#DejaVuSans-48\"/>\r\n      </g>\r\n     </g>\r\n    </g>\r\n    <g id=\"ytick_6\">\r\n     <g id=\"line2d_20\">\r\n      <g>\r\n       <use style=\"stroke:#000000;stroke-width:0.8;\" x=\"57.231563\" xlink:href=\"#maff3652828\" y=\"133.241522\"/>\r\n      </g>\r\n     </g>\r\n     <g id=\"text_21\">\r\n      <!-- 1000 -->\r\n      <g transform=\"translate(24.781563 137.040741)scale(0.1 -0.1)\">\r\n       <use xlink:href=\"#DejaVuSans-49\"/>\r\n       <use x=\"63.623047\" xlink:href=\"#DejaVuSans-48\"/>\r\n       <use x=\"127.246094\" xlink:href=\"#DejaVuSans-48\"/>\r\n       <use x=\"190.869141\" xlink:href=\"#DejaVuSans-48\"/>\r\n      </g>\r\n     </g>\r\n    </g>\r\n    <g id=\"ytick_7\">\r\n     <g id=\"line2d_21\">\r\n      <g>\r\n       <use style=\"stroke:#000000;stroke-width:0.8;\" x=\"57.231563\" xlink:href=\"#maff3652828\" y=\"95.174295\"/>\r\n      </g>\r\n     </g>\r\n     <g id=\"text_22\">\r\n      <!-- 1200 -->\r\n      <g transform=\"translate(24.781563 98.973514)scale(0.1 -0.1)\">\r\n       <use xlink:href=\"#DejaVuSans-49\"/>\r\n       <use x=\"63.623047\" xlink:href=\"#DejaVuSans-50\"/>\r\n       <use x=\"127.246094\" xlink:href=\"#DejaVuSans-48\"/>\r\n       <use x=\"190.869141\" xlink:href=\"#DejaVuSans-48\"/>\r\n      </g>\r\n     </g>\r\n    </g>\r\n    <g id=\"ytick_8\">\r\n     <g id=\"line2d_22\">\r\n      <g>\r\n       <use style=\"stroke:#000000;stroke-width:0.8;\" x=\"57.231563\" xlink:href=\"#maff3652828\" y=\"57.107068\"/>\r\n      </g>\r\n     </g>\r\n     <g id=\"text_23\">\r\n      <!-- 1400 -->\r\n      <g transform=\"translate(24.781563 60.906287)scale(0.1 -0.1)\">\r\n       <use xlink:href=\"#DejaVuSans-49\"/>\r\n       <use x=\"63.623047\" xlink:href=\"#DejaVuSans-52\"/>\r\n       <use x=\"127.246094\" xlink:href=\"#DejaVuSans-48\"/>\r\n       <use x=\"190.869141\" xlink:href=\"#DejaVuSans-48\"/>\r\n      </g>\r\n     </g>\r\n    </g>\r\n    <g id=\"text_24\">\r\n     <!-- Number Of Customer -->\r\n     <g transform=\"translate(17.077969 256.898594)rotate(-90)scale(0.13 -0.13)\">\r\n      <defs>\r\n       <path d=\"M 9.8125 72.90625 \r\nL 23.09375 72.90625 \r\nL 55.421875 11.921875 \r\nL 55.421875 72.90625 \r\nL 64.984375 72.90625 \r\nL 64.984375 0 \r\nL 51.703125 0 \r\nL 19.390625 60.984375 \r\nL 19.390625 0 \r\nL 9.8125 0 \r\nz\r\n\" id=\"DejaVuSans-78\"/>\r\n       <path d=\"M 52 44.1875 \r\nQ 55.375 50.25 60.0625 53.125 \r\nQ 64.75 56 71.09375 56 \r\nQ 79.640625 56 84.28125 50.015625 \r\nQ 88.921875 44.046875 88.921875 33.015625 \r\nL 88.921875 0 \r\nL 79.890625 0 \r\nL 79.890625 32.71875 \r\nQ 79.890625 40.578125 77.09375 44.375 \r\nQ 74.3125 48.1875 68.609375 48.1875 \r\nQ 61.625 48.1875 57.5625 43.546875 \r\nQ 53.515625 38.921875 53.515625 30.90625 \r\nL 53.515625 0 \r\nL 44.484375 0 \r\nL 44.484375 32.71875 \r\nQ 44.484375 40.625 41.703125 44.40625 \r\nQ 38.921875 48.1875 33.109375 48.1875 \r\nQ 26.21875 48.1875 22.15625 43.53125 \r\nQ 18.109375 38.875 18.109375 30.90625 \r\nL 18.109375 0 \r\nL 9.078125 0 \r\nL 9.078125 54.6875 \r\nL 18.109375 54.6875 \r\nL 18.109375 46.1875 \r\nQ 21.1875 51.21875 25.484375 53.609375 \r\nQ 29.78125 56 35.6875 56 \r\nQ 41.65625 56 45.828125 52.96875 \r\nQ 50 49.953125 52 44.1875 \r\nz\r\n\" id=\"DejaVuSans-109\"/>\r\n       <path d=\"M 48.6875 27.296875 \r\nQ 48.6875 37.203125 44.609375 42.84375 \r\nQ 40.53125 48.484375 33.40625 48.484375 \r\nQ 26.265625 48.484375 22.1875 42.84375 \r\nQ 18.109375 37.203125 18.109375 27.296875 \r\nQ 18.109375 17.390625 22.1875 11.75 \r\nQ 26.265625 6.109375 33.40625 6.109375 \r\nQ 40.53125 6.109375 44.609375 11.75 \r\nQ 48.6875 17.390625 48.6875 27.296875 \r\nz\r\nM 18.109375 46.390625 \r\nQ 20.953125 51.265625 25.265625 53.625 \r\nQ 29.59375 56 35.59375 56 \r\nQ 45.5625 56 51.78125 48.09375 \r\nQ 58.015625 40.1875 58.015625 27.296875 \r\nQ 58.015625 14.40625 51.78125 6.484375 \r\nQ 45.5625 -1.421875 35.59375 -1.421875 \r\nQ 29.59375 -1.421875 25.265625 0.953125 \r\nQ 20.953125 3.328125 18.109375 8.203125 \r\nL 18.109375 0 \r\nL 9.078125 0 \r\nL 9.078125 75.984375 \r\nL 18.109375 75.984375 \r\nz\r\n\" id=\"DejaVuSans-98\"/>\r\n       <path d=\"M 39.40625 66.21875 \r\nQ 28.65625 66.21875 22.328125 58.203125 \r\nQ 16.015625 50.203125 16.015625 36.375 \r\nQ 16.015625 22.609375 22.328125 14.59375 \r\nQ 28.65625 6.59375 39.40625 6.59375 \r\nQ 50.140625 6.59375 56.421875 14.59375 \r\nQ 62.703125 22.609375 62.703125 36.375 \r\nQ 62.703125 50.203125 56.421875 58.203125 \r\nQ 50.140625 66.21875 39.40625 66.21875 \r\nz\r\nM 39.40625 74.21875 \r\nQ 54.734375 74.21875 63.90625 63.9375 \r\nQ 73.09375 53.65625 73.09375 36.375 \r\nQ 73.09375 19.140625 63.90625 8.859375 \r\nQ 54.734375 -1.421875 39.40625 -1.421875 \r\nQ 24.03125 -1.421875 14.8125 8.828125 \r\nQ 5.609375 19.09375 5.609375 36.375 \r\nQ 5.609375 53.65625 14.8125 63.9375 \r\nQ 24.03125 74.21875 39.40625 74.21875 \r\nz\r\n\" id=\"DejaVuSans-79\"/>\r\n       <path d=\"M 37.109375 75.984375 \r\nL 37.109375 68.5 \r\nL 28.515625 68.5 \r\nQ 23.6875 68.5 21.796875 66.546875 \r\nQ 19.921875 64.59375 19.921875 59.515625 \r\nL 19.921875 54.6875 \r\nL 34.71875 54.6875 \r\nL 34.71875 47.703125 \r\nL 19.921875 47.703125 \r\nL 19.921875 0 \r\nL 10.890625 0 \r\nL 10.890625 47.703125 \r\nL 2.296875 47.703125 \r\nL 2.296875 54.6875 \r\nL 10.890625 54.6875 \r\nL 10.890625 58.5 \r\nQ 10.890625 67.625 15.140625 71.796875 \r\nQ 19.390625 75.984375 28.609375 75.984375 \r\nz\r\n\" id=\"DejaVuSans-102\"/>\r\n       <path d=\"M 64.40625 67.28125 \r\nL 64.40625 56.890625 \r\nQ 59.421875 61.53125 53.78125 63.8125 \r\nQ 48.140625 66.109375 41.796875 66.109375 \r\nQ 29.296875 66.109375 22.65625 58.46875 \r\nQ 16.015625 50.828125 16.015625 36.375 \r\nQ 16.015625 21.96875 22.65625 14.328125 \r\nQ 29.296875 6.6875 41.796875 6.6875 \r\nQ 48.140625 6.6875 53.78125 8.984375 \r\nQ 59.421875 11.28125 64.40625 15.921875 \r\nL 64.40625 5.609375 \r\nQ 59.234375 2.09375 53.4375 0.328125 \r\nQ 47.65625 -1.421875 41.21875 -1.421875 \r\nQ 24.65625 -1.421875 15.125 8.703125 \r\nQ 5.609375 18.84375 5.609375 36.375 \r\nQ 5.609375 53.953125 15.125 64.078125 \r\nQ 24.65625 74.21875 41.21875 74.21875 \r\nQ 47.75 74.21875 53.53125 72.484375 \r\nQ 59.328125 70.75 64.40625 67.28125 \r\nz\r\n\" id=\"DejaVuSans-67\"/>\r\n      </defs>\r\n      <use xlink:href=\"#DejaVuSans-78\"/>\r\n      <use x=\"74.804688\" xlink:href=\"#DejaVuSans-117\"/>\r\n      <use x=\"138.183594\" xlink:href=\"#DejaVuSans-109\"/>\r\n      <use x=\"235.595703\" xlink:href=\"#DejaVuSans-98\"/>\r\n      <use x=\"299.072266\" xlink:href=\"#DejaVuSans-101\"/>\r\n      <use x=\"360.595703\" xlink:href=\"#DejaVuSans-114\"/>\r\n      <use x=\"401.708984\" xlink:href=\"#DejaVuSans-32\"/>\r\n      <use x=\"433.496094\" xlink:href=\"#DejaVuSans-79\"/>\r\n      <use x=\"512.207031\" xlink:href=\"#DejaVuSans-102\"/>\r\n      <use x=\"547.412109\" xlink:href=\"#DejaVuSans-32\"/>\r\n      <use x=\"579.199219\" xlink:href=\"#DejaVuSans-67\"/>\r\n      <use x=\"649.023438\" xlink:href=\"#DejaVuSans-117\"/>\r\n      <use x=\"712.402344\" xlink:href=\"#DejaVuSans-115\"/>\r\n      <use x=\"764.501953\" xlink:href=\"#DejaVuSans-116\"/>\r\n      <use x=\"803.710938\" xlink:href=\"#DejaVuSans-111\"/>\r\n      <use x=\"864.892578\" xlink:href=\"#DejaVuSans-109\"/>\r\n      <use x=\"962.304688\" xlink:href=\"#DejaVuSans-101\"/>\r\n      <use x=\"1023.828125\" xlink:href=\"#DejaVuSans-114\"/>\r\n     </g>\r\n    </g>\r\n   </g>\r\n   <g id=\"patch_29\">\r\n    <path d=\"M 57.231563 323.577656 \r\nL 57.231563 51.777656 \r\n\" style=\"fill:none;stroke:#000000;stroke-linecap:square;stroke-linejoin:miter;stroke-width:0.8;\"/>\r\n   </g>\r\n   <g id=\"patch_30\">\r\n    <path d=\"M 615.231562 323.577656 \r\nL 615.231562 51.777656 \r\n\" style=\"fill:none;stroke:#000000;stroke-linecap:square;stroke-linejoin:miter;stroke-width:0.8;\"/>\r\n   </g>\r\n   <g id=\"patch_31\">\r\n    <path d=\"M 57.231563 323.577656 \r\nL 615.231562 323.577656 \r\n\" style=\"fill:none;stroke:#000000;stroke-linecap:square;stroke-linejoin:miter;stroke-width:0.8;\"/>\r\n   </g>\r\n   <g id=\"patch_32\">\r\n    <path d=\"M 57.231563 51.777656 \r\nL 615.231562 51.777656 \r\n\" style=\"fill:none;stroke:#000000;stroke-linecap:square;stroke-linejoin:miter;stroke-width:0.8;\"/>\r\n   </g>\r\n   <g id=\"text_25\">\r\n    <!-- Customer Churn by Tenure -->\r\n    <g transform=\"translate(236.045625 18.597656)scale(0.15 -0.15)\">\r\n     <defs>\r\n      <path d=\"M 32.171875 -5.078125 \r\nQ 28.375 -14.84375 24.75 -17.8125 \r\nQ 21.140625 -20.796875 15.09375 -20.796875 \r\nL 7.90625 -20.796875 \r\nL 7.90625 -13.28125 \r\nL 13.1875 -13.28125 \r\nQ 16.890625 -13.28125 18.9375 -11.515625 \r\nQ 21 -9.765625 23.484375 -3.21875 \r\nL 25.09375 0.875 \r\nL 2.984375 54.6875 \r\nL 12.5 54.6875 \r\nL 29.59375 11.921875 \r\nL 46.6875 54.6875 \r\nL 56.203125 54.6875 \r\nz\r\n\" id=\"DejaVuSans-121\"/>\r\n     </defs>\r\n     <use xlink:href=\"#DejaVuSans-67\"/>\r\n     <use x=\"69.824219\" xlink:href=\"#DejaVuSans-117\"/>\r\n     <use x=\"133.203125\" xlink:href=\"#DejaVuSans-115\"/>\r\n     <use x=\"185.302734\" xlink:href=\"#DejaVuSans-116\"/>\r\n     <use x=\"224.511719\" xlink:href=\"#DejaVuSans-111\"/>\r\n     <use x=\"285.693359\" xlink:href=\"#DejaVuSans-109\"/>\r\n     <use x=\"383.105469\" xlink:href=\"#DejaVuSans-101\"/>\r\n     <use x=\"444.628906\" xlink:href=\"#DejaVuSans-114\"/>\r\n     <use x=\"485.742188\" xlink:href=\"#DejaVuSans-32\"/>\r\n     <use x=\"517.529297\" xlink:href=\"#DejaVuSans-67\"/>\r\n     <use x=\"587.353516\" xlink:href=\"#DejaVuSans-104\"/>\r\n     <use x=\"650.732422\" xlink:href=\"#DejaVuSans-117\"/>\r\n     <use x=\"714.111328\" xlink:href=\"#DejaVuSans-114\"/>\r\n     <use x=\"753.474609\" xlink:href=\"#DejaVuSans-110\"/>\r\n     <use x=\"816.853516\" xlink:href=\"#DejaVuSans-32\"/>\r\n     <use x=\"848.640625\" xlink:href=\"#DejaVuSans-98\"/>\r\n     <use x=\"912.117188\" xlink:href=\"#DejaVuSans-121\"/>\r\n     <use x=\"971.296875\" xlink:href=\"#DejaVuSans-32\"/>\r\n     <use x=\"1003.083984\" xlink:href=\"#DejaVuSans-84\"/>\r\n     <use x=\"1047.167969\" xlink:href=\"#DejaVuSans-101\"/>\r\n     <use x=\"1108.691406\" xlink:href=\"#DejaVuSans-110\"/>\r\n     <use x=\"1172.070312\" xlink:href=\"#DejaVuSans-117\"/>\r\n     <use x=\"1235.449219\" xlink:href=\"#DejaVuSans-114\"/>\r\n     <use x=\"1274.3125\" xlink:href=\"#DejaVuSans-101\"/>\r\n    </g>\r\n   </g>\r\n   <g id=\"legend_1\">\r\n    <g id=\"patch_33\">\r\n     <path d=\"M 521.775313 89.133906 \r\nL 608.231563 89.133906 \r\nQ 610.231563 89.133906 610.231563 87.133906 \r\nL 610.231563 58.777656 \r\nQ 610.231563 56.777656 608.231563 56.777656 \r\nL 521.775313 56.777656 \r\nQ 519.775313 56.777656 519.775313 58.777656 \r\nL 519.775313 87.133906 \r\nQ 519.775313 89.133906 521.775313 89.133906 \r\nz\r\n\" style=\"fill:#ffffff;opacity:0.8;stroke:#cccccc;stroke-linejoin:miter;\"/>\r\n    </g>\r\n    <g id=\"patch_34\">\r\n     <path d=\"M 523.775313 68.376094 \r\nL 543.775313 68.376094 \r\nL 543.775313 61.376094 \r\nL 523.775313 61.376094 \r\nz\r\n\" style=\"fill:#cf0022;stroke:#808080;stroke-linejoin:miter;\"/>\r\n    </g>\r\n    <g id=\"text_26\">\r\n     <!-- Churn=Yes -->\r\n     <g transform=\"translate(551.775313 68.376094)scale(0.1 -0.1)\">\r\n      <defs>\r\n       <path d=\"M 10.59375 45.40625 \r\nL 73.1875 45.40625 \r\nL 73.1875 37.203125 \r\nL 10.59375 37.203125 \r\nz\r\nM 10.59375 25.484375 \r\nL 73.1875 25.484375 \r\nL 73.1875 17.1875 \r\nL 10.59375 17.1875 \r\nz\r\n\" id=\"DejaVuSans-61\"/>\r\n       <path d=\"M -0.203125 72.90625 \r\nL 10.40625 72.90625 \r\nL 30.609375 42.921875 \r\nL 50.6875 72.90625 \r\nL 61.28125 72.90625 \r\nL 35.5 34.71875 \r\nL 35.5 0 \r\nL 25.59375 0 \r\nL 25.59375 34.71875 \r\nz\r\n\" id=\"DejaVuSans-89\"/>\r\n      </defs>\r\n      <use xlink:href=\"#DejaVuSans-67\"/>\r\n      <use x=\"69.824219\" xlink:href=\"#DejaVuSans-104\"/>\r\n      <use x=\"133.203125\" xlink:href=\"#DejaVuSans-117\"/>\r\n      <use x=\"196.582031\" xlink:href=\"#DejaVuSans-114\"/>\r\n      <use x=\"235.945312\" xlink:href=\"#DejaVuSans-110\"/>\r\n      <use x=\"299.324219\" xlink:href=\"#DejaVuSans-61\"/>\r\n      <use x=\"383.113281\" xlink:href=\"#DejaVuSans-89\"/>\r\n      <use x=\"430.947266\" xlink:href=\"#DejaVuSans-101\"/>\r\n      <use x=\"492.470703\" xlink:href=\"#DejaVuSans-115\"/>\r\n     </g>\r\n    </g>\r\n    <g id=\"patch_35\">\r\n     <path d=\"M 523.775313 83.054219 \r\nL 543.775313 83.054219 \r\nL 543.775313 76.054219 \r\nL 523.775313 76.054219 \r\nz\r\n\" style=\"fill:#18cf00;stroke:#808080;stroke-linejoin:miter;\"/>\r\n    </g>\r\n    <g id=\"text_27\">\r\n     <!-- Churn=No -->\r\n     <g transform=\"translate(551.775313 83.054219)scale(0.1 -0.1)\">\r\n      <use xlink:href=\"#DejaVuSans-67\"/>\r\n      <use x=\"69.824219\" xlink:href=\"#DejaVuSans-104\"/>\r\n      <use x=\"133.203125\" xlink:href=\"#DejaVuSans-117\"/>\r\n      <use x=\"196.582031\" xlink:href=\"#DejaVuSans-114\"/>\r\n      <use x=\"235.945312\" xlink:href=\"#DejaVuSans-110\"/>\r\n      <use x=\"299.324219\" xlink:href=\"#DejaVuSans-61\"/>\r\n      <use x=\"383.113281\" xlink:href=\"#DejaVuSans-78\"/>\r\n      <use x=\"457.917969\" xlink:href=\"#DejaVuSans-111\"/>\r\n     </g>\r\n    </g>\r\n   </g>\r\n  </g>\r\n </g>\r\n <defs>\r\n  <clipPath id=\"p0e01d83ea3\">\r\n   <rect height=\"271.8\" width=\"558\" x=\"57.231563\" y=\"51.777656\"/>\r\n  </clipPath>\r\n </defs>\r\n</svg>\r\n",
      "image/png": "[encoded data removed]"
     },
     "metadata": {
      "needs_background": "light"
     }
    }
   ],
   "source": [
    "tenure_churn_yes = df1[df1.Churn=='Yes'].tenure.reset_index(drop=True)\n",
    "tenure_churn_no = df1[df1.Churn=='No'].tenure.reset_index(drop=True)\n",
    "tenure_churn = df1.tenure.reset_index(drop=True)\n",
    "\n",
    "with sns.color_palette(['#cf0022', '#18cf00']):\n",
    "    fig, ax = plt.subplots(figsize=(10,5))\n",
    "    counts, bins, patches = ax.hist([tenure_churn_yes, tenure_churn_no], bins=[0,6,12,18,24,30,36,42,48,54,60,66,72,78], edgecolor='gray', stacked=True)\n",
    "    ax.set_xticks(bins.round(0))\n",
    "    plt.xlabel('Tenure (Months)', size=13, labelpad=5)\n",
    "    plt.ylabel('Number Of Customer', size=13, labelpad=5)\n",
    "    plt.title('Customer Churn by Tenure', size=15, y=1.10)\n",
    "    plt.legend(['Churn=Yes','Churn=No'])\n",
    "\n",
    "plt.show()"
   ]
  },
  {
   "cell_type": "code",
   "execution_count": 136,
   "metadata": {},
   "outputs": [
    {
     "output_type": "execute_result",
     "data": {
      "text/plain": [
       "      churn_yes  churn_no\n",
       "0           2.0         1\n",
       "1           2.0        34\n",
       "2           8.0        45\n",
       "3          28.0        22\n",
       "4          49.0        10\n",
       "...         ...       ...\n",
       "5158        NaN        72\n",
       "5159        NaN        24\n",
       "5160        NaN        72\n",
       "5161        NaN        11\n",
       "5162        NaN        66\n",
       "\n",
       "[5163 rows x 2 columns]"
      ],
      "text/html": "<div>\n<style scoped>\n    .dataframe tbody tr th:only-of-type {\n        vertical-align: middle;\n    }\n\n    .dataframe tbody tr th {\n        vertical-align: top;\n    }\n\n    .dataframe thead th {\n        text-align: right;\n    }\n</style>\n<table border=\"1\" class=\"dataframe\">\n  <thead>\n    <tr style=\"text-align: right;\">\n      <th></th>\n      <th>churn_yes</th>\n      <th>churn_no</th>\n    </tr>\n  </thead>\n  <tbody>\n    <tr>\n      <th>0</th>\n      <td>2.0</td>\n      <td>1</td>\n    </tr>\n    <tr>\n      <th>1</th>\n      <td>2.0</td>\n      <td>34</td>\n    </tr>\n    <tr>\n      <th>2</th>\n      <td>8.0</td>\n      <td>45</td>\n    </tr>\n    <tr>\n      <th>3</th>\n      <td>28.0</td>\n      <td>22</td>\n    </tr>\n    <tr>\n      <th>4</th>\n      <td>49.0</td>\n      <td>10</td>\n    </tr>\n    <tr>\n      <th>...</th>\n      <td>...</td>\n      <td>...</td>\n    </tr>\n    <tr>\n      <th>5158</th>\n      <td>NaN</td>\n      <td>72</td>\n    </tr>\n    <tr>\n      <th>5159</th>\n      <td>NaN</td>\n      <td>24</td>\n    </tr>\n    <tr>\n      <th>5160</th>\n      <td>NaN</td>\n      <td>72</td>\n    </tr>\n    <tr>\n      <th>5161</th>\n      <td>NaN</td>\n      <td>11</td>\n    </tr>\n    <tr>\n      <th>5162</th>\n      <td>NaN</td>\n      <td>66</td>\n    </tr>\n  </tbody>\n</table>\n<p>5163 rows × 2 columns</p>\n</div>"
     },
     "metadata": {},
     "execution_count": 136
    }
   ],
   "source": [
    "tc_y = df1[df1.Churn=='Yes'].tenure.reset_index(drop=True)\n",
    "tc_n = df1[df1.Churn=='No'].tenure.reset_index(drop=True)\n",
    "tenure_churn = df1.tenure.reset_index(drop=True)\n",
    "\n",
    "tc0 = pd.concat([tc_y, tc_n], axis=1)\n",
    "tc0.columns = ['churn_yes', 'churn_no']\n",
    "\n",
    "tc0"
   ]
  },
  {
   "cell_type": "code",
   "execution_count": 139,
   "metadata": {},
   "outputs": [
    {
     "output_type": "execute_result",
     "data": {
      "text/plain": [
       "     churn_yes_range churn_no_range\n",
       "0                0-6            0-6\n",
       "1                0-6          31-36\n",
       "2               7-12          43-48\n",
       "3              25-30          19-24\n",
       "4              49-54           7-12\n",
       "...              ...            ...\n",
       "5158             NaN          67-72\n",
       "5159             NaN          19-24\n",
       "5160             NaN          67-72\n",
       "5161             NaN           7-12\n",
       "5162             NaN          61-66\n",
       "\n",
       "[5163 rows x 2 columns]"
      ],
      "text/html": "<div>\n<style scoped>\n    .dataframe tbody tr th:only-of-type {\n        vertical-align: middle;\n    }\n\n    .dataframe tbody tr th {\n        vertical-align: top;\n    }\n\n    .dataframe thead th {\n        text-align: right;\n    }\n</style>\n<table border=\"1\" class=\"dataframe\">\n  <thead>\n    <tr style=\"text-align: right;\">\n      <th></th>\n      <th>churn_yes_range</th>\n      <th>churn_no_range</th>\n    </tr>\n  </thead>\n  <tbody>\n    <tr>\n      <th>0</th>\n      <td>0-6</td>\n      <td>0-6</td>\n    </tr>\n    <tr>\n      <th>1</th>\n      <td>0-6</td>\n      <td>31-36</td>\n    </tr>\n    <tr>\n      <th>2</th>\n      <td>7-12</td>\n      <td>43-48</td>\n    </tr>\n    <tr>\n      <th>3</th>\n      <td>25-30</td>\n      <td>19-24</td>\n    </tr>\n    <tr>\n      <th>4</th>\n      <td>49-54</td>\n      <td>7-12</td>\n    </tr>\n    <tr>\n      <th>...</th>\n      <td>...</td>\n      <td>...</td>\n    </tr>\n    <tr>\n      <th>5158</th>\n      <td>NaN</td>\n      <td>67-72</td>\n    </tr>\n    <tr>\n      <th>5159</th>\n      <td>NaN</td>\n      <td>19-24</td>\n    </tr>\n    <tr>\n      <th>5160</th>\n      <td>NaN</td>\n      <td>67-72</td>\n    </tr>\n    <tr>\n      <th>5161</th>\n      <td>NaN</td>\n      <td>7-12</td>\n    </tr>\n    <tr>\n      <th>5162</th>\n      <td>NaN</td>\n      <td>61-66</td>\n    </tr>\n  </tbody>\n</table>\n<p>5163 rows × 2 columns</p>\n</div>"
     },
     "metadata": {},
     "execution_count": 139
    }
   ],
   "source": [
    "tc_y1 = tc_y.replace(range(0, 7), '0-6').replace(range(7, 13), '7-12').replace(range(13, 19), '13-18').replace(range(19, 25), '19-24').replace(range(25, 31), '25-30').replace(range(31, 37), '31-36').replace(range(37, 43), '37-42').replace(range(43, 49), '43-48').replace(range(49, 55), '49-54').replace(range(55, 61), '55-60').replace(range(61, 67), '61-66').replace(range(67, 73), '67-72').replace(range(73, 79), '73-78')\n",
    "tc_n1 = tc_n.replace(range(0, 7), '0-6').replace(range(7, 13), '7-12').replace(range(13, 19), '13-18').replace(range(19, 25), '19-24').replace(range(25, 31), '25-30').replace(range(31, 37), '31-36').replace(range(37, 43), '37-42').replace(range(43, 49), '43-48').replace(range(49, 55), '49-54').replace(range(55, 61), '55-60').replace(range(61, 67), '61-66').replace(range(67, 73), '67-72').replace(range(73, 79), '73-78')\n",
    "\n",
    "tc1 = pd.concat([tc_y1, tc_n1], axis=1)\n",
    "tc1.columns = ['churn_yes_range', 'churn_no_range']\n",
    "\n",
    "tc1"
   ]
  },
  {
   "cell_type": "code",
   "execution_count": 140,
   "metadata": {},
   "outputs": [
    {
     "output_type": "execute_result",
     "data": {
      "text/plain": [
       "      churn_yes  churn_no churn_yes_range churn_no_range\n",
       "0           2.0         1             0-6            0-6\n",
       "1           2.0        34             0-6          31-36\n",
       "2           8.0        45            7-12          43-48\n",
       "3          28.0        22           25-30          19-24\n",
       "4          49.0        10           49-54           7-12\n",
       "...         ...       ...             ...            ...\n",
       "5158        NaN        72             NaN          67-72\n",
       "5159        NaN        24             NaN          19-24\n",
       "5160        NaN        72             NaN          67-72\n",
       "5161        NaN        11             NaN           7-12\n",
       "5162        NaN        66             NaN          61-66\n",
       "\n",
       "[5163 rows x 4 columns]"
      ],
      "text/html": "<div>\n<style scoped>\n    .dataframe tbody tr th:only-of-type {\n        vertical-align: middle;\n    }\n\n    .dataframe tbody tr th {\n        vertical-align: top;\n    }\n\n    .dataframe thead th {\n        text-align: right;\n    }\n</style>\n<table border=\"1\" class=\"dataframe\">\n  <thead>\n    <tr style=\"text-align: right;\">\n      <th></th>\n      <th>churn_yes</th>\n      <th>churn_no</th>\n      <th>churn_yes_range</th>\n      <th>churn_no_range</th>\n    </tr>\n  </thead>\n  <tbody>\n    <tr>\n      <th>0</th>\n      <td>2.0</td>\n      <td>1</td>\n      <td>0-6</td>\n      <td>0-6</td>\n    </tr>\n    <tr>\n      <th>1</th>\n      <td>2.0</td>\n      <td>34</td>\n      <td>0-6</td>\n      <td>31-36</td>\n    </tr>\n    <tr>\n      <th>2</th>\n      <td>8.0</td>\n      <td>45</td>\n      <td>7-12</td>\n      <td>43-48</td>\n    </tr>\n    <tr>\n      <th>3</th>\n      <td>28.0</td>\n      <td>22</td>\n      <td>25-30</td>\n      <td>19-24</td>\n    </tr>\n    <tr>\n      <th>4</th>\n      <td>49.0</td>\n      <td>10</td>\n      <td>49-54</td>\n      <td>7-12</td>\n    </tr>\n    <tr>\n      <th>...</th>\n      <td>...</td>\n      <td>...</td>\n      <td>...</td>\n      <td>...</td>\n    </tr>\n    <tr>\n      <th>5158</th>\n      <td>NaN</td>\n      <td>72</td>\n      <td>NaN</td>\n      <td>67-72</td>\n    </tr>\n    <tr>\n      <th>5159</th>\n      <td>NaN</td>\n      <td>24</td>\n      <td>NaN</td>\n      <td>19-24</td>\n    </tr>\n    <tr>\n      <th>5160</th>\n      <td>NaN</td>\n      <td>72</td>\n      <td>NaN</td>\n      <td>67-72</td>\n    </tr>\n    <tr>\n      <th>5161</th>\n      <td>NaN</td>\n      <td>11</td>\n      <td>NaN</td>\n      <td>7-12</td>\n    </tr>\n    <tr>\n      <th>5162</th>\n      <td>NaN</td>\n      <td>66</td>\n      <td>NaN</td>\n      <td>61-66</td>\n    </tr>\n  </tbody>\n</table>\n<p>5163 rows × 4 columns</p>\n</div>"
     },
     "metadata": {},
     "execution_count": 140
    }
   ],
   "source": [
    "tc = pd.concat([tc0, tc1], axis=1)\n",
    "\n",
    "tc"
   ]
  },
  {
   "cell_type": "code",
   "execution_count": 159,
   "metadata": {
    "tags": []
   },
   "outputs": [
    {
     "output_type": "stream",
     "name": "stdout",
     "text": [
      "                churn_no                                                    \\\nchurn_yes           1.0  2.0  3.0  4.0  5.0  6.0  7.0  8.0  9.0  10.0 11.0   \nchurn_yes_range                                                              \n0-6                  380  123   94   83   64   40    0    0    0    0    0   \n13-18                  0    0    0    0    0    0    0    0    0    0    0   \n19-24                  0    0    0    0    0    0    0    0    0    0    0   \n25-30                  0    0    0    0    0    0    0    0    0    0    0   \n31-36                  0    0    0    0    0    0    0    0    0    0    0   \n37-42                  0    0    0    0    0    0    0    0    0    0    0   \n43-48                  0    0    0    0    0    0    0    0    0    0    0   \n49-54                  0    0    0    0    0    0    0    0    0    0    0   \n55-60                  0    0    0    0    0    0    0    0    0    0    0   \n61-66                  0    0    0    0    0    0    0    0    0    0    0   \n67-72                  0    0    0    0    0    0    0    0    0    0    0   \n7-12                   0    0    0    0    0    0   51   42   46   45   31   \n\n                                                                             \\\nchurn_yes       12.0 13.0 14.0 15.0 16.0 17.0 18.0 19.0 20.0 21.0 22.0 23.0   \nchurn_yes_range                                                               \n0-6                0    0    0    0    0    0    0    0    0    0    0    0   \n13-18              0   38   24   37   28   26   24    0    0    0    0    0   \n19-24              0    0    0    0    0    0    0   19   18   17   27   13   \n25-30              0    0    0    0    0    0    0    0    0    0    0    0   \n31-36              0    0    0    0    0    0    0    0    0    0    0    0   \n37-42              0    0    0    0    0    0    0    0    0    0    0    0   \n43-48              0    0    0    0    0    0    0    0    0    0    0    0   \n49-54              0    0    0    0    0    0    0    0    0    0    0    0   \n55-60              0    0    0    0    0    0    0    0    0    0    0    0   \n61-66              0    0    0    0    0    0    0    0    0    0    0    0   \n67-72              0    0    0    0    0    0    0    0    0    0    0    0   \n7-12              38    0    0    0    0    0    0    0    0    0    0    0   \n\n                                                                             \\\nchurn_yes       24.0 25.0 26.0 27.0 28.0 29.0 30.0 31.0 32.0 33.0 34.0 35.0   \nchurn_yes_range                                                               \n0-6                0    0    0    0    0    0    0    0    0    0    0    0   \n13-18              0    0    0    0    0    0    0    0    0    0    0    0   \n19-24             23    0    0    0    0    0    0    0    0    0    0    0   \n25-30              0   23   15   13   12   15   16    0    0    0    0    0   \n31-36              0    0    0    0    0    0    0   16   19   14   12   15   \n37-42              0    0    0    0    0    0    0    0    0    0    0    0   \n43-48              0    0    0    0    0    0    0    0    0    0    0    0   \n49-54              0    0    0    0    0    0    0    0    0    0    0    0   \n55-60              0    0    0    0    0    0    0    0    0    0    0    0   \n61-66              0    0    0    0    0    0    0    0    0    0    0    0   \n67-72              0    0    0    0    0    0    0    0    0    0    0    0   \n7-12               0    0    0    0    0    0    0    0    0    0    0    0   \n\n                                                                             \\\nchurn_yes       36.0 37.0 38.0 39.0 40.0 41.0 42.0 43.0 44.0 45.0 46.0 47.0   \nchurn_yes_range                                                               \n0-6                0    0    0    0    0    0    0    0    0    0    0    0   \n13-18              0    0    0    0    0    0    0    0    0    0    0    0   \n19-24              0    0    0    0    0    0    0    0    0    0    0    0   \n25-30              0    0    0    0    0    0    0    0    0    0    0    0   \n31-36             10    0    0    0    0    0    0    0    0    0    0    0   \n37-42              0   15   13   14   13   14   14    0    0    0    0    0   \n43-48              0    0    0    0    0    0    0   15    6    6   12   14   \n49-54              0    0    0    0    0    0    0    0    0    0    0    0   \n55-60              0    0    0    0    0    0    0    0    0    0    0    0   \n61-66              0    0    0    0    0    0    0    0    0    0    0    0   \n67-72              0    0    0    0    0    0    0    0    0    0    0    0   \n7-12               0    0    0    0    0    0    0    0    0    0    0    0   \n\n                                                                             \\\nchurn_yes       48.0 49.0 50.0 51.0 52.0 53.0 54.0 55.0 56.0 57.0 58.0 59.0   \nchurn_yes_range                                                               \n0-6                0    0    0    0    0    0    0    0    0    0    0    0   \n13-18              0    0    0    0    0    0    0    0    0    0    0    0   \n19-24              0    0    0    0    0    0    0    0    0    0    0    0   \n25-30              0    0    0    0    0    0    0    0    0    0    0    0   \n31-36              0    0    0    0    0    0    0    0    0    0    0    0   \n37-42              0    0    0    0    0    0    0    0    0    0    0    0   \n43-48              9    0    0    0    0    0    0    0    0    0    0    0   \n49-54              0   15   10    8    8   14   13    0    0    0    0    0   \n55-60              0    0    0    0    0    0    0    9   10    8   11    8   \n61-66              0    0    0    0    0    0    0    0    0    0    0    0   \n67-72              0    0    0    0    0    0    0    0    0    0    0    0   \n7-12               0    0    0    0    0    0    0    0    0    0    0    0   \n\n                                                                             \\\nchurn_yes       60.0 61.0 62.0 63.0 64.0 65.0 66.0 67.0 68.0 69.0 70.0 71.0   \nchurn_yes_range                                                               \n0-6                0    0    0    0    0    0    0    0    0    0    0    0   \n13-18              0    0    0    0    0    0    0    0    0    0    0    0   \n19-24              0    0    0    0    0    0    0    0    0    0    0    0   \n25-30              0    0    0    0    0    0    0    0    0    0    0    0   \n31-36              0    0    0    0    0    0    0    0    0    0    0    0   \n37-42              0    0    0    0    0    0    0    0    0    0    0    0   \n43-48              0    0    0    0    0    0    0    0    0    0    0    0   \n49-54              0    0    0    0    0    0    0    0    0    0    0    0   \n55-60              6    0    0    0    0    0    0    0    0    0    0    0   \n61-66              0    8    5    4    4    9   13    0    0    0    0    0   \n67-72              0    0    0    0    0    0    0   10    9    8   11    6   \n7-12               0    0    0    0    0    0    0    0    0    0    0    0   \n\n                     churn_no_range                                          \\\nchurn_yes       72.0           1.0  2.0  3.0  4.0  5.0  6.0  7.0  8.0  9.0    \nchurn_yes_range                                                               \n0-6                0            380  123   94   83   64   40    0    0    0   \n13-18              0              0    0    0    0    0    0    0    0    0   \n19-24              0              0    0    0    0    0    0    0    0    0   \n25-30              0              0    0    0    0    0    0    0    0    0   \n31-36              0              0    0    0    0    0    0    0    0    0   \n37-42              0              0    0    0    0    0    0    0    0    0   \n43-48              0              0    0    0    0    0    0    0    0    0   \n49-54              0              0    0    0    0    0    0    0    0    0   \n55-60              0              0    0    0    0    0    0    0    0    0   \n61-66              0              0    0    0    0    0    0    0    0    0   \n67-72              6              0    0    0    0    0    0    0    0    0   \n7-12               0              0    0    0    0    0    0   51   42   46   \n\n                                                                             \\\nchurn_yes       10.0 11.0 12.0 13.0 14.0 15.0 16.0 17.0 18.0 19.0 20.0 21.0   \nchurn_yes_range                                                               \n0-6                0    0    0    0    0    0    0    0    0    0    0    0   \n13-18              0    0    0   38   24   37   28   26   24    0    0    0   \n19-24              0    0    0    0    0    0    0    0    0   19   18   17   \n25-30              0    0    0    0    0    0    0    0    0    0    0    0   \n31-36              0    0    0    0    0    0    0    0    0    0    0    0   \n37-42              0    0    0    0    0    0    0    0    0    0    0    0   \n43-48              0    0    0    0    0    0    0    0    0    0    0    0   \n49-54              0    0    0    0    0    0    0    0    0    0    0    0   \n55-60              0    0    0    0    0    0    0    0    0    0    0    0   \n61-66              0    0    0    0    0    0    0    0    0    0    0    0   \n67-72              0    0    0    0    0    0    0    0    0    0    0    0   \n7-12              45   31   38    0    0    0    0    0    0    0    0    0   \n\n                                                                             \\\nchurn_yes       22.0 23.0 24.0 25.0 26.0 27.0 28.0 29.0 30.0 31.0 32.0 33.0   \nchurn_yes_range                                                               \n0-6                0    0    0    0    0    0    0    0    0    0    0    0   \n13-18              0    0    0    0    0    0    0    0    0    0    0    0   \n19-24             27   13   23    0    0    0    0    0    0    0    0    0   \n25-30              0    0    0   23   15   13   12   15   16    0    0    0   \n31-36              0    0    0    0    0    0    0    0    0   16   19   14   \n37-42              0    0    0    0    0    0    0    0    0    0    0    0   \n43-48              0    0    0    0    0    0    0    0    0    0    0    0   \n49-54              0    0    0    0    0    0    0    0    0    0    0    0   \n55-60              0    0    0    0    0    0    0    0    0    0    0    0   \n61-66              0    0    0    0    0    0    0    0    0    0    0    0   \n67-72              0    0    0    0    0    0    0    0    0    0    0    0   \n7-12               0    0    0    0    0    0    0    0    0    0    0    0   \n\n                                                                             \\\nchurn_yes       34.0 35.0 36.0 37.0 38.0 39.0 40.0 41.0 42.0 43.0 44.0 45.0   \nchurn_yes_range                                                               \n0-6                0    0    0    0    0    0    0    0    0    0    0    0   \n13-18              0    0    0    0    0    0    0    0    0    0    0    0   \n19-24              0    0    0    0    0    0    0    0    0    0    0    0   \n25-30              0    0    0    0    0    0    0    0    0    0    0    0   \n31-36             12   15   10    0    0    0    0    0    0    0    0    0   \n37-42              0    0    0   15   13   14   13   14   14    0    0    0   \n43-48              0    0    0    0    0    0    0    0    0   15    6    6   \n49-54              0    0    0    0    0    0    0    0    0    0    0    0   \n55-60              0    0    0    0    0    0    0    0    0    0    0    0   \n61-66              0    0    0    0    0    0    0    0    0    0    0    0   \n67-72              0    0    0    0    0    0    0    0    0    0    0    0   \n7-12               0    0    0    0    0    0    0    0    0    0    0    0   \n\n                                                                             \\\nchurn_yes       46.0 47.0 48.0 49.0 50.0 51.0 52.0 53.0 54.0 55.0 56.0 57.0   \nchurn_yes_range                                                               \n0-6                0    0    0    0    0    0    0    0    0    0    0    0   \n13-18              0    0    0    0    0    0    0    0    0    0    0    0   \n19-24              0    0    0    0    0    0    0    0    0    0    0    0   \n25-30              0    0    0    0    0    0    0    0    0    0    0    0   \n31-36              0    0    0    0    0    0    0    0    0    0    0    0   \n37-42              0    0    0    0    0    0    0    0    0    0    0    0   \n43-48             12   14    9    0    0    0    0    0    0    0    0    0   \n49-54              0    0    0   15   10    8    8   14   13    0    0    0   \n55-60              0    0    0    0    0    0    0    0    0    9   10    8   \n61-66              0    0    0    0    0    0    0    0    0    0    0    0   \n67-72              0    0    0    0    0    0    0    0    0    0    0    0   \n7-12               0    0    0    0    0    0    0    0    0    0    0    0   \n\n                                                                             \\\nchurn_yes       58.0 59.0 60.0 61.0 62.0 63.0 64.0 65.0 66.0 67.0 68.0 69.0   \nchurn_yes_range                                                               \n0-6                0    0    0    0    0    0    0    0    0    0    0    0   \n13-18              0    0    0    0    0    0    0    0    0    0    0    0   \n19-24              0    0    0    0    0    0    0    0    0    0    0    0   \n25-30              0    0    0    0    0    0    0    0    0    0    0    0   \n31-36              0    0    0    0    0    0    0    0    0    0    0    0   \n37-42              0    0    0    0    0    0    0    0    0    0    0    0   \n43-48              0    0    0    0    0    0    0    0    0    0    0    0   \n49-54              0    0    0    0    0    0    0    0    0    0    0    0   \n55-60             11    8    6    0    0    0    0    0    0    0    0    0   \n61-66              0    0    0    8    5    4    4    9   13    0    0    0   \n67-72              0    0    0    0    0    0    0    0    0   10    9    8   \n7-12               0    0    0    0    0    0    0    0    0    0    0    0   \n\n                                \nchurn_yes       70.0 71.0 72.0  \nchurn_yes_range                 \n0-6                0    0    0  \n13-18              0    0    0  \n19-24              0    0    0  \n25-30              0    0    0  \n31-36              0    0    0  \n37-42              0    0    0  \n43-48              0    0    0  \n49-54              0    0    0  \n55-60              0    0    0  \n61-66              0    0    0  \n67-72             11    6    6  \n7-12               0    0    0  \n"
     ]
    }
   ],
   "source": [
    "print(pd.pivot_table(tc, index='churn_yes_range', columns='churn_yes', aggfunc=len, fill_value=0))"
   ]
  },
  {
   "cell_type": "code",
   "execution_count": 25,
   "metadata": {},
   "outputs": [
    {
     "output_type": "stream",
     "name": "stdout",
     "text": [
      "Original DataFrame:\n    ord_no  purch_amt  customer_id  sales_id\n0    70001     150.50         3005      5002\n1    70009     270.65         3001      5003\n2    70002      65.26         3002      5004\n3    70004     110.50         3009      5003\n4    70007     948.50         3005      5002\n5    70005    2400.60         3007      5001\n6    70008    5760.00         3002      5005\n7    70010    1983.43         3004      5007\n8    70003    2480.40         3009      5008\n9    70012     250.45         3008      5004\n10   70011      75.29         3003      5005\n11   70013    3045.60         3002      5001 \n\ncustomer_id           3001  3002  3003  3004  3005  3007  3008  3009\nsales_id                                                            \n(5000.993, 5003.333]     1     1     0     0     2     1     0     1\n(5003.333, 5005.667]     0     2     1     0     0     0     1     0\n(5005.667, 5008.0]       0     0     0     1     0     0     0     1\n"
     ]
    }
   ],
   "source": [
    "dfx = pd.DataFrame({\n",
    "'ord_no':[70001,70009,70002,70004,70007,70005,70008,70010,70003,70012,70011,70013],\n",
    "'purch_amt':[150.5,270.65,65.26,110.5,948.5,2400.6,5760,1983.43,2480.4,250.45, 75.29,3045.6],\n",
    "'customer_id':[3005,3001,3002,3009,3005,3007,3002,3004,3009,3008,3003,3002],\n",
    "'sales_id':[5002,5003,5004,5003,5002,5001,5005,5007,5008,5004,5005,5001]})\n",
    "print(\"Original DataFrame:\")\n",
    "print(dfx, \"\\n\")\n",
    "\n",
    "groups = dfx.groupby([pd.cut(dfx.sales_id, 3), 'customer_id'])\n",
    "result = groups.size().unstack()\n",
    "print(result)"
   ]
  },
  {
   "source": [
    "* Highest customer churn between 0-10 months\n",
    "* The more customers tenure, the less customer churn"
   ],
   "cell_type": "markdown",
   "metadata": {}
  },
  {
   "cell_type": "code",
   "execution_count": null,
   "metadata": {},
   "outputs": [],
   "source": [
    "# load dataset\n",
    "df = pd.read_excel(\"Hours.xls\")\n",
    "\n",
    "# view dataset\n",
    "print(df)\n",
    "  \n",
    "# plot a Stacked Bar Chart using matplotlib\n",
    "df.plot(\n",
    "  x = 'Name', \n",
    "  kind = 'barh', \n",
    "  stacked = True, \n",
    "  title = 'Percentage Stacked Bar Graph', \n",
    "  mark_right = True)\n",
    "  \n",
    "df_total = df[\"Studied\"] + df[\"Slept\"] + df[\"Other\"]\n",
    "df_rel = df[df.columns[1:]].div(df_total, 0)*100\n",
    "\n",
    "for n in df_rel:\n",
    "    for i, (cs, ab, pc) in enumerate(zip(df.iloc[:, 1:].cumsum(1)[n], \n",
    "                                         df[n], df_rel[n])):\n",
    "        plt.text(cs - ab / 2, i, str(np.round(pc, 1)) + '%', \n",
    "                 va = 'center', ha = 'center', rotation = 20, fontsize = 8)"
   ]
  },
  {
   "cell_type": "code",
   "execution_count": null,
   "metadata": {},
   "outputs": [],
   "source": [
    "i, j = (1, 2)\n",
    "\n",
    "for i, j in [(1, 2), (3, 4), (5, 6)]:\n",
    "    print(i, j)"
   ]
  },
  {
   "source": [],
   "cell_type": "code",
   "metadata": {},
   "execution_count": null,
   "outputs": []
  },
  {
   "cell_type": "code",
   "execution_count": null,
   "metadata": {},
   "outputs": [],
   "source": [
    "adj = [\"red\", \"big\", \"tasty\"]\n",
    "fruits = [\"apple\", \"banana\", \"cherry\"]\n",
    "\n",
    "for x in adj:\n",
    "  for y in fruits:\n",
    "    print(x, y)"
   ]
  },
  {
   "cell_type": "code",
   "execution_count": null,
   "metadata": {},
   "outputs": [],
   "source": [
    "grocery = ['bread', 'milk', 'butter']\n",
    "\n",
    "for item in grocery:\n",
    "  print(item)\n",
    "\n",
    "print('\\n')\n",
    "\n",
    "for count, item in enumerate(grocery):\n",
    "  print(count, item)\n",
    "\n",
    "print('\\n')\n",
    "\n",
    "# changing default start value\n",
    "for count, item in enumerate(grocery, 100):\n",
    "  print(count, item)"
   ]
  },
  {
   "source": [
    "#### 1.4.3 Monthly Charges (Continuous Feature)"
   ],
   "cell_type": "markdown",
   "metadata": {}
  },
  {
   "cell_type": "code",
   "execution_count": null,
   "metadata": {},
   "outputs": [],
   "source": [
    "monthlycharges_churn_no = df1[df1.Churn=='No'].MonthlyCharges\n",
    "monthlycharges_churn_yes = df1[df1.Churn=='Yes'].MonthlyCharges\n",
    "\n",
    "plt.figure(figsize=(8, 4))\n",
    "plt.xlabel('Monthly Charges', size=13, labelpad=5)\n",
    "plt.ylabel('Number Of Customer', size=13, labelpad=5)\n",
    "plt.title('Customer Churn by Monthly Charges', size=15, y=1.10)\n",
    "plt.hist([monthlycharges_churn_yes, monthlycharges_churn_no], bins=10, stacked=True)\n",
    "plt.legend(['Churn=Yes','Churn=No'])\n",
    "\n",
    "plt.show()"
   ]
  },
  {
   "cell_type": "code",
   "execution_count": null,
   "metadata": {},
   "outputs": [],
   "source": []
  },
  {
   "source": [
    "#### 1.4.4 Total Charges (Continuous Feature)"
   ],
   "cell_type": "markdown",
   "metadata": {}
  },
  {
   "cell_type": "code",
   "execution_count": null,
   "metadata": {},
   "outputs": [],
   "source": [
    "totalcharges_churn_no = df1[df1.Churn=='No'].TotalCharges\n",
    "totalcharges_churn_yes = df1[df1.Churn=='Yes'].TotalCharges\n",
    "\n",
    "plt.figure(figsize=(8, 4))\n",
    "plt.xlabel('Total Charges', size=13, labelpad=5)\n",
    "plt.ylabel('Number Of Customer', size=13, labelpad=5)\n",
    "plt.title('Customer Churn by Total Charges', size=15, y=1.10)\n",
    "plt.hist([totalcharges_churn_yes, totalcharges_churn_no], bins=10, stacked=True)\n",
    "plt.legend(['Churn=Yes','Churn=No'])\n",
    "\n",
    "plt.show()"
   ]
  },
  {
   "cell_type": "code",
   "execution_count": null,
   "metadata": {},
   "outputs": [],
   "source": []
  },
  {
   "source": [
    "### 1.6 Correlations"
   ],
   "cell_type": "markdown",
   "metadata": {}
  },
  {
   "cell_type": "code",
   "execution_count": null,
   "metadata": {},
   "outputs": [],
   "source": [
    "df_corr = df1.corr().abs().unstack().sort_values(kind=\"quicksort\", ascending=False).reset_index()\n",
    "df_corr.rename(columns={\"level_0\": \"Feature 1\", \"level_1\": \"Feature 2\", 0: 'Correlation Coefficient'}, inplace=True)\n",
    "df_corr.drop(df_corr.iloc[1::2].index, inplace=True)\n",
    "df_corr_nd = df_corr.drop(df_corr[df_corr['Correlation Coefficient'] == 1.0].index)"
   ]
  },
  {
   "cell_type": "code",
   "execution_count": null,
   "metadata": {},
   "outputs": [],
   "source": [
    "# Correlations\n",
    "corr = df_corr_nd['Correlation Coefficient'] > 0.1\n",
    "df_corr_nd[corr]"
   ]
  },
  {
   "cell_type": "code",
   "execution_count": null,
   "metadata": {},
   "outputs": [],
   "source": []
  },
  {
   "cell_type": "code",
   "execution_count": null,
   "metadata": {},
   "outputs": [],
   "source": []
  },
  {
   "cell_type": "code",
   "execution_count": null,
   "metadata": {},
   "outputs": [],
   "source": []
  },
  {
   "cell_type": "code",
   "execution_count": null,
   "metadata": {},
   "outputs": [],
   "source": [
    "df1.describe()"
   ]
  },
  {
   "cell_type": "code",
   "execution_count": null,
   "metadata": {},
   "outputs": [],
   "source": [
    "df1.describe(include='category')"
   ]
  },
  {
   "cell_type": "code",
   "execution_count": null,
   "metadata": {},
   "outputs": [],
   "source": [
    "#box plot Churn/Tenure\n",
    "var = 'Churn'\n",
    "data = pd.concat([df1['tenure'], df1[var]], axis=1)\n",
    "f, ax = plt.subplots(figsize=(3, 5))\n",
    "fig = sns.boxplot(x=var, y=\"tenure\", data=data)\n",
    "fig.axis()\n",
    "\n",
    "g = sns.FacetGrid(df1, col='Churn')\n",
    "g.map(plt.hist, 'tenure')"
   ]
  },
  {
   "cell_type": "code",
   "execution_count": null,
   "metadata": {},
   "outputs": [],
   "source": [
    "#box plot Churn/MonthlyCharges\n",
    "var = 'Churn'\n",
    "data = pd.concat([df1['MonthlyCharges'], df1[var]], axis=1)\n",
    "f, ax = plt.subplots(figsize=(3, 5))\n",
    "fig = sns.boxplot(x=var, y=\"MonthlyCharges\", data=data)\n",
    "fig.axis()\n",
    "\n",
    "g = sns.FacetGrid(df1, col='Churn')\n",
    "g.map(plt.hist, 'MonthlyCharges')"
   ]
  },
  {
   "cell_type": "code",
   "execution_count": null,
   "metadata": {},
   "outputs": [],
   "source": [
    "#box plot Churn/TotalCharges\n",
    "var = 'Churn'\n",
    "data = pd.concat([df1['TotalCharges'], df1[var]], axis=1)\n",
    "f, ax = plt.subplots(figsize=(3, 5))\n",
    "fig = sns.boxplot(x=var, y=\"TotalCharges\", data=data)\n",
    "fig.axis()\n",
    "\n",
    "g = sns.FacetGrid(df1, col='Churn')\n",
    "g.map(plt.hist, 'TotalCharges')"
   ]
  },
  {
   "cell_type": "code",
   "execution_count": null,
   "metadata": {},
   "outputs": [],
   "source": [
    "df1.groupby(['Churn', 'gender'])['gender'].count()"
   ]
  },
  {
   "cell_type": "code",
   "execution_count": null,
   "metadata": {},
   "outputs": [],
   "source": [
    "f,ax=plt.subplots(1,2,figsize=(14,6))\n",
    "df1.groupby(['gender'])['Churn'].apply(lambda x: (x=='Yes').sum()).reset_index(name='count').value_counts().plot.pie(explode=[0,0.05], autopct='%1.1f%%', ax=ax[0])\n",
    "ax[0].set_title('% Gender Distribution based on Customer Churn')\n",
    "ax[0].set_ylabel('')\n",
    "sns.countplot(x='Churn', hue='gender', data=df1, ax=ax[1])\n",
    "ax[1].set_title('Customer Churn & Gender Distribution')\n",
    "plt.show()"
   ]
  },
  {
   "cell_type": "code",
   "execution_count": null,
   "metadata": {},
   "outputs": [],
   "source": [
    "# load dataset\n",
    "df = pd.read_excel(\"Hours.xls\")\n",
    "\n",
    "# view dataset\n",
    "print(df)\n",
    "  \n",
    "# plot a Stacked Bar Chart using matplotlib\n",
    "df.plot(\n",
    "  x = 'Name', \n",
    "  kind = 'barh', \n",
    "  stacked = True, \n",
    "  title = 'Percentage Stacked Bar Graph', \n",
    "  mark_right = True)\n",
    "  \n",
    "df_total = df[\"Studied\"] + df[\"Slept\"] + df[\"Other\"]\n",
    "df_rel = df[df.columns[1:]].div(df_total, 0)*100\n",
    "\n",
    "for n in df_rel:\n",
    "    for i, (cs, ab, pc) in enumerate(zip(df.iloc[:, 1:].cumsum(1)[n], \n",
    "                                         df[n], df_rel[n])):\n",
    "        plt.text(cs - ab / 2, i, str(np.round(pc, 1)) + '%', \n",
    "                 va = 'center', ha = 'center', rotation = 20, fontsize = 8)"
   ]
  },
  {
   "cell_type": "code",
   "execution_count": null,
   "metadata": {},
   "outputs": [],
   "source": [
    "tenure_churn_no = df1[df1.Churn=='No'].tenure.reset_index(drop=True).to_list()\n",
    "np.array(tenure_churn_no, dtype='object')\n",
    "\n",
    "tenure_churn_yes = df1[df1.Churn=='Yes'].tenure.reset_index(drop=True).to_list()\n",
    "np.array(tenure_churn_yes, dtype='object')\n",
    "\n",
    "tenure_churn = df1.tenure.reset_index(drop=True).to_list()\n",
    "np.array(tenure_churn_no, dtype='object')\n",
    "\n",
    "# Colours for different percentiles\n",
    "perc_25_colour = 'gold'\n",
    "perc_50_colour = 'mediumaquamarine'\n",
    "perc_75_colour = 'deepskyblue'\n",
    "perc_95_colour = 'peachpuff'\n",
    "\n",
    "# Plot the Histogram from the random data\n",
    "fig, ax = plt.subplots(figsize=(10,8))\n",
    "\n",
    "'''\n",
    "counts  = numpy.ndarray of count of data ponts for each bin/column in the histogram\n",
    "bins    = numpy.ndarray of bin edge/range values\n",
    "patches = a list of Patch objects.\n",
    "        each Patch object contains a Rectnagle object. \n",
    "        e.g. Rectangle(xy=(-2.51953, 0), width=0.501013, height=3, angle=0)\n",
    "'''\n",
    "\n",
    "counts, bins, patches = ax.hist(tenure_churn_yes, edgecolor='gray', bins=[0,6,12,18,24,30,36,42,48,54,60,66,72,78], facecolor=perc_50_colour, stacked=True)\n",
    "\n",
    "# Set the ticks to be at the edges of the bins.\n",
    "ax.set_xticks(bins.round(0))\n",
    "plt.xticks(rotation=70)\n",
    "\n",
    "# Set the graph title and axes titles\n",
    "plt.title('Distribution of randomly generated numbers', fontsize=20)\n",
    "plt.ylabel('Count', fontsize=15)\n",
    "plt.xlabel('Random Numbers', fontsize=15)\n",
    "\n",
    "# Change the colors of bars at the edges\n",
    "twentyfifth, seventyfifth, ninetyfifth = np.percentile(tenure_churn_yes, [25, 75, 95])\n",
    "for patch, leftside, rightside in zip(patches, bins[:-1], bins[1:]):\n",
    "    if rightside < twentyfifth:\n",
    "        patch.set_facecolor(perc_25_colour)\n",
    "    elif leftside > ninetyfifth:\n",
    "        patch.set_facecolor(perc_95_colour)\n",
    "    elif leftside > seventyfifth:\n",
    "        patch.set_facecolor(perc_75_colour)\n",
    "     \n",
    "# Calculate bar centre to display the count of data points and %\n",
    "bin_x_centers = 0.53 * np.diff(bins) + bins[:-1]\n",
    "bin_y_centers = 0.05 * ax.get_yticks()[1]\n",
    "\n",
    "# Display the the count of data points and % for each bar in histogram\n",
    "for i in range(len(bins)-1):\n",
    "    bin_label = \"{0:,} \\n\".format(counts[i]) + \"({0:,.1f}%)\".format((counts[i]/counts.sum())*100)\n",
    "    plt.text(bin_x_centers[i], bin_y_centers, bin_label, rotation=70, rotation_mode='anchor')\n",
    "\n",
    "# Annotation for bar values\n",
    "ax.annotate('Each bar shows count and percentage of total',\n",
    "            xy=(.85,.27), xycoords='figure fraction',\n",
    "            horizontalalignment='center', verticalalignment='bottom',\n",
    "            fontsize=11, bbox=dict(boxstyle=\"round\", fc=\"white\"),\n",
    "            rotation=90)\n",
    "\n",
    "#create legend\n",
    "handles = [Rectangle((0,0),1,1,color=c,ec=\"k\") for c in [perc_25_colour, perc_50_colour, perc_75_colour, perc_95_colour]]\n",
    "labels = [\"0-25 Percentile\",\"25-50 Percentile\", \"50-75 Percentile\", \">95 Percentile\"]\n",
    "plt.legend(handles, labels, bbox_to_anchor=(0.5, 0., 0.80, 0.99))\n",
    "\n",
    "# Display the graph\n",
    "plt.show()"
   ]
  },
  {
   "cell_type": "code",
   "execution_count": null,
   "metadata": {},
   "outputs": [],
   "source": []
  }
 ]
}