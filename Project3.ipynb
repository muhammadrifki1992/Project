{
 "metadata": {
  "language_info": {
   "codemirror_mode": {
    "name": "ipython",
    "version": 3
   },
   "file_extension": ".py",
   "mimetype": "text/x-python",
   "name": "python",
   "nbconvert_exporter": "python",
   "pygments_lexer": "ipython3",
   "version": "3.8.5-final"
  },
  "orig_nbformat": 2,
  "kernelspec": {
   "name": "python3",
   "display_name": "Python 3",
   "language": "python"
  }
 },
 "nbformat": 4,
 "nbformat_minor": 2,
 "cells": [
  {
   "cell_type": "code",
   "execution_count": 1,
   "metadata": {},
   "outputs": [],
   "source": [
    "# Standard libraries\n",
    "import numpy as np\n",
    "import pandas as pd\n",
    "import matplotlib.pyplot as plt\n",
    "import glob\n",
    "import plotly.express as px\n",
    "import os"
   ]
  },
  {
   "cell_type": "code",
   "execution_count": 4,
   "metadata": {},
   "outputs": [],
   "source": [
    "jan = pd.read_csv('D:/Data & Analytic/Project/eCommerce behavior data from multi category store/2020-Jan.csv') # Read CSV file"
   ]
  },
  {
   "cell_type": "code",
   "execution_count": 5,
   "metadata": {},
   "outputs": [
    {
     "output_type": "stream",
     "name": "stdout",
     "text": [
      "<class 'pandas.core.frame.DataFrame'>\nRangeIndex: 55967041 entries, 0 to 55967040\nData columns (total 9 columns):\n #   Column         Dtype  \n---  ------         -----  \n 0   event_time     object \n 1   event_type     object \n 2   product_id     int64  \n 3   category_id    int64  \n 4   category_code  object \n 5   brand          object \n 6   price          float64\n 7   user_id        int64  \n 8   user_session   object \ndtypes: float64(1), int64(3), object(5)\nmemory usage: 20.9 GB\n"
     ]
    }
   ],
   "source": [
    "jan.info(memory_usage='deep')"
   ]
  },
  {
   "cell_type": "code",
   "execution_count": 6,
   "metadata": {},
   "outputs": [
    {
     "output_type": "execute_result",
     "data": {
      "text/plain": [
       "                event_time event_type  product_id          category_id  \\\n",
       "0  2020-01-01 00:00:00 UTC       view     1005073  2232732093077520756   \n",
       "1  2020-01-01 00:00:01 UTC       view     1005192  2232732093077520756   \n",
       "2  2020-01-01 00:00:01 UTC       view   100063693  2053013552427434207   \n",
       "3  2020-01-01 00:00:01 UTC       view     5100816  2232732103831716449   \n",
       "4  2020-01-01 00:00:02 UTC       view   100014325  2232732103294845523   \n",
       "\n",
       "              category_code    brand    price    user_id  \\\n",
       "0  construction.tools.light  samsung  1130.02  519698804   \n",
       "1  construction.tools.light    meizu   205.67  527767423   \n",
       "2             apparel.shirt   turtle   136.43  519046195   \n",
       "3             apparel.shoes   xiaomi    29.95  518269232   \n",
       "4    apparel.shoes.step_ins    intel   167.20  587748686   \n",
       "\n",
       "                           user_session  \n",
       "0  69b5d72f-fd6e-4fed-aa23-1286b2ca89a0  \n",
       "1  7f596032-ccbf-4643-9bad-e36a209512b4  \n",
       "2  d1e2f343-84bb-49bd-b13d-ca0f1ed9910e  \n",
       "3  0444841c-38ef-410c-b11f-7b35ea4e5991  \n",
       "4  31b7d4cf-dfac-4895-9927-90fa3254f860  "
      ],
      "text/html": "<div>\n<style scoped>\n    .dataframe tbody tr th:only-of-type {\n        vertical-align: middle;\n    }\n\n    .dataframe tbody tr th {\n        vertical-align: top;\n    }\n\n    .dataframe thead th {\n        text-align: right;\n    }\n</style>\n<table border=\"1\" class=\"dataframe\">\n  <thead>\n    <tr style=\"text-align: right;\">\n      <th></th>\n      <th>event_time</th>\n      <th>event_type</th>\n      <th>product_id</th>\n      <th>category_id</th>\n      <th>category_code</th>\n      <th>brand</th>\n      <th>price</th>\n      <th>user_id</th>\n      <th>user_session</th>\n    </tr>\n  </thead>\n  <tbody>\n    <tr>\n      <th>0</th>\n      <td>2020-01-01 00:00:00 UTC</td>\n      <td>view</td>\n      <td>1005073</td>\n      <td>2232732093077520756</td>\n      <td>construction.tools.light</td>\n      <td>samsung</td>\n      <td>1130.02</td>\n      <td>519698804</td>\n      <td>69b5d72f-fd6e-4fed-aa23-1286b2ca89a0</td>\n    </tr>\n    <tr>\n      <th>1</th>\n      <td>2020-01-01 00:00:01 UTC</td>\n      <td>view</td>\n      <td>1005192</td>\n      <td>2232732093077520756</td>\n      <td>construction.tools.light</td>\n      <td>meizu</td>\n      <td>205.67</td>\n      <td>527767423</td>\n      <td>7f596032-ccbf-4643-9bad-e36a209512b4</td>\n    </tr>\n    <tr>\n      <th>2</th>\n      <td>2020-01-01 00:00:01 UTC</td>\n      <td>view</td>\n      <td>100063693</td>\n      <td>2053013552427434207</td>\n      <td>apparel.shirt</td>\n      <td>turtle</td>\n      <td>136.43</td>\n      <td>519046195</td>\n      <td>d1e2f343-84bb-49bd-b13d-ca0f1ed9910e</td>\n    </tr>\n    <tr>\n      <th>3</th>\n      <td>2020-01-01 00:00:01 UTC</td>\n      <td>view</td>\n      <td>5100816</td>\n      <td>2232732103831716449</td>\n      <td>apparel.shoes</td>\n      <td>xiaomi</td>\n      <td>29.95</td>\n      <td>518269232</td>\n      <td>0444841c-38ef-410c-b11f-7b35ea4e5991</td>\n    </tr>\n    <tr>\n      <th>4</th>\n      <td>2020-01-01 00:00:02 UTC</td>\n      <td>view</td>\n      <td>100014325</td>\n      <td>2232732103294845523</td>\n      <td>apparel.shoes.step_ins</td>\n      <td>intel</td>\n      <td>167.20</td>\n      <td>587748686</td>\n      <td>31b7d4cf-dfac-4895-9927-90fa3254f860</td>\n    </tr>\n  </tbody>\n</table>\n</div>"
     },
     "metadata": {},
     "execution_count": 6
    }
   ],
   "source": [
    "jan.head()"
   ]
  },
  {
   "cell_type": "code",
   "execution_count": 7,
   "metadata": {},
   "outputs": [
    {
     "output_type": "stream",
     "name": "stdout",
     "text": [
      "['event_time' 'event_type' 'product_id' 'category_id' 'category_code'\n 'brand' 'price' 'user_id' 'user_session']\n"
     ]
    }
   ],
   "source": [
    "print(jan.columns.values)"
   ]
  },
  {
   "cell_type": "code",
   "execution_count": 11,
   "metadata": {},
   "outputs": [
    {
     "output_type": "stream",
     "name": "stdout",
     "text": [
      "Average memory usage for float64 columns: 213.50 MB\n",
      "Average memory usage for int64 columns: 320.25 MB\n",
      "Average memory usage for object columns: 3278.60 MB\n"
     ]
    }
   ],
   "source": [
    "for dtype in ['float64','int64','object']:\n",
    "    selected_dtype = jan.select_dtypes(include=[dtype])\n",
    "    mean_usage_b = selected_dtype.memory_usage(deep=True).mean()\n",
    "    mean_usage_mb = mean_usage_b / 1024 ** 2\n",
    "    print(\"Average memory usage for {} columns: {:.2f} MB\".format(dtype,mean_usage_mb))"
   ]
  },
  {
   "cell_type": "code",
   "execution_count": 13,
   "metadata": {},
   "outputs": [
    {
     "output_type": "stream",
     "name": "stdout",
     "text": [
      "1280.98 MB\n853.99 MB\n"
     ]
    },
    {
     "output_type": "execute_result",
     "data": {
      "text/plain": [
       "        before  after\n",
       "uint32     NaN    2.0\n",
       "int64      3.0    NaN\n",
       "uint64     NaN    1.0"
      ],
      "text/html": "<div>\n<style scoped>\n    .dataframe tbody tr th:only-of-type {\n        vertical-align: middle;\n    }\n\n    .dataframe tbody tr th {\n        vertical-align: top;\n    }\n\n    .dataframe thead th {\n        text-align: right;\n    }\n</style>\n<table border=\"1\" class=\"dataframe\">\n  <thead>\n    <tr style=\"text-align: right;\">\n      <th></th>\n      <th>before</th>\n      <th>after</th>\n    </tr>\n  </thead>\n  <tbody>\n    <tr>\n      <th>uint32</th>\n      <td>NaN</td>\n      <td>2.0</td>\n    </tr>\n    <tr>\n      <th>int64</th>\n      <td>3.0</td>\n      <td>NaN</td>\n    </tr>\n    <tr>\n      <th>uint64</th>\n      <td>NaN</td>\n      <td>1.0</td>\n    </tr>\n  </tbody>\n</table>\n</div>"
     },
     "metadata": {},
     "execution_count": 13
    }
   ],
   "source": [
    "# We're going to be calculating memory usage a lot,\n",
    "# so we'll create a function to save us some time!\n",
    "# Optimizing Numeric Columns with Subtypes\n",
    "def mem_usage(pandas_obj):\n",
    "    if isinstance(pandas_obj,pd.DataFrame):\n",
    "        usage_b = pandas_obj.memory_usage(deep=True).sum()\n",
    "    else: # we assume if not a df it's a series\n",
    "        usage_b = pandas_obj.memory_usage(deep=True)\n",
    "    usage_mb = usage_b / 1024 ** 2 # convert bytes to megabytes\n",
    "    return \"{:.2f} MB\".format(usage_mb)\n",
    "jan_int = jan.select_dtypes(include=['int64'])\n",
    "converted_int = jan_int.apply(pd.to_numeric,downcast='unsigned')\n",
    "print(mem_usage(jan_int))\n",
    "print(mem_usage(converted_int))\n",
    "compare_ints = pd.concat([jan_int.dtypes,converted_int.dtypes],axis=1)\n",
    "compare_ints.columns = ['before','after']\n",
    "compare_ints.apply(pd.Series.value_counts)"
   ]
  },
  {
   "cell_type": "code",
   "execution_count": 15,
   "metadata": {},
   "outputs": [
    {
     "output_type": "stream",
     "name": "stdout",
     "text": [
      "426.99 MB\n213.50 MB\n"
     ]
    },
    {
     "output_type": "execute_result",
     "data": {
      "text/plain": [
       "         before  after\n",
       "float32     NaN    1.0\n",
       "float64     1.0    NaN"
      ],
      "text/html": "<div>\n<style scoped>\n    .dataframe tbody tr th:only-of-type {\n        vertical-align: middle;\n    }\n\n    .dataframe tbody tr th {\n        vertical-align: top;\n    }\n\n    .dataframe thead th {\n        text-align: right;\n    }\n</style>\n<table border=\"1\" class=\"dataframe\">\n  <thead>\n    <tr style=\"text-align: right;\">\n      <th></th>\n      <th>before</th>\n      <th>after</th>\n    </tr>\n  </thead>\n  <tbody>\n    <tr>\n      <th>float32</th>\n      <td>NaN</td>\n      <td>1.0</td>\n    </tr>\n    <tr>\n      <th>float64</th>\n      <td>1.0</td>\n      <td>NaN</td>\n    </tr>\n  </tbody>\n</table>\n</div>"
     },
     "metadata": {},
     "execution_count": 15
    }
   ],
   "source": [
    "jan_float = jan.select_dtypes(include=['float64'])\n",
    "converted_float = jan_float.apply(pd.to_numeric,downcast='float')\n",
    "print(mem_usage(jan_float))\n",
    "print(mem_usage(converted_float))\n",
    "compare_floats = pd.concat([jan_float.dtypes,converted_float.dtypes],axis=1)\n",
    "compare_floats.columns = ['before','after']\n",
    "compare_floats.apply(pd.Series.value_counts)"
   ]
  },
  {
   "cell_type": "code",
   "execution_count": null,
   "metadata": {},
   "outputs": [],
   "source": []
  }
 ]
}